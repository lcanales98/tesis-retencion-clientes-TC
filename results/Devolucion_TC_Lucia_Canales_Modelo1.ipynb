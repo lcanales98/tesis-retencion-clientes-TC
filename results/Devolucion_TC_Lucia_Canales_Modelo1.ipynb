{
 "cells": [
  {
   "cell_type": "markdown",
   "id": "bf3a2253",
   "metadata": {},
   "source": [
    "# Análisis de retención de clientes mediante técnicas de aprendizaje automático - Modelo 1 \n",
    "Lucia Canales Fischer\n"
   ]
  },
  {
   "cell_type": "code",
   "execution_count": 1,
   "id": "e601f904",
   "metadata": {
    "scrolled": false
   },
   "outputs": [],
   "source": [
    "#!pip install pyodbc\n",
    "#!pip install pandas \n",
    "#!pip install xgboost\n",
    "#!pip install pandas openpyxl\n"
   ]
  },
  {
   "cell_type": "code",
   "execution_count": 1,
   "id": "95beeffd",
   "metadata": {},
   "outputs": [],
   "source": [
    "import pandas as pd\n",
    "import plotly.express as px\n",
    "import matplotlib.pyplot as plt\n",
    "import seaborn as sns\n",
    "import numpy as np\n",
    "import pyodbc"
   ]
  },
  {
   "cell_type": "code",
   "execution_count": 2,
   "id": "1456ab82",
   "metadata": {},
   "outputs": [],
   "source": [
    "ruta = \"C:\\\\Users\\\\lucia\\\\Downloads\\\\tesis\\\\modelo_1.xlsx\"\n",
    "devoluciones = pd.read_excel(ruta)"
   ]
  },
  {
   "cell_type": "code",
   "execution_count": 3,
   "id": "68ed575e",
   "metadata": {},
   "outputs": [],
   "source": [
    "devoluciones['fechaingreso'] = pd.to_datetime(devoluciones['fechaingreso'])\n",
    "devoluciones['mes_entrega_tarjeta'] = devoluciones['fechaingreso'].dt.month"
   ]
  },
  {
   "cell_type": "code",
   "execution_count": 4,
   "id": "06585a0a",
   "metadata": {},
   "outputs": [],
   "source": [
    "devoluciones['fecha'] = pd.to_datetime(devoluciones['AñoMesIngreso'], format='%Y%m')\n",
    "devoluciones['año'] = devoluciones['fecha'].dt.year\n",
    "devoluciones['mes'] = devoluciones['fecha'].dt.month\n",
    "devoluciones['log_ingresos'] = np.log(devoluciones['ingresos'])"
   ]
  },
  {
   "cell_type": "markdown",
   "id": "023c5795",
   "metadata": {},
   "source": [
    "# ONE HOT ENCODING"
   ]
  },
  {
   "cell_type": "code",
   "execution_count": 5,
   "id": "61c08910",
   "metadata": {},
   "outputs": [],
   "source": [
    "devoluciones_encoded = pd.get_dummies(devoluciones, columns=['Canal_ingreso', 'vuelta_clases','sexo', 'estado_civil','departamento','mes_entrega_tarjeta'])\n",
    "devoluciones_encoded = devoluciones_encoded.drop(columns='cuenta')"
   ]
  },
  {
   "cell_type": "markdown",
   "id": "db9c04e4",
   "metadata": {},
   "source": [
    "# Definición de TRAIN y TEST"
   ]
  },
  {
   "cell_type": "code",
   "execution_count": 6,
   "id": "36aae138",
   "metadata": {},
   "outputs": [],
   "source": [
    "from sklearn.model_selection import train_test_split\n",
    "\n",
    "X = devoluciones_encoded.drop(columns=['devuelta'])  \n",
    "y = devoluciones_encoded['devuelta']  \n",
    "X_train, X_test, y_train, y_test = train_test_split(X, y, test_size=0.3, random_state=42)"
   ]
  },
  {
   "cell_type": "code",
   "execution_count": 7,
   "id": "283cc684",
   "metadata": {},
   "outputs": [],
   "source": [
    "eliminar_full = ['fechaingreso','fecha_nacimiento','id_estado_civil','año','mes', 'ingresos_inferidos',\n",
    "                        'id_departamento','id_tipotrabajo','tipo_trabajo','FechaModificacion', \n",
    "                        'AñoMesModificacion','UltimoEstado','UltimoIdEstado','AñoMesIngreso', \n",
    "                        'fecha','log_ingresos', 'zona','vuelta_clases_no', 'vuelta_clases_si', 'ingresos'] "
   ]
  },
  {
   "cell_type": "code",
   "execution_count": 8,
   "id": "93877ca9",
   "metadata": {},
   "outputs": [],
   "source": [
    "X_train_full = X_train.drop(columns=eliminar_full)\n",
    "X_test_full = X_test.drop(columns=eliminar_full)"
   ]
  },
  {
   "cell_type": "markdown",
   "id": "99049e6d",
   "metadata": {},
   "source": [
    "# LOGISTICA "
   ]
  },
  {
   "cell_type": "code",
   "execution_count": 9,
   "id": "f20f0bd1",
   "metadata": {},
   "outputs": [],
   "source": [
    "from sklearn.linear_model import LogisticRegression\n",
    "from sklearn.metrics import accuracy_score \n",
    "\n",
    "logit_model = LogisticRegression()\n",
    "\n",
    "logit_model.fit(X_train_full, y_train)\n",
    "\n",
    "y_pred_log = logit_model.predict(X_test_full)\n",
    "\n",
    "accuracy = accuracy_score(y_test, y_pred_log)"
   ]
  },
  {
   "cell_type": "code",
   "execution_count": 10,
   "id": "3666387d",
   "metadata": {
    "scrolled": false
   },
   "outputs": [
    {
     "name": "stderr",
     "output_type": "stream",
     "text": [
      "C:\\Users\\lucia\\anaconda3\\lib\\site-packages\\statsmodels\\tsa\\tsatools.py:142: FutureWarning: In a future version of pandas all arguments of concat except for the argument 'objs' will be keyword-only\n",
      "  x = pd.concat(x[::order], 1)\n"
     ]
    },
    {
     "name": "stdout",
     "output_type": "stream",
     "text": [
      "Optimization terminated successfully.\n",
      "         Current function value: 0.182997\n",
      "         Iterations 8\n",
      "Accuracy: 0.9541462656407865\n",
      "                           Logit Regression Results                           \n",
      "==============================================================================\n",
      "Dep. Variable:               devuelta   No. Observations:                30022\n",
      "Model:                          Logit   Df Residuals:                    29982\n",
      "Method:                           MLE   Df Model:                           39\n",
      "Date:                Mon, 25 Nov 2024   Pseudo R-squ.:                 0.04031\n",
      "Time:                        20:34:06   Log-Likelihood:                -5493.9\n",
      "converged:                       True   LL-Null:                       -5724.7\n",
      "Covariance Type:            nonrobust   LLR p-value:                 1.255e-73\n",
      "===============================================================================================\n",
      "                                  coef    std err          z      P>|z|      [0.025      0.975]\n",
      "-----------------------------------------------------------------------------------------------\n",
      "const                         -11.2576   2.09e+06   -5.4e-06      1.000   -4.09e+06    4.09e+06\n",
      "edad_solicitud                  0.0198      0.002     11.286      0.000       0.016       0.023\n",
      "LimiteCredito               -2.784e-06   1.63e-06     -1.706      0.088   -5.98e-06    4.14e-07\n",
      "Canal_ingreso_Call Center       1.2340   1.49e+06   8.28e-07      1.000   -2.92e+06    2.92e+06\n",
      "Canal_ingreso_Red               0.8974   1.46e+06   6.15e-07      1.000   -2.86e+06    2.86e+06\n",
      "Canal_ingreso_Venta Digital     0.7081   1.43e+06   4.96e-07      1.000    -2.8e+06     2.8e+06\n",
      "sexo_F                          6.7169        nan        nan        nan         nan         nan\n",
      "sexo_M                          6.6509        nan        nan        nan         nan         nan\n",
      "estado_civil_Casado            -0.1926   1.96e+06  -9.81e-08      1.000   -3.85e+06    3.85e+06\n",
      "estado_civil_Divorciado        -0.1732   1.97e+06   -8.8e-08      1.000   -3.86e+06    3.86e+06\n",
      "estado_civil_Separado          -0.4936   1.97e+06  -2.51e-07      1.000   -3.85e+06    3.85e+06\n",
      "estado_civil_Soltero           -0.2486   1.97e+06  -1.26e-07      1.000   -3.85e+06    3.85e+06\n",
      "estado_civil_Unión Libre       -0.4490   1.97e+06  -2.28e-07      1.000   -3.86e+06    3.86e+06\n",
      "estado_civil_Viudo             -0.4215   1.97e+06  -2.14e-07      1.000   -3.86e+06    3.86e+06\n",
      "departamento_Artigas           -0.3036        nan        nan        nan         nan         nan\n",
      "departamento_Canelones          0.2011        nan        nan        nan         nan         nan\n",
      "departamento_Cerro Largo       -0.0936        nan        nan        nan         nan         nan\n",
      "departamento_Colonia           -0.0096        nan        nan        nan         nan         nan\n",
      "departamento_Durazno           -0.0256        nan        nan        nan         nan         nan\n",
      "departamento_Flores             0.3093        nan        nan        nan         nan         nan\n",
      "departamento_Florida            0.0164        nan        nan        nan         nan         nan\n",
      "departamento_Lavalleja          0.3509        nan        nan        nan         nan         nan\n",
      "departamento_Maldonado          0.2746        nan        nan        nan         nan         nan\n",
      "departamento_Montevideo         0.2446        nan        nan        nan         nan         nan\n",
      "departamento_Paysandú          -0.2906        nan        nan        nan         nan         nan\n",
      "departamento_Rivera            -0.5881        nan        nan        nan         nan         nan\n",
      "departamento_Rocha             -0.7727        nan        nan        nan         nan         nan\n",
      "departamento_Río Negro         -0.3034        nan        nan        nan         nan         nan\n",
      "departamento_Salto              0.0004        nan        nan        nan         nan         nan\n",
      "departamento_San José          -0.1023        nan        nan        nan         nan         nan\n",
      "departamento_Soriano            0.0841        nan        nan        nan         nan         nan\n",
      "departamento_Tacuarembó        -0.1794        nan        nan        nan         nan         nan\n",
      "departamento_Treinta y Tres    -0.7910        nan        nan        nan         nan         nan\n",
      "mes_entrega_tarjeta_1          -1.3663   4.45e+05  -3.07e-06      1.000   -8.72e+05    8.72e+05\n",
      "mes_entrega_tarjeta_2          -0.8828   4.45e+05  -1.98e-06      1.000   -8.72e+05    8.72e+05\n",
      "mes_entrega_tarjeta_3          -0.0456   4.45e+05  -1.03e-07      1.000   -8.72e+05    8.72e+05\n",
      "mes_entrega_tarjeta_4          -0.1151   4.45e+05  -2.59e-07      1.000   -8.72e+05    8.72e+05\n",
      "mes_entrega_tarjeta_5           0.0445   4.45e+05      1e-07      1.000   -8.72e+05    8.72e+05\n",
      "mes_entrega_tarjeta_6          -0.1954   4.45e+05  -4.39e-07      1.000   -8.72e+05    8.72e+05\n",
      "mes_entrega_tarjeta_7          -0.0539   4.45e+05  -1.21e-07      1.000   -8.72e+05    8.72e+05\n",
      "mes_entrega_tarjeta_8          -0.0292   4.45e+05  -6.56e-08      1.000   -8.72e+05    8.72e+05\n",
      "mes_entrega_tarjeta_9           0.0677   4.45e+05   1.52e-07      1.000   -8.72e+05    8.72e+05\n",
      "mes_entrega_tarjeta_10          0.1428   4.45e+05   3.21e-07      1.000   -8.72e+05    8.72e+05\n",
      "mes_entrega_tarjeta_11          0.1799   4.45e+05   4.04e-07      1.000   -8.72e+05    8.72e+05\n",
      "mes_entrega_tarjeta_12          0.2748   4.45e+05   6.18e-07      1.000   -8.72e+05    8.72e+05\n",
      "===============================================================================================\n"
     ]
    }
   ],
   "source": [
    "import statsmodels.api as sm\n",
    "from sklearn.metrics import accuracy_score\n",
    "import numpy as np\n",
    "\n",
    "X_train_full = sm.add_constant(X_train_full)\n",
    "X_test_full = sm.add_constant(X_test_full)\n",
    "\n",
    "logit_model = sm.Logit(y_train, X_train_full)\n",
    "result = logit_model.fit()\n",
    "\n",
    "y_pred_log_prob = result.predict(X_test_full)\n",
    "y_pred_log = np.where(y_pred_log_prob > 0.5, 1, 0) \n",
    "\n",
    "accuracy = accuracy_score(y_test, y_pred_log)\n",
    "print(\"Accuracy:\", accuracy)\n",
    "\n",
    "print(result.summary())\n"
   ]
  },
  {
   "cell_type": "code",
   "execution_count": 11,
   "id": "93e88abe",
   "metadata": {},
   "outputs": [
    {
     "data": {
      "image/png": "[encoded data removed]",
      "text/plain": [
       "<Figure size 576x432 with 1 Axes>"
      ]
     },
     "metadata": {
      "needs_background": "light"
     },
     "output_type": "display_data"
    }
   ],
   "source": [
    "from sklearn.model_selection import train_test_split\n",
    "from sklearn.linear_model import LogisticRegression\n",
    "from sklearn.metrics import accuracy_score, roc_curve, roc_auc_score\n",
    "import matplotlib.pyplot as plt\n",
    "\n",
    "\n",
    "logit_model = LogisticRegression()\n",
    "logit_model.fit(X_train_full, y_train)\n",
    "\n",
    "y_pred_log = logit_model.predict(X_test_full)\n",
    "y_prob_log = logit_model.predict_proba(X_test_full)[:, 1]\n",
    "\n",
    "fpr_log, tpr_log, thresholds_log = roc_curve(y_test, y_prob_log)\n",
    "auc_log = roc_auc_score(y_test, y_prob_log)\n",
    "\n",
    "plt.figure(figsize=(8, 6))\n",
    "plt.plot(fpr_log, tpr_log, color='blue', lw=2, label='ROC curve (area = %0.2f)' % auc_log)\n",
    "plt.plot([0, 1], [0, 1], color='gray', linestyle='--')\n",
    "plt.xlim([0.0, 1.0])\n",
    "plt.ylim([0.0, 1.05])\n",
    "plt.xlabel('False Positive Rate')\n",
    "plt.ylabel('True Positive Rate')\n",
    "plt.title('ROC Curve - Modelo Logistico Utilizando Departamento')\n",
    "plt.legend(loc='lower right')\n",
    "plt.show()"
   ]
  },
  {
   "cell_type": "code",
   "execution_count": 12,
   "id": "23b16fe2",
   "metadata": {
    "scrolled": true
   },
   "outputs": [
    {
     "data": {
      "text/html": [
       "<div>\n",
       "<style scoped>\n",
       "    .dataframe tbody tr th:only-of-type {\n",
       "        vertical-align: middle;\n",
       "    }\n",
       "\n",
       "    .dataframe tbody tr th {\n",
       "        vertical-align: top;\n",
       "    }\n",
       "\n",
       "    .dataframe thead th {\n",
       "        text-align: right;\n",
       "    }\n",
       "</style>\n",
       "<table border=\"1\" class=\"dataframe\">\n",
       "  <thead>\n",
       "    <tr style=\"text-align: right;\">\n",
       "      <th></th>\n",
       "      <th>y_prob</th>\n",
       "      <th>y_pred</th>\n",
       "    </tr>\n",
       "  </thead>\n",
       "  <tbody>\n",
       "    <tr>\n",
       "      <th>16695</th>\n",
       "      <td>0.030323</td>\n",
       "      <td>0</td>\n",
       "    </tr>\n",
       "    <tr>\n",
       "      <th>40222</th>\n",
       "      <td>0.032414</td>\n",
       "      <td>0</td>\n",
       "    </tr>\n",
       "    <tr>\n",
       "      <th>33953</th>\n",
       "      <td>0.029377</td>\n",
       "      <td>0</td>\n",
       "    </tr>\n",
       "    <tr>\n",
       "      <th>42452</th>\n",
       "      <td>0.033388</td>\n",
       "      <td>0</td>\n",
       "    </tr>\n",
       "    <tr>\n",
       "      <th>18606</th>\n",
       "      <td>0.033675</td>\n",
       "      <td>0</td>\n",
       "    </tr>\n",
       "    <tr>\n",
       "      <th>...</th>\n",
       "      <td>...</td>\n",
       "      <td>...</td>\n",
       "    </tr>\n",
       "    <tr>\n",
       "      <th>26626</th>\n",
       "      <td>0.031553</td>\n",
       "      <td>0</td>\n",
       "    </tr>\n",
       "    <tr>\n",
       "      <th>6494</th>\n",
       "      <td>0.065177</td>\n",
       "      <td>0</td>\n",
       "    </tr>\n",
       "    <tr>\n",
       "      <th>3234</th>\n",
       "      <td>0.033323</td>\n",
       "      <td>0</td>\n",
       "    </tr>\n",
       "    <tr>\n",
       "      <th>28370</th>\n",
       "      <td>0.037286</td>\n",
       "      <td>0</td>\n",
       "    </tr>\n",
       "    <tr>\n",
       "      <th>37834</th>\n",
       "      <td>0.025004</td>\n",
       "      <td>0</td>\n",
       "    </tr>\n",
       "  </tbody>\n",
       "</table>\n",
       "<p>12867 rows × 2 columns</p>\n",
       "</div>"
      ],
      "text/plain": [
       "         y_prob  y_pred\n",
       "16695  0.030323       0\n",
       "40222  0.032414       0\n",
       "33953  0.029377       0\n",
       "42452  0.033388       0\n",
       "18606  0.033675       0\n",
       "...         ...     ...\n",
       "26626  0.031553       0\n",
       "6494   0.065177       0\n",
       "3234   0.033323       0\n",
       "28370  0.037286       0\n",
       "37834  0.025004       0\n",
       "\n",
       "[12867 rows x 2 columns]"
      ]
     },
     "execution_count": 12,
     "metadata": {},
     "output_type": "execute_result"
    }
   ],
   "source": [
    "y_prob_log = logit_model.predict_proba(X_test_full)[:, 1]\n",
    "y_pred_log = (y_prob_log > 0.5).astype(int)\n",
    "\n",
    "result_log = pd.DataFrame({'y_prob': y_prob_log, 'y_pred': y_pred_log}, index=X_test_full.index)\n",
    "result_log"
   ]
  },
  {
   "cell_type": "code",
   "execution_count": 14,
   "id": "831af0ff",
   "metadata": {
    "scrolled": false
   },
   "outputs": [
    {
     "data": {
      "image/png": "[encoded data removed]",
      "text/plain": [
       "<Figure size 576x432 with 1 Axes>"
      ]
     },
     "metadata": {
      "needs_background": "light"
     },
     "output_type": "display_data"
    },
    {
     "name": "stdout",
     "output_type": "stream",
     "text": [
      "Optimal Threshold: 0.06450223903397469\n"
     ]
    }
   ],
   "source": [
    "from sklearn.metrics import roc_curve, roc_auc_score\n",
    "import matplotlib.pyplot as plt\n",
    "\n",
    "y_prob_log = logit_model.predict_proba(X_test_full)[:, 1]\n",
    "\n",
    "fpr_log, tpr_log, thresholds_log = roc_curve(y_test, y_prob_log)\n",
    "\n",
    "auc_log = roc_auc_score(y_test, y_prob_log)\n",
    "\n",
    "Youden_index_log = tpr_log - fpr_log\n",
    "optimal_threshold_index_log = np.argmax(Youden_index_log)\n",
    "optimal_threshold_log = thresholds_log[optimal_threshold_index_log]\n",
    "\n",
    "plt.figure(figsize=(8, 6))\n",
    "plt.plot(fpr_log, tpr_log, color='blue', lw=2, label='ROC curve (area = %0.2f)' % auc_log)\n",
    "plt.scatter(fpr_log[optimal_threshold_index_log]\n",
    "            , tpr_log[optimal_threshold_index_log]\n",
    "            , color='red', s=100, label='Optimal Threshold')\n",
    "plt.plot([0, 1], [0, 1], color='gray', linestyle='--')\n",
    "plt.xlim([0.0, 1.0])\n",
    "plt.ylim([0.0, 1.05])\n",
    "plt.xlabel('False Positive Rate')\n",
    "plt.ylabel('True Positive Rate')\n",
    "plt.title('ROC Curve - Modelo Logistico Utilizando Departamento - Optimal Threshold')\n",
    "plt.legend(loc='lower right')\n",
    "plt.show()\n",
    "\n",
    "print(\"Optimal Threshold:\", optimal_threshold_log)"
   ]
  },
  {
   "cell_type": "code",
   "execution_count": 15,
   "id": "538f7590",
   "metadata": {},
   "outputs": [
    {
     "name": "stdout",
     "output_type": "stream",
     "text": [
      "Matriz de confusión:\n",
      "[[9342 2935]\n",
      " [ 397  193]]\n"
     ]
    }
   ],
   "source": [
    "import numpy as np\n",
    "from sklearn.metrics import confusion_matrix\n",
    "\n",
    "y_pred_optimal_threshold_log = (y_prob_log >= optimal_threshold_log).astype(int)\n",
    "\n",
    "conf_matrix_log = confusion_matrix(y_test, y_pred_optimal_threshold_log)\n",
    "\n",
    "print(\"Matriz de confusión:\")\n",
    "print(conf_matrix_log)"
   ]
  },
  {
   "cell_type": "code",
   "execution_count": 16,
   "id": "19246e7e",
   "metadata": {},
   "outputs": [
    {
     "name": "stdout",
     "output_type": "stream",
     "text": [
      "Falsos Negativos (FN): 397\n"
     ]
    }
   ],
   "source": [
    "fn_index_row = 1  \n",
    "fn_index_col = 0 \n",
    "fn_count = conf_matrix_log[fn_index_row, fn_index_col]\n",
    "\n",
    "print(\"Falsos Negativos (FN):\", fn_count)"
   ]
  },
  {
   "cell_type": "code",
   "execution_count": 17,
   "id": "2350f4ba",
   "metadata": {},
   "outputs": [
    {
     "data": {
      "text/html": [
       "<div>\n",
       "<style scoped>\n",
       "    .dataframe tbody tr th:only-of-type {\n",
       "        vertical-align: middle;\n",
       "    }\n",
       "\n",
       "    .dataframe tbody tr th {\n",
       "        vertical-align: top;\n",
       "    }\n",
       "\n",
       "    .dataframe thead th {\n",
       "        text-align: right;\n",
       "    }\n",
       "</style>\n",
       "<table border=\"1\" class=\"dataframe\">\n",
       "  <thead>\n",
       "    <tr style=\"text-align: right;\">\n",
       "      <th></th>\n",
       "      <th>y_prob</th>\n",
       "      <th>y_pred</th>\n",
       "      <th>y_pred_OT</th>\n",
       "    </tr>\n",
       "  </thead>\n",
       "  <tbody>\n",
       "    <tr>\n",
       "      <th>16695</th>\n",
       "      <td>0.030323</td>\n",
       "      <td>0</td>\n",
       "      <td>0</td>\n",
       "    </tr>\n",
       "    <tr>\n",
       "      <th>40222</th>\n",
       "      <td>0.032414</td>\n",
       "      <td>0</td>\n",
       "      <td>0</td>\n",
       "    </tr>\n",
       "    <tr>\n",
       "      <th>33953</th>\n",
       "      <td>0.029377</td>\n",
       "      <td>0</td>\n",
       "      <td>0</td>\n",
       "    </tr>\n",
       "    <tr>\n",
       "      <th>42452</th>\n",
       "      <td>0.033388</td>\n",
       "      <td>0</td>\n",
       "      <td>0</td>\n",
       "    </tr>\n",
       "    <tr>\n",
       "      <th>18606</th>\n",
       "      <td>0.033675</td>\n",
       "      <td>0</td>\n",
       "      <td>0</td>\n",
       "    </tr>\n",
       "    <tr>\n",
       "      <th>...</th>\n",
       "      <td>...</td>\n",
       "      <td>...</td>\n",
       "      <td>...</td>\n",
       "    </tr>\n",
       "    <tr>\n",
       "      <th>26626</th>\n",
       "      <td>0.031553</td>\n",
       "      <td>0</td>\n",
       "      <td>0</td>\n",
       "    </tr>\n",
       "    <tr>\n",
       "      <th>6494</th>\n",
       "      <td>0.065177</td>\n",
       "      <td>0</td>\n",
       "      <td>1</td>\n",
       "    </tr>\n",
       "    <tr>\n",
       "      <th>3234</th>\n",
       "      <td>0.033323</td>\n",
       "      <td>0</td>\n",
       "      <td>0</td>\n",
       "    </tr>\n",
       "    <tr>\n",
       "      <th>28370</th>\n",
       "      <td>0.037286</td>\n",
       "      <td>0</td>\n",
       "      <td>0</td>\n",
       "    </tr>\n",
       "    <tr>\n",
       "      <th>37834</th>\n",
       "      <td>0.025004</td>\n",
       "      <td>0</td>\n",
       "      <td>0</td>\n",
       "    </tr>\n",
       "  </tbody>\n",
       "</table>\n",
       "<p>12867 rows × 3 columns</p>\n",
       "</div>"
      ],
      "text/plain": [
       "         y_prob  y_pred  y_pred_OT\n",
       "16695  0.030323       0          0\n",
       "40222  0.032414       0          0\n",
       "33953  0.029377       0          0\n",
       "42452  0.033388       0          0\n",
       "18606  0.033675       0          0\n",
       "...         ...     ...        ...\n",
       "26626  0.031553       0          0\n",
       "6494   0.065177       0          1\n",
       "3234   0.033323       0          0\n",
       "28370  0.037286       0          0\n",
       "37834  0.025004       0          0\n",
       "\n",
       "[12867 rows x 3 columns]"
      ]
     },
     "execution_count": 17,
     "metadata": {},
     "output_type": "execute_result"
    }
   ],
   "source": [
    "y_prob_log = logit_model.predict_proba(X_test_full)[:, 1]\n",
    "y_pred_log = (y_prob_log > 0.5).astype(int)\n",
    "y_pred_optimal_threshold_log = (y_prob_log >= optimal_threshold_log).astype(int)\n",
    "\n",
    "result_log = pd.DataFrame({'y_prob': y_prob_log,\n",
    "                              'y_pred': y_pred_log,\n",
    "                             'y_pred_OT' : y_pred_optimal_threshold_log\n",
    "                             }, index=X_test_full.index)\n",
    "result_log"
   ]
  },
  {
   "cell_type": "code",
   "execution_count": 19,
   "id": "b09ad919",
   "metadata": {},
   "outputs": [
    {
     "name": "stdout",
     "output_type": "stream",
     "text": [
      "Log model:\n",
      "KS: 0.0881 (p-value: 3.012e-04)\n",
      "ROC AUC: 0.5381\n"
     ]
    }
   ],
   "source": [
    "from scipy.stats import ks_2samp\n",
    "from sklearn.metrics import roc_auc_score\n",
    "\n",
    "def evaluate_ks_and_roc_auc(y_real_log, y_proba_log):\n",
    "    df = pd.DataFrame()\n",
    "    df['real'] = y_real_log\n",
    "    df['proba'] = y_proba_log\n",
    "    class0 = df[df['real'] == 0]\n",
    "    class1 = df[df['real'] == 1]\n",
    "    ks = ks_2samp(class0['proba'], class1['proba'])\n",
    "    roc_auc = roc_auc_score(df['real'], df['proba'])\n",
    "    print(f\"KS: {ks.statistic:.4f} (p-value: {ks.pvalue:.3e})\")\n",
    "    print(f\"ROC AUC: {roc_auc:.4f}\")\n",
    "    return ks.statistic, roc_auc\n",
    "\n",
    "print(\"Log model:\")\n",
    "ks_base_log, auc_base_log = evaluate_ks_and_roc_auc(y_test, y_prob_log)"
   ]
  },
  {
   "cell_type": "code",
   "execution_count": 20,
   "id": "37a9dd4e",
   "metadata": {},
   "outputs": [
    {
     "data": {
      "text/html": [
       "<div>\n",
       "<style scoped>\n",
       "    .dataframe tbody tr th:only-of-type {\n",
       "        vertical-align: middle;\n",
       "    }\n",
       "\n",
       "    .dataframe tbody tr th {\n",
       "        vertical-align: top;\n",
       "    }\n",
       "\n",
       "    .dataframe thead th {\n",
       "        text-align: right;\n",
       "    }\n",
       "</style>\n",
       "<table border=\"1\" class=\"dataframe\">\n",
       "  <thead>\n",
       "    <tr style=\"text-align: right;\">\n",
       "      <th></th>\n",
       "      <th>Modelo</th>\n",
       "      <th>KS</th>\n",
       "      <th>ROC AUC</th>\n",
       "    </tr>\n",
       "  </thead>\n",
       "  <tbody>\n",
       "    <tr>\n",
       "      <th>0</th>\n",
       "      <td>Logistico</td>\n",
       "      <td>0.088</td>\n",
       "      <td>0.538</td>\n",
       "    </tr>\n",
       "  </tbody>\n",
       "</table>\n",
       "</div>"
      ],
      "text/plain": [
       "      Modelo     KS  ROC AUC\n",
       "0  Logistico  0.088    0.538"
      ]
     },
     "execution_count": 20,
     "metadata": {},
     "output_type": "execute_result"
    }
   ],
   "source": [
    "results_df_log = pd.DataFrame({\n",
    "    'Modelo': ['Logistico'],\n",
    "    'KS': [ks_base_log],\n",
    "    'ROC AUC': [auc_base_log]\n",
    "})\n",
    "results_df_log = results_df_log.round(3)\n",
    "results_df_log"
   ]
  },
  {
   "cell_type": "markdown",
   "id": "80f59379",
   "metadata": {},
   "source": [
    "# Random forest"
   ]
  },
  {
   "cell_type": "code",
   "execution_count": 21,
   "id": "b5ea4109",
   "metadata": {},
   "outputs": [],
   "source": [
    "from sklearn.ensemble import RandomForestClassifier\n",
    "from sklearn.metrics import accuracy_score\n",
    "\n",
    "rf_model = RandomForestClassifier()\n",
    "\n",
    "rf_model.fit(X_train_full, y_train)\n",
    "\n",
    "y_pred_rf = rf_model.predict(X_test_full)\n",
    "\n",
    "accuracy = accuracy_score(y_test, y_pred_rf)"
   ]
  },
  {
   "cell_type": "code",
   "execution_count": 22,
   "id": "6ab26ef3",
   "metadata": {
    "scrolled": false
   },
   "outputs": [
    {
     "data": {
      "image/png": "[encoded data removed]",
      "text/plain": [
       "<Figure size 576x432 with 1 Axes>"
      ]
     },
     "metadata": {
      "needs_background": "light"
     },
     "output_type": "display_data"
    }
   ],
   "source": [
    "from sklearn.metrics import roc_curve, roc_auc_score\n",
    "import matplotlib.pyplot as plt\n",
    "\n",
    "y_prob_rf = rf_model.predict_proba(X_test_full)[:, 1]\n",
    "fpr_rf, tpr_rf, thresholds_rf = roc_curve(y_test, y_prob_rf)\n",
    "auc_rf = roc_auc_score(y_test, y_prob_rf)\n",
    "\n",
    "plt.figure(figsize=(8, 6))\n",
    "plt.plot(fpr_rf, tpr_rf, color='blue', lw=2, label='ROC curve (AUC = %0.2f)' % auc_rf)\n",
    "plt.plot([0, 1], [0, 1], color='gray', linestyle='--')\n",
    "plt.xlim([0.0, 1.0])\n",
    "plt.ylim([0.0, 1.05])\n",
    "plt.xlabel('False Positive Rate')\n",
    "plt.ylabel('True Positive Rate')\n",
    "plt.title('ROC Curve - Random Forest')\n",
    "plt.legend(loc='lower right')\n",
    "plt.show()"
   ]
  },
  {
   "cell_type": "code",
   "execution_count": 23,
   "id": "a499093e",
   "metadata": {
    "scrolled": false
   },
   "outputs": [
    {
     "data": {
      "image/png": "[encoded data removed]",
      "text/plain": [
       "<Figure size 576x432 with 1 Axes>"
      ]
     },
     "metadata": {
      "needs_background": "light"
     },
     "output_type": "display_data"
    },
    {
     "name": "stdout",
     "output_type": "stream",
     "text": [
      "Optimal Threshold: 0.02083333333333333\n"
     ]
    }
   ],
   "source": [
    "from sklearn.metrics import roc_curve, roc_auc_score\n",
    "import matplotlib.pyplot as plt\n",
    "\n",
    "y_prob_rf = rf_model.predict_proba(X_test_full)[:, 1]\n",
    "\n",
    "fpr_rf, tpr_rf, thresholds_rf = roc_curve(y_test, y_prob_rf)\n",
    "\n",
    "auc_rf = roc_auc_score(y_test, y_prob_rf)\n",
    "\n",
    "Youden_index_rf = tpr_rf - fpr_rf\n",
    "optimal_threshold_index_rf = np.argmax(Youden_index_rf)\n",
    "optimal_threshold_rf = thresholds_rf[optimal_threshold_index_rf]\n",
    "\n",
    "plt.figure(figsize=(8, 6))\n",
    "plt.plot(fpr_rf, tpr_rf, color='blue', lw=2, label='ROC curve (area = %0.2f)' % auc_rf)\n",
    "plt.scatter(fpr_rf[optimal_threshold_index_rf], tpr_rf[optimal_threshold_index_rf], color='red', s=100\n",
    "            , label='Optimal Threshold')\n",
    "plt.plot([0, 1], [0, 1], color='gray', linestyle='--')\n",
    "plt.xlim([0.0, 1.0])\n",
    "plt.ylim([0.0, 1.05])\n",
    "plt.xlabel('False Positive Rate')\n",
    "plt.ylabel('True Positive Rate')\n",
    "plt.title('ROC Curve - Random Forest - Optimal Threshold')\n",
    "plt.legend(loc='lower right')\n",
    "plt.show()\n",
    "\n",
    "print(\"Optimal Threshold:\", optimal_threshold_rf)"
   ]
  },
  {
   "cell_type": "code",
   "execution_count": 25,
   "id": "fd72ac51",
   "metadata": {},
   "outputs": [
    {
     "data": {
      "text/html": [
       "<div>\n",
       "<style scoped>\n",
       "    .dataframe tbody tr th:only-of-type {\n",
       "        vertical-align: middle;\n",
       "    }\n",
       "\n",
       "    .dataframe tbody tr th {\n",
       "        vertical-align: top;\n",
       "    }\n",
       "\n",
       "    .dataframe thead th {\n",
       "        text-align: right;\n",
       "    }\n",
       "</style>\n",
       "<table border=\"1\" class=\"dataframe\">\n",
       "  <thead>\n",
       "    <tr style=\"text-align: right;\">\n",
       "      <th></th>\n",
       "      <th>y_prob</th>\n",
       "      <th>y_pred</th>\n",
       "      <th>y_pred_OT</th>\n",
       "    </tr>\n",
       "  </thead>\n",
       "  <tbody>\n",
       "    <tr>\n",
       "      <th>16695</th>\n",
       "      <td>0.00</td>\n",
       "      <td>0</td>\n",
       "      <td>0</td>\n",
       "    </tr>\n",
       "    <tr>\n",
       "      <th>40222</th>\n",
       "      <td>0.00</td>\n",
       "      <td>0</td>\n",
       "      <td>0</td>\n",
       "    </tr>\n",
       "    <tr>\n",
       "      <th>33953</th>\n",
       "      <td>0.12</td>\n",
       "      <td>0</td>\n",
       "      <td>1</td>\n",
       "    </tr>\n",
       "    <tr>\n",
       "      <th>42452</th>\n",
       "      <td>0.00</td>\n",
       "      <td>0</td>\n",
       "      <td>0</td>\n",
       "    </tr>\n",
       "    <tr>\n",
       "      <th>18606</th>\n",
       "      <td>0.00</td>\n",
       "      <td>0</td>\n",
       "      <td>0</td>\n",
       "    </tr>\n",
       "    <tr>\n",
       "      <th>...</th>\n",
       "      <td>...</td>\n",
       "      <td>...</td>\n",
       "      <td>...</td>\n",
       "    </tr>\n",
       "    <tr>\n",
       "      <th>26626</th>\n",
       "      <td>0.04</td>\n",
       "      <td>0</td>\n",
       "      <td>1</td>\n",
       "    </tr>\n",
       "    <tr>\n",
       "      <th>6494</th>\n",
       "      <td>0.01</td>\n",
       "      <td>0</td>\n",
       "      <td>0</td>\n",
       "    </tr>\n",
       "    <tr>\n",
       "      <th>3234</th>\n",
       "      <td>0.00</td>\n",
       "      <td>0</td>\n",
       "      <td>0</td>\n",
       "    </tr>\n",
       "    <tr>\n",
       "      <th>28370</th>\n",
       "      <td>0.01</td>\n",
       "      <td>0</td>\n",
       "      <td>0</td>\n",
       "    </tr>\n",
       "    <tr>\n",
       "      <th>37834</th>\n",
       "      <td>0.03</td>\n",
       "      <td>0</td>\n",
       "      <td>1</td>\n",
       "    </tr>\n",
       "  </tbody>\n",
       "</table>\n",
       "<p>12867 rows × 3 columns</p>\n",
       "</div>"
      ],
      "text/plain": [
       "       y_prob  y_pred  y_pred_OT\n",
       "16695    0.00       0          0\n",
       "40222    0.00       0          0\n",
       "33953    0.12       0          1\n",
       "42452    0.00       0          0\n",
       "18606    0.00       0          0\n",
       "...       ...     ...        ...\n",
       "26626    0.04       0          1\n",
       "6494     0.01       0          0\n",
       "3234     0.00       0          0\n",
       "28370    0.01       0          0\n",
       "37834    0.03       0          1\n",
       "\n",
       "[12867 rows x 3 columns]"
      ]
     },
     "execution_count": 25,
     "metadata": {},
     "output_type": "execute_result"
    }
   ],
   "source": [
    "y_prob_rf = rf_model.predict_proba(X_test_full)[:, 1]\n",
    "y_pred_rf = rf_model.predict(X_test_full)\n",
    "y_pred_optimal_rf = (y_prob_rf >= optimal_threshold_rf).astype(int)\n",
    "\n",
    "\n",
    "result_df = pd.DataFrame({'y_prob': y_prob_rf, 'y_pred': y_pred_rf, 'y_pred_OT':y_pred_optimal_rf }, index=X_test_full.index)\n",
    "result_df"
   ]
  },
  {
   "cell_type": "code",
   "execution_count": 27,
   "id": "40d6510b",
   "metadata": {},
   "outputs": [
    {
     "name": "stdout",
     "output_type": "stream",
     "text": [
      "RF model:\n",
      "KS: 0.1263 (p-value: 2.712e-08)\n",
      "ROC AUC: 0.5741\n"
     ]
    }
   ],
   "source": [
    "from scipy.stats import ks_2samp\n",
    "from sklearn.metrics import roc_auc_score\n",
    "\n",
    "def evaluate_ks_and_roc_auc(y_real_rf, y_proba_rf):\n",
    "    df = pd.DataFrame()\n",
    "    df['real'] = y_real_rf\n",
    "    df['proba'] = y_proba_rf\n",
    "    class0 = df[df['real'] == 0]\n",
    "    class1 = df[df['real'] == 1]\n",
    "    ks = ks_2samp(class0['proba'], class1['proba'])\n",
    "    roc_auc = roc_auc_score(df['real'], df['proba'])\n",
    "    print(f\"KS: {ks.statistic:.4f} (p-value: {ks.pvalue:.3e})\")\n",
    "    print(f\"ROC AUC: {roc_auc:.4f}\")\n",
    "    return ks.statistic, roc_auc\n",
    "\n",
    "print(\"RF model:\")\n",
    "ks_rf, auc_rf = evaluate_ks_and_roc_auc(y_test, y_prob_rf)"
   ]
  },
  {
   "cell_type": "code",
   "execution_count": 28,
   "id": "0078a44d",
   "metadata": {},
   "outputs": [
    {
     "data": {
      "text/html": [
       "<div>\n",
       "<style scoped>\n",
       "    .dataframe tbody tr th:only-of-type {\n",
       "        vertical-align: middle;\n",
       "    }\n",
       "\n",
       "    .dataframe tbody tr th {\n",
       "        vertical-align: top;\n",
       "    }\n",
       "\n",
       "    .dataframe thead th {\n",
       "        text-align: right;\n",
       "    }\n",
       "</style>\n",
       "<table border=\"1\" class=\"dataframe\">\n",
       "  <thead>\n",
       "    <tr style=\"text-align: right;\">\n",
       "      <th></th>\n",
       "      <th>Modelo</th>\n",
       "      <th>KS</th>\n",
       "      <th>ROC AUC</th>\n",
       "    </tr>\n",
       "  </thead>\n",
       "  <tbody>\n",
       "    <tr>\n",
       "      <th>0</th>\n",
       "      <td>Logistico</td>\n",
       "      <td>0.088</td>\n",
       "      <td>0.538</td>\n",
       "    </tr>\n",
       "    <tr>\n",
       "      <th>1</th>\n",
       "      <td>Random Forest</td>\n",
       "      <td>0.126</td>\n",
       "      <td>0.574</td>\n",
       "    </tr>\n",
       "  </tbody>\n",
       "</table>\n",
       "</div>"
      ],
      "text/plain": [
       "          Modelo     KS  ROC AUC\n",
       "0      Logistico  0.088    0.538\n",
       "1  Random Forest  0.126    0.574"
      ]
     },
     "execution_count": 28,
     "metadata": {},
     "output_type": "execute_result"
    }
   ],
   "source": [
    "results_df_rf = pd.DataFrame({\n",
    "    'Modelo': ['Random Forest'],\n",
    "    'KS': [ks_rf],\n",
    "    'ROC AUC': [auc_rf]\n",
    "})\n",
    "\n",
    "\n",
    "results_resumen = pd.concat([results_df_log, results_df_rf], ignore_index=True)\n",
    "results_resumen = results_resumen.round(3)\n",
    "results_resumen"
   ]
  },
  {
   "cell_type": "code",
   "execution_count": 29,
   "id": "0d648dbf",
   "metadata": {},
   "outputs": [
    {
     "data": {
      "image/png": "[encoded data removed]",
      "text/plain": [
       "<Figure size 576x432 with 1 Axes>"
      ]
     },
     "metadata": {
      "needs_background": "light"
     },
     "output_type": "display_data"
    }
   ],
   "source": [
    "import matplotlib.pyplot as plt\n",
    "from sklearn.metrics import roc_curve, roc_auc_score\n",
    "\n",
    "# Curva ROC - Modelo Logístico \n",
    "plt.figure(figsize=(8, 6))\n",
    "plt.plot(fpr_log, tpr_log, color='red', lw=2, label='Modelo Logístico (AUC = %0.2f)' % auc_log)\n",
    "\n",
    "# Curva ROC - Random Forest\n",
    "plt.plot(fpr_rf, tpr_rf, color='blue', lw=2, label='Random Forest (AUC = %0.2f)' % auc_rf)\n",
    "\n",
    "plt.plot([0, 1], [0, 1], color='gray', linestyle='--')\n",
    "\n",
    "plt.xlim([0.0, 1.0])\n",
    "plt.ylim([0.0, 1.05])\n",
    "plt.xlabel('False Positive Rate')\n",
    "plt.ylabel('True Positive Rate')\n",
    "plt.title('ROC Curve - Comparación de Modelos')\n",
    "plt.legend(loc='lower right')\n",
    "plt.show()\n"
   ]
  },
  {
   "cell_type": "markdown",
   "id": "2e75bd9b",
   "metadata": {},
   "source": [
    "# XG BOOST"
   ]
  },
  {
   "cell_type": "code",
   "execution_count": 38,
   "id": "01befb57",
   "metadata": {},
   "outputs": [],
   "source": [
    "#pip install xgboost"
   ]
  },
  {
   "cell_type": "code",
   "execution_count": 30,
   "id": "dd94edf8",
   "metadata": {},
   "outputs": [],
   "source": [
    "import xgboost as xgb\n",
    "from sklearn.metrics import classification_report\n",
    "\n",
    "xgb_model = xgb.XGBClassifier()\n",
    "\n",
    "xgb_model.fit(X_train_full, y_train)\n",
    "\n",
    "y_pred_xgb = xgb_model.predict(X_test_full)\n",
    "\n",
    "accuracy = accuracy_score(y_test, y_pred_xgb)"
   ]
  },
  {
   "cell_type": "code",
   "execution_count": 31,
   "id": "ae0c788b",
   "metadata": {},
   "outputs": [
    {
     "data": {
      "image/png": "[encoded data removed]",
      "text/plain": [
       "<Figure size 576x432 with 1 Axes>"
      ]
     },
     "metadata": {
      "needs_background": "light"
     },
     "output_type": "display_data"
    }
   ],
   "source": [
    "from sklearn.metrics import roc_curve, roc_auc_score\n",
    "import matplotlib.pyplot as plt\n",
    "\n",
    "y_prob_xgb = xgb_model.predict_proba(X_test_full)[:, 1]\n",
    "\n",
    "fpr_xgb, tpr_xgb, thresholds_xgb = roc_curve(y_test, y_prob_xgb)\n",
    "\n",
    "auc_xgb = roc_auc_score(y_test, y_prob_xgb)\n",
    "\n",
    "plt.figure(figsize=(8, 6))\n",
    "plt.plot(fpr_xgb, tpr_xgb, color='blue', lw=2, label='ROC curve (AUC = %0.2f)' % auc_xgb)\n",
    "plt.plot([0, 1], [0, 1], color='gray', linestyle='--')\n",
    "plt.xlim([0.0, 1.0])\n",
    "plt.ylim([0.0, 1.05])\n",
    "plt.xlabel('False Positive Rate')\n",
    "plt.ylabel('True Positive Rate')\n",
    "plt.title('ROC Curve - XG Boost')\n",
    "plt.legend(loc='lower right')\n",
    "plt.show()"
   ]
  },
  {
   "cell_type": "code",
   "execution_count": 32,
   "id": "08eb282f",
   "metadata": {
    "scrolled": false
   },
   "outputs": [
    {
     "data": {
      "image/png": "[encoded data removed]",
      "text/plain": [
       "<Figure size 576x432 with 1 Axes>"
      ]
     },
     "metadata": {
      "needs_background": "light"
     },
     "output_type": "display_data"
    },
    {
     "name": "stdout",
     "output_type": "stream",
     "text": [
      "Optimal Threshold: 0.03594058\n"
     ]
    }
   ],
   "source": [
    "from sklearn.metrics import roc_curve, roc_auc_score\n",
    "import matplotlib.pyplot as plt\n",
    "\n",
    "y_prob_xgb = xgb_model.predict_proba(X_test_full)[:, 1]\n",
    "\n",
    "fpr_xgb, tpr_xgb, thresholds_xgb = roc_curve(y_test, y_prob_xgb)\n",
    "\n",
    "auc_xgb = roc_auc_score(y_test, y_prob_xgb)\n",
    "\n",
    "Youden_index_xgb = tpr_xgb - fpr_xgb\n",
    "optimal_threshold_index_xgb = np.argmax(Youden_index_xgb)\n",
    "optimal_threshold_xgb = thresholds_xgb[optimal_threshold_index_xgb]\n",
    "\n",
    "plt.figure(figsize=(8, 6))\n",
    "plt.plot(fpr_xgb, tpr_xgb, color='blue', lw=2, label='ROC curve (area = %0.2f)' % auc_xgb)\n",
    "plt.scatter(fpr_xgb[optimal_threshold_index_xgb], tpr_xgb[optimal_threshold_index_xgb], color='red', s=100, label='Optimal Threshold')\n",
    "plt.plot([0, 1], [0, 1], color='gray', linestyle='--')\n",
    "plt.xlim([0.0, 1.0])\n",
    "plt.ylim([0.0, 1.05])\n",
    "plt.xlabel('False Positive Rate')\n",
    "plt.ylabel('True Positive Rate')\n",
    "plt.title('ROC Curve - XG Boost - Optimal Threshold')\n",
    "plt.legend(loc='lower right')\n",
    "plt.show()\n",
    "\n",
    "print(\"Optimal Threshold:\", optimal_threshold_xgb)"
   ]
  },
  {
   "cell_type": "code",
   "execution_count": 33,
   "id": "1e21813f",
   "metadata": {},
   "outputs": [
    {
     "name": "stdout",
     "output_type": "stream",
     "text": [
      "Matriz de Confusión:\n",
      "[[6885 5392]\n",
      " [ 226  364]]\n"
     ]
    }
   ],
   "source": [
    "from sklearn.metrics import confusion_matrix\n",
    "\n",
    "y_prob_xgb = xgb_model.predict_proba(X_test_full)[:, 1]\n",
    "\n",
    "y_pred_optimal_xgb = (y_prob_xgb >= optimal_threshold_xgb).astype(int)\n",
    "\n",
    "conf_matrix_xgb = confusion_matrix(y_test, y_pred_optimal_xgb)\n",
    "\n",
    "print(\"Matriz de Confusión:\")\n",
    "print(conf_matrix_xgb)"
   ]
  },
  {
   "cell_type": "code",
   "execution_count": 34,
   "id": "b4e6ffcd",
   "metadata": {},
   "outputs": [
    {
     "data": {
      "text/html": [
       "<div>\n",
       "<style scoped>\n",
       "    .dataframe tbody tr th:only-of-type {\n",
       "        vertical-align: middle;\n",
       "    }\n",
       "\n",
       "    .dataframe tbody tr th {\n",
       "        vertical-align: top;\n",
       "    }\n",
       "\n",
       "    .dataframe thead th {\n",
       "        text-align: right;\n",
       "    }\n",
       "</style>\n",
       "<table border=\"1\" class=\"dataframe\">\n",
       "  <thead>\n",
       "    <tr style=\"text-align: right;\">\n",
       "      <th></th>\n",
       "      <th>y_prob</th>\n",
       "      <th>y_pred</th>\n",
       "      <th>y_pred_OT</th>\n",
       "    </tr>\n",
       "  </thead>\n",
       "  <tbody>\n",
       "    <tr>\n",
       "      <th>16695</th>\n",
       "      <td>0.011289</td>\n",
       "      <td>0</td>\n",
       "      <td>0</td>\n",
       "    </tr>\n",
       "    <tr>\n",
       "      <th>40222</th>\n",
       "      <td>0.013166</td>\n",
       "      <td>0</td>\n",
       "      <td>0</td>\n",
       "    </tr>\n",
       "    <tr>\n",
       "      <th>33953</th>\n",
       "      <td>0.029636</td>\n",
       "      <td>0</td>\n",
       "      <td>0</td>\n",
       "    </tr>\n",
       "    <tr>\n",
       "      <th>42452</th>\n",
       "      <td>0.010588</td>\n",
       "      <td>0</td>\n",
       "      <td>0</td>\n",
       "    </tr>\n",
       "    <tr>\n",
       "      <th>18606</th>\n",
       "      <td>0.074295</td>\n",
       "      <td>0</td>\n",
       "      <td>1</td>\n",
       "    </tr>\n",
       "    <tr>\n",
       "      <th>...</th>\n",
       "      <td>...</td>\n",
       "      <td>...</td>\n",
       "      <td>...</td>\n",
       "    </tr>\n",
       "    <tr>\n",
       "      <th>26626</th>\n",
       "      <td>0.071291</td>\n",
       "      <td>0</td>\n",
       "      <td>1</td>\n",
       "    </tr>\n",
       "    <tr>\n",
       "      <th>6494</th>\n",
       "      <td>0.031533</td>\n",
       "      <td>0</td>\n",
       "      <td>0</td>\n",
       "    </tr>\n",
       "    <tr>\n",
       "      <th>3234</th>\n",
       "      <td>0.018844</td>\n",
       "      <td>0</td>\n",
       "      <td>0</td>\n",
       "    </tr>\n",
       "    <tr>\n",
       "      <th>28370</th>\n",
       "      <td>0.028704</td>\n",
       "      <td>0</td>\n",
       "      <td>0</td>\n",
       "    </tr>\n",
       "    <tr>\n",
       "      <th>37834</th>\n",
       "      <td>0.008175</td>\n",
       "      <td>0</td>\n",
       "      <td>0</td>\n",
       "    </tr>\n",
       "  </tbody>\n",
       "</table>\n",
       "<p>12867 rows × 3 columns</p>\n",
       "</div>"
      ],
      "text/plain": [
       "         y_prob  y_pred  y_pred_OT\n",
       "16695  0.011289       0          0\n",
       "40222  0.013166       0          0\n",
       "33953  0.029636       0          0\n",
       "42452  0.010588       0          0\n",
       "18606  0.074295       0          1\n",
       "...         ...     ...        ...\n",
       "26626  0.071291       0          1\n",
       "6494   0.031533       0          0\n",
       "3234   0.018844       0          0\n",
       "28370  0.028704       0          0\n",
       "37834  0.008175       0          0\n",
       "\n",
       "[12867 rows x 3 columns]"
      ]
     },
     "execution_count": 34,
     "metadata": {},
     "output_type": "execute_result"
    }
   ],
   "source": [
    "y_prob_xgb = xgb_model.predict_proba(X_test_full)[:, 1]\n",
    "y_pred_xgb = xgb_model.predict(X_test_full)\n",
    "y_pred_optimal_xgb = (y_prob_xgb >= optimal_threshold_xgb).astype(int)\n",
    "\n",
    "\n",
    "result_df = pd.DataFrame({'y_prob': y_prob_xgb, 'y_pred': y_pred_xgb, 'y_pred_OT':y_pred_optimal_xgb }, index=X_test_full.index)\n",
    "result_df"
   ]
  },
  {
   "cell_type": "code",
   "execution_count": 35,
   "id": "132ff3bb",
   "metadata": {},
   "outputs": [
    {
     "name": "stdout",
     "output_type": "stream",
     "text": [
      "xgb model:\n",
      "KS: 0.1778 (p-value: 4.940e-16)\n",
      "ROC AUC: 0.6170\n"
     ]
    }
   ],
   "source": [
    "from scipy.stats import ks_2samp\n",
    "from sklearn.metrics import roc_auc_score\n",
    "\n",
    "def evaluate_ks_and_roc_auc(y_real_xgb, y_proba_xgb):\n",
    "    df = pd.DataFrame()\n",
    "    df['real'] = y_real_xgb\n",
    "    df['proba'] = y_proba_xgb\n",
    "    class0 = df[df['real'] == 0]\n",
    "    class1 = df[df['real'] == 1]\n",
    "    ks = ks_2samp(class0['proba'], class1['proba'])\n",
    "    roc_auc = roc_auc_score(df['real'], df['proba'])\n",
    "    print(f\"KS: {ks.statistic:.4f} (p-value: {ks.pvalue:.3e})\")\n",
    "    print(f\"ROC AUC: {roc_auc:.4f}\")\n",
    "    return ks.statistic, roc_auc\n",
    "\n",
    "print(\"xgb model:\")\n",
    "ks_xgb, auc_xgb = evaluate_ks_and_roc_auc(y_test, y_prob_xgb)"
   ]
  },
  {
   "cell_type": "code",
   "execution_count": 36,
   "id": "57d4ae31",
   "metadata": {},
   "outputs": [
    {
     "data": {
      "text/html": [
       "<div>\n",
       "<style scoped>\n",
       "    .dataframe tbody tr th:only-of-type {\n",
       "        vertical-align: middle;\n",
       "    }\n",
       "\n",
       "    .dataframe tbody tr th {\n",
       "        vertical-align: top;\n",
       "    }\n",
       "\n",
       "    .dataframe thead th {\n",
       "        text-align: right;\n",
       "    }\n",
       "</style>\n",
       "<table border=\"1\" class=\"dataframe\">\n",
       "  <thead>\n",
       "    <tr style=\"text-align: right;\">\n",
       "      <th></th>\n",
       "      <th>Modelo</th>\n",
       "      <th>KS</th>\n",
       "      <th>ROC AUC</th>\n",
       "    </tr>\n",
       "  </thead>\n",
       "  <tbody>\n",
       "    <tr>\n",
       "      <th>0</th>\n",
       "      <td>Logistico</td>\n",
       "      <td>0.088</td>\n",
       "      <td>0.538</td>\n",
       "    </tr>\n",
       "    <tr>\n",
       "      <th>1</th>\n",
       "      <td>Random Forest</td>\n",
       "      <td>0.126</td>\n",
       "      <td>0.574</td>\n",
       "    </tr>\n",
       "    <tr>\n",
       "      <th>2</th>\n",
       "      <td>XGBoost</td>\n",
       "      <td>0.178</td>\n",
       "      <td>0.617</td>\n",
       "    </tr>\n",
       "  </tbody>\n",
       "</table>\n",
       "</div>"
      ],
      "text/plain": [
       "          Modelo     KS  ROC AUC\n",
       "0      Logistico  0.088    0.538\n",
       "1  Random Forest  0.126    0.574\n",
       "2        XGBoost  0.178    0.617"
      ]
     },
     "execution_count": 36,
     "metadata": {},
     "output_type": "execute_result"
    }
   ],
   "source": [
    "results_df_xgb = pd.DataFrame({\n",
    "    'Modelo': ['XGBoost'],\n",
    "    'KS': [ks_xgb],\n",
    "    'ROC AUC': [auc_xgb]\n",
    "})\n",
    "\n",
    "results_resumen = pd.concat([results_df_log, results_df_rf,results_df_xgb ], ignore_index=True)\n",
    "results_resumen = results_resumen.round(3)\n",
    "results_resumen"
   ]
  },
  {
   "cell_type": "code",
   "execution_count": 37,
   "id": "bc4d2616",
   "metadata": {},
   "outputs": [
    {
     "data": {
      "image/png": "[encoded data removed]",
      "text/plain": [
       "<Figure size 576x432 with 1 Axes>"
      ]
     },
     "metadata": {
      "needs_background": "light"
     },
     "output_type": "display_data"
    }
   ],
   "source": [
    "import matplotlib.pyplot as plt\n",
    "from sklearn.metrics import roc_curve, roc_auc_score\n",
    "\n",
    "# Curva ROC - Modelo Logístico\n",
    "plt.figure(figsize=(8, 6))\n",
    "plt.plot(fpr_log, tpr_log, color='red', lw=2, label='Modelo Logístico (AUC = %0.2f)' % auc_log)\n",
    "\n",
    "# Curva ROC - Random Forest\n",
    "plt.plot(fpr_rf, tpr_rf, color='blue', lw=2, label='Random Forest (AUC = %0.2f)' % auc_rf)\n",
    "\n",
    "#Curva ROC - XGBoost\n",
    "plt.plot(fpr_xgb, tpr_xgb, color='yellow', lw=2, label='XGBoost (AUC = %0.2f)' % auc_xgb)\n",
    "\n",
    "plt.plot([0, 1], [0, 1], color='gray', linestyle='--')\n",
    "\n",
    "plt.xlim([0.0, 1.0])\n",
    "plt.ylim([0.0, 1.05])\n",
    "plt.xlabel('False Positive Rate')\n",
    "plt.ylabel('True Positive Rate')\n",
    "plt.title('ROC Curve - Comparación de Modelos')\n",
    "plt.legend(loc='lower right')\n",
    "plt.show()"
   ]
  },
  {
   "cell_type": "markdown",
   "id": "f962979d",
   "metadata": {},
   "source": [
    "# LOGISTICA con STEPWISE "
   ]
  },
  {
   "cell_type": "code",
   "execution_count": 38,
   "id": "c2d299a7",
   "metadata": {},
   "outputs": [],
   "source": [
    "X_train_full = X_train_full.drop(columns='const')\n",
    "X_test_full = X_test_full.drop(columns='const')"
   ]
  },
  {
   "cell_type": "code",
   "execution_count": 39,
   "id": "ece5fafd",
   "metadata": {
    "scrolled": true
   },
   "outputs": [],
   "source": [
    "#pip install mlxtend"
   ]
  },
  {
   "cell_type": "code",
   "execution_count": 40,
   "id": "ae867ab5",
   "metadata": {},
   "outputs": [],
   "source": [
    "import warnings\n",
    "warnings.filterwarnings(\"ignore\", category=FutureWarning)"
   ]
  },
  {
   "cell_type": "code",
   "execution_count": 41,
   "id": "fab1a9f2",
   "metadata": {
    "scrolled": true
   },
   "outputs": [
    {
     "name": "stderr",
     "output_type": "stream",
     "text": [
      "[Parallel(n_jobs=1)]: Done  40 tasks      | elapsed:    6.0s\n",
      "\n",
      "[2024-11-25 20:35:56] Features: 1/44 -- score: 0.610328541084564[Parallel(n_jobs=1)]: Done  40 tasks      | elapsed:    7.3s\n",
      "\n",
      "[2024-11-25 20:36:04] Features: 2/44 -- score: 0.6228335385272005[Parallel(n_jobs=1)]: Done  40 tasks      | elapsed:    8.8s\n",
      "\n",
      "[2024-11-25 20:36:13] Features: 3/44 -- score: 0.633627348065821[Parallel(n_jobs=1)]: Done  40 tasks      | elapsed:   10.0s\n",
      "\n",
      "[2024-11-25 20:36:23] Features: 4/44 -- score: 0.6391939313157808[Parallel(n_jobs=1)]: Done  40 tasks      | elapsed:   10.8s\n",
      "[Parallel(n_jobs=1)]: Done  40 tasks      | elapsed:   10.8s\n",
      "\n",
      "[2024-11-25 20:36:34] Features: 5/44 -- score: 0.644486036233349\n",
      "[2024-11-25 20:36:45] Features: 6/44 -- score: 0.6477008802600908\n",
      "[2024-11-25 20:36:55] Features: 7/44 -- score: 0.6501463529058044\n",
      "[2024-11-25 20:37:05] Features: 8/44 -- score: 0.6520442413097157\n",
      "[2024-11-25 20:37:15] Features: 9/44 -- score: 0.6535694080135334\n",
      "[2024-11-25 20:37:25] Features: 10/44 -- score: 0.6545637515745929\n",
      "[2024-11-25 20:37:35] Features: 11/44 -- score: 0.6556680185702609\n",
      "[2024-11-25 20:37:44] Features: 12/44 -- score: 0.6566021450750881\n",
      "[2024-11-25 20:37:54] Features: 13/44 -- score: 0.656866109273726\n",
      "[2024-11-25 20:38:03] Features: 14/44 -- score: 0.6571781419716928\n",
      "[2024-11-25 20:38:12] Features: 15/44 -- score: 0.6572798412361053\n",
      "[2024-11-25 20:38:21] Features: 16/44 -- score: 0.6574310436289681\n",
      "[2024-11-25 20:38:29] Features: 17/44 -- score: 0.6575262509914104\n",
      "[2024-11-25 20:38:38] Features: 18/44 -- score: 0.657567136409427\n",
      "[2024-11-25 20:38:47] Features: 19/44 -- score: 0.6575662789150558\n",
      "[2024-11-25 20:38:56] Features: 20/44 -- score: 0.6575638144287144\n",
      "[2024-11-25 20:39:03] Features: 21/44 -- score: 0.6575494258027617\n",
      "[2024-11-25 20:39:11] Features: 22/44 -- score: 0.6574767057442188\n",
      "[2024-11-25 20:39:18] Features: 23/44 -- score: 0.6573689573646023\n",
      "[2024-11-25 20:39:25] Features: 24/44 -- score: 0.6572533273805512\n",
      "[2024-11-25 20:39:31] Features: 25/44 -- score: 0.6571021044683016\n",
      "[2024-11-25 20:39:38] Features: 26/44 -- score: 0.6569538698267385\n",
      "[2024-11-25 20:39:44] Features: 27/44 -- score: 0.6568846060968929\n",
      "[2024-11-25 20:39:50] Features: 28/44 -- score: 0.656704971825802\n",
      "[2024-11-25 20:39:56] Features: 29/44 -- score: 0.6564859856908596\n",
      "[2024-11-25 20:40:02] Features: 30/44 -- score: 0.6562646368025351\n",
      "[2024-11-25 20:40:09] Features: 31/44 -- score: 0.6561536547835658\n",
      "[2024-11-25 20:40:15] Features: 32/44 -- score: 0.6558226701640342\n",
      "[2024-11-25 20:40:20] Features: 33/44 -- score: 0.6553988309997391\n",
      "[2024-11-25 20:40:26] Features: 34/44 -- score: 0.6548757317861285\n",
      "[2024-11-25 20:40:31] Features: 35/44 -- score: 0.6543261973386139\n",
      "[2024-11-25 20:40:35] Features: 36/44 -- score: 0.6535680705815065\n",
      "[2024-11-25 20:40:40] Features: 37/44 -- score: 0.6535418260699024\n",
      "[2024-11-25 20:40:44] Features: 38/44 -- score: 0.6528571317180472\n",
      "[2024-11-25 20:40:47] Features: 39/44 -- score: 0.6519401363092059\n",
      "[2024-11-25 20:40:50] Features: 40/44 -- score: 0.6506406066135495\n",
      "[2024-11-25 20:40:52] Features: 41/44 -- score: 0.6485077317049148\n",
      "[2024-11-25 20:40:54] Features: 42/44 -- score: 0.6484075573549257\n",
      "[2024-11-25 20:40:55] Features: 43/44 -- score: 0.6461929496251215"
     ]
    },
    {
     "name": "stdout",
     "output_type": "stream",
     "text": [
      "Características seleccionadas: ['0', '1', '2', '3', '5', '14', '21', '22', '24', '25', '31', '32', '33', '35', '37', '41', '42', '43']\n",
      "Coeficientes del modelo final: [[ 0.3504197  -0.05562716  0.2112491   0.07415163  0.03030127  0.08995529\n",
      "   0.08051633  0.14099138 -0.10656653 -0.11073649 -0.09248598 -0.29738546\n",
      "  -0.20983529 -0.03173396 -0.0531487   0.0446569   0.05223912  0.0757671 ]]\n"
     ]
    },
    {
     "name": "stderr",
     "output_type": "stream",
     "text": [
      "\n",
      "[2024-11-25 20:40:56] Features: 44/44 -- score: 0.6461766874711647"
     ]
    }
   ],
   "source": [
    "import pandas as pd\n",
    "import numpy as np\n",
    "from sklearn.linear_model import LogisticRegression\n",
    "from mlxtend.feature_selection import SequentialFeatureSelector as SFS\n",
    "from sklearn.model_selection import train_test_split\n",
    "from sklearn.preprocessing import StandardScaler\n",
    "\n",
    "scaler = StandardScaler()\n",
    "X_train_scaled = scaler.fit_transform(X_train_full)\n",
    "X_test_scaled = scaler.transform(X_test_full)\n",
    "\n",
    "logit_model_SW = LogisticRegression(max_iter=1000)\n",
    "\n",
    "sfs = SFS(logit_model_SW, \n",
    "          k_features='best', \n",
    "          forward=True, \n",
    "          floating=False, \n",
    "          verbose=2,\n",
    "          scoring='roc_auc',\n",
    "          cv=5)\n",
    "\n",
    "sfs = sfs.fit(X_train_scaled, y_train)\n",
    "\n",
    "selected_features = list(sfs.k_feature_names_)\n",
    "print(\"Características seleccionadas:\", selected_features)\n",
    "\n",
    "logit_model_SFS = LogisticRegression(max_iter=1000).fit(X_train_scaled[:, sfs.k_feature_idx_], y_train)\n",
    "print(\"Coeficientes del modelo final:\", logit_model_SFS.coef_)\n",
    "\n",
    "y_pred_logitSFS = logit_model_SFS.predict(X_test_scaled[:, sfs.k_feature_idx_])"
   ]
  },
  {
   "cell_type": "code",
   "execution_count": 42,
   "id": "faef5661",
   "metadata": {
    "scrolled": true
   },
   "outputs": [
    {
     "data": {
      "text/html": [
       "<div>\n",
       "<style scoped>\n",
       "    .dataframe tbody tr th:only-of-type {\n",
       "        vertical-align: middle;\n",
       "    }\n",
       "\n",
       "    .dataframe tbody tr th {\n",
       "        vertical-align: top;\n",
       "    }\n",
       "\n",
       "    .dataframe thead th {\n",
       "        text-align: right;\n",
       "    }\n",
       "</style>\n",
       "<table border=\"1\" class=\"dataframe\">\n",
       "  <thead>\n",
       "    <tr style=\"text-align: right;\">\n",
       "      <th></th>\n",
       "      <th>Variable</th>\n",
       "      <th>Coeficiente</th>\n",
       "    </tr>\n",
       "  </thead>\n",
       "  <tbody>\n",
       "    <tr>\n",
       "      <th>0</th>\n",
       "      <td>edad_solicitud</td>\n",
       "      <td>0.350420</td>\n",
       "    </tr>\n",
       "    <tr>\n",
       "      <th>1</th>\n",
       "      <td>LimiteCredito</td>\n",
       "      <td>-0.055627</td>\n",
       "    </tr>\n",
       "    <tr>\n",
       "      <th>2</th>\n",
       "      <td>Canal_ingreso_Call Center</td>\n",
       "      <td>0.211249</td>\n",
       "    </tr>\n",
       "    <tr>\n",
       "      <th>3</th>\n",
       "      <td>Canal_ingreso_Red</td>\n",
       "      <td>0.074152</td>\n",
       "    </tr>\n",
       "    <tr>\n",
       "      <th>4</th>\n",
       "      <td>sexo_F</td>\n",
       "      <td>0.030301</td>\n",
       "    </tr>\n",
       "    <tr>\n",
       "      <th>5</th>\n",
       "      <td>departamento_Canelones</td>\n",
       "      <td>0.089955</td>\n",
       "    </tr>\n",
       "    <tr>\n",
       "      <th>6</th>\n",
       "      <td>departamento_Maldonado</td>\n",
       "      <td>0.080516</td>\n",
       "    </tr>\n",
       "    <tr>\n",
       "      <th>7</th>\n",
       "      <td>departamento_Montevideo</td>\n",
       "      <td>0.140991</td>\n",
       "    </tr>\n",
       "    <tr>\n",
       "      <th>8</th>\n",
       "      <td>departamento_Rivera</td>\n",
       "      <td>-0.106567</td>\n",
       "    </tr>\n",
       "    <tr>\n",
       "      <th>9</th>\n",
       "      <td>departamento_Rocha</td>\n",
       "      <td>-0.110736</td>\n",
       "    </tr>\n",
       "    <tr>\n",
       "      <th>10</th>\n",
       "      <td>departamento_Treinta y Tres</td>\n",
       "      <td>-0.092486</td>\n",
       "    </tr>\n",
       "    <tr>\n",
       "      <th>11</th>\n",
       "      <td>mes_entrega_tarjeta_1</td>\n",
       "      <td>-0.297385</td>\n",
       "    </tr>\n",
       "    <tr>\n",
       "      <th>12</th>\n",
       "      <td>mes_entrega_tarjeta_2</td>\n",
       "      <td>-0.209835</td>\n",
       "    </tr>\n",
       "    <tr>\n",
       "      <th>13</th>\n",
       "      <td>mes_entrega_tarjeta_4</td>\n",
       "      <td>-0.031734</td>\n",
       "    </tr>\n",
       "    <tr>\n",
       "      <th>14</th>\n",
       "      <td>mes_entrega_tarjeta_6</td>\n",
       "      <td>-0.053149</td>\n",
       "    </tr>\n",
       "    <tr>\n",
       "      <th>15</th>\n",
       "      <td>mes_entrega_tarjeta_10</td>\n",
       "      <td>0.044657</td>\n",
       "    </tr>\n",
       "    <tr>\n",
       "      <th>16</th>\n",
       "      <td>mes_entrega_tarjeta_11</td>\n",
       "      <td>0.052239</td>\n",
       "    </tr>\n",
       "    <tr>\n",
       "      <th>17</th>\n",
       "      <td>mes_entrega_tarjeta_12</td>\n",
       "      <td>0.075767</td>\n",
       "    </tr>\n",
       "  </tbody>\n",
       "</table>\n",
       "</div>"
      ],
      "text/plain": [
       "                       Variable  Coeficiente\n",
       "0                edad_solicitud     0.350420\n",
       "1                 LimiteCredito    -0.055627\n",
       "2     Canal_ingreso_Call Center     0.211249\n",
       "3             Canal_ingreso_Red     0.074152\n",
       "4                        sexo_F     0.030301\n",
       "5        departamento_Canelones     0.089955\n",
       "6        departamento_Maldonado     0.080516\n",
       "7       departamento_Montevideo     0.140991\n",
       "8           departamento_Rivera    -0.106567\n",
       "9            departamento_Rocha    -0.110736\n",
       "10  departamento_Treinta y Tres    -0.092486\n",
       "11        mes_entrega_tarjeta_1    -0.297385\n",
       "12        mes_entrega_tarjeta_2    -0.209835\n",
       "13        mes_entrega_tarjeta_4    -0.031734\n",
       "14        mes_entrega_tarjeta_6    -0.053149\n",
       "15       mes_entrega_tarjeta_10     0.044657\n",
       "16       mes_entrega_tarjeta_11     0.052239\n",
       "17       mes_entrega_tarjeta_12     0.075767"
      ]
     },
     "execution_count": 42,
     "metadata": {},
     "output_type": "execute_result"
    }
   ],
   "source": [
    "feature_names = X_train_full.columns\n",
    "\n",
    "selected_coefs = logit_model_SFS.coef_[0]\n",
    "selected_indices = [int(index) for index in selected_features]\n",
    "selected_coef_df = pd.DataFrame({'Variable': feature_names[selected_indices], 'Coeficiente': selected_coefs})\n",
    "selected_coef_df"
   ]
  },
  {
   "cell_type": "code",
   "execution_count": 43,
   "id": "96c49bd3",
   "metadata": {},
   "outputs": [
    {
     "name": "stdout",
     "output_type": "stream",
     "text": [
      "Variables seleccionadas: ['edad_solicitud', 'LimiteCredito', 'Canal_ingreso_Call Center', 'Canal_ingreso_Red', 'sexo_F', 'departamento_Canelones', 'departamento_Maldonado', 'departamento_Montevideo', 'departamento_Rivera', 'departamento_Rocha', 'departamento_Treinta y Tres', 'mes_entrega_tarjeta_1', 'mes_entrega_tarjeta_2', 'mes_entrega_tarjeta_4', 'mes_entrega_tarjeta_6', 'mes_entrega_tarjeta_10', 'mes_entrega_tarjeta_11', 'mes_entrega_tarjeta_12']\n"
     ]
    }
   ],
   "source": [
    "selected_features_names = [feature_names[index] for index in selected_indices]\n",
    "\n",
    "print(\"Variables seleccionadas:\", selected_features_names)"
   ]
  },
  {
   "cell_type": "markdown",
   "id": "d1a10169",
   "metadata": {},
   "source": [
    "# MODELOS REDUCIDOS"
   ]
  },
  {
   "cell_type": "code",
   "execution_count": 44,
   "id": "e10a330a",
   "metadata": {},
   "outputs": [],
   "source": [
    "eliminar_reducido = ['fechaingreso','fecha_nacimiento','id_estado_civil',\n",
    "                        'id_departamento','id_tipotrabajo','tipo_trabajo','FechaModificacion', 'AñoMesModificacion',\n",
    "                        'UltimoEstado','UltimoIdEstado','AñoMesIngreso', 'fecha','log_ingresos', 'zona',\n",
    "                        'ingresos_inferidos', 'ingresos','año', 'mes','estado_civil_Casado', 'estado_civil_Divorciado',\n",
    "                         'estado_civil_Separado', 'estado_civil_Soltero', 'estado_civil_Unión Libre', 'estado_civil_Viudo',\n",
    "                        'mes_entrega_tarjeta_1', 'mes_entrega_tarjeta_2', 'mes_entrega_tarjeta_3','mes_entrega_tarjeta_4',\n",
    "                         'mes_entrega_tarjeta_5', 'mes_entrega_tarjeta_6', 'mes_entrega_tarjeta_7','mes_entrega_tarjeta_8',\n",
    "                         'mes_entrega_tarjeta_9', 'mes_entrega_tarjeta_10', 'mes_entrega_tarjeta_11','mes_entrega_tarjeta_12'] "
   ]
  },
  {
   "cell_type": "code",
   "execution_count": 45,
   "id": "f30df44a",
   "metadata": {},
   "outputs": [],
   "source": [
    "X_train_reducido = X_train.drop(columns=eliminar_reducido)\n",
    "X_test_reducido = X_test.drop(columns=eliminar_reducido)"
   ]
  },
  {
   "cell_type": "markdown",
   "id": "66f8a148",
   "metadata": {},
   "source": [
    "# Logistica"
   ]
  },
  {
   "cell_type": "code",
   "execution_count": 46,
   "id": "d55b1894",
   "metadata": {},
   "outputs": [],
   "source": [
    "from sklearn.linear_model import LogisticRegression\n",
    "from sklearn.metrics import accuracy_score \n",
    "\n",
    "logit_model_red = LogisticRegression(max_iter=1000) #max_iter=1000, C=1.0\n",
    "\n",
    "logit_model_red.fit(X_train_reducido, y_train)\n",
    "\n",
    "y_pred_log_red = logit_model_red.predict(X_test_reducido)\n",
    "\n",
    "accuracy_red = accuracy_score(y_test, y_pred_log_red)"
   ]
  },
  {
   "cell_type": "code",
   "execution_count": 47,
   "id": "197163fe",
   "metadata": {
    "scrolled": false
   },
   "outputs": [
    {
     "name": "stdout",
     "output_type": "stream",
     "text": [
      "Optimization terminated successfully.\n",
      "         Current function value: 0.184988\n",
      "         Iterations 8\n",
      "Accuracy: 0.9541462656407865\n",
      "                           Logit Regression Results                           \n",
      "==============================================================================\n",
      "Dep. Variable:               devuelta   No. Observations:                30022\n",
      "Model:                          Logit   Df Residuals:                    29997\n",
      "Method:                           MLE   Df Model:                           24\n",
      "Date:                Mon, 25 Nov 2024   Pseudo R-squ.:                 0.02987\n",
      "Time:                        20:43:49   Log-Likelihood:                -5553.7\n",
      "converged:                       True   LL-Null:                       -5724.7\n",
      "Covariance Type:            nonrobust   LLR p-value:                 5.484e-58\n",
      "===============================================================================================\n",
      "                                  coef    std err          z      P>|z|      [0.025      0.975]\n",
      "-----------------------------------------------------------------------------------------------\n",
      "const                          -1.6450   1.12e+06  -1.47e-06      1.000   -2.19e+06    2.19e+06\n",
      "edad_solicitud                  0.0198      0.001     13.238      0.000       0.017       0.023\n",
      "LimiteCredito               -2.821e-06   1.63e-06     -1.732      0.083   -6.01e-06    3.71e-07\n",
      "Canal_ingreso_Call Center      -0.3059   2.16e+06  -1.41e-07      1.000   -4.24e+06    4.24e+06\n",
      "Canal_ingreso_Red              -0.7081   2.16e+06  -3.27e-07      1.000   -4.24e+06    4.24e+06\n",
      "Canal_ingreso_Venta Digital    -0.6311   2.16e+06  -2.92e-07      1.000   -4.24e+06    4.24e+06\n",
      "vuelta_clases_no               -0.8284   1.18e+06  -7.04e-07      1.000   -2.31e+06    2.31e+06\n",
      "vuelta_clases_si               -0.8167   1.22e+06  -6.72e-07      1.000   -2.38e+06    2.38e+06\n",
      "sexo_F                         -0.7871   1.02e+06  -7.73e-07      1.000   -1.99e+06    1.99e+06\n",
      "sexo_M                         -0.8579   1.02e+06  -8.43e-07      1.000   -1.99e+06    1.99e+06\n",
      "departamento_Artigas           -0.2911   4.13e+06  -7.05e-08      1.000    -8.1e+06     8.1e+06\n",
      "departamento_Canelones          0.2125   4.13e+06   5.14e-08      1.000    -8.1e+06     8.1e+06\n",
      "departamento_Cerro Largo       -0.0506   4.13e+06  -1.22e-08      1.000    -8.1e+06     8.1e+06\n",
      "departamento_Colonia            0.0080   4.13e+06   1.94e-09      1.000    -8.1e+06     8.1e+06\n",
      "departamento_Durazno            0.0012   4.13e+06   2.87e-10      1.000    -8.1e+06     8.1e+06\n",
      "departamento_Flores             0.2867   4.13e+06   6.94e-08      1.000    -8.1e+06     8.1e+06\n",
      "departamento_Florida            0.0228   4.13e+06   5.52e-09      1.000    -8.1e+06     8.1e+06\n",
      "departamento_Lavalleja          0.3994   4.13e+06   9.67e-08      1.000    -8.1e+06     8.1e+06\n",
      "departamento_Maldonado          0.3024   4.13e+06   7.32e-08      1.000    -8.1e+06     8.1e+06\n",
      "departamento_Montevideo         0.2469   4.13e+06   5.98e-08      1.000    -8.1e+06     8.1e+06\n",
      "departamento_Paysandú          -0.2636   4.13e+06  -6.38e-08      1.000    -8.1e+06     8.1e+06\n",
      "departamento_Rivera            -0.5929   4.13e+06  -1.44e-07      1.000    -8.1e+06     8.1e+06\n",
      "departamento_Rocha             -0.7651   4.13e+06  -1.85e-07      1.000    -8.1e+06     8.1e+06\n",
      "departamento_Río Negro         -0.2927   4.13e+06  -7.08e-08      1.000    -8.1e+06     8.1e+06\n",
      "departamento_Salto              0.0243   4.13e+06   5.88e-09      1.000    -8.1e+06     8.1e+06\n",
      "departamento_San José          -0.0872   4.13e+06  -2.11e-08      1.000    -8.1e+06     8.1e+06\n",
      "departamento_Soriano            0.1209   4.13e+06   2.93e-08      1.000    -8.1e+06     8.1e+06\n",
      "departamento_Tacuarembó        -0.1453   4.13e+06  -3.52e-08      1.000    -8.1e+06     8.1e+06\n",
      "departamento_Treinta y Tres    -0.7817   4.13e+06  -1.89e-07      1.000    -8.1e+06     8.1e+06\n",
      "===============================================================================================\n"
     ]
    }
   ],
   "source": [
    "import statsmodels.api as sm\n",
    "from sklearn.metrics import accuracy_score\n",
    "import numpy as np\n",
    "\n",
    "X_train_reducido = sm.add_constant(X_train_reducido)\n",
    "X_test_reducido = sm.add_constant(X_test_reducido)\n",
    "\n",
    "logit_model_red = sm.Logit(y_train, X_train_reducido)\n",
    "result_red = logit_model_red.fit()\n",
    "\n",
    "y_pred_log_prob_red = result_red.predict(X_test_reducido)\n",
    "y_pred_log_red = np.where(y_pred_log_prob_red > 0.5, 1, 0) \n",
    "\n",
    "accuracy = accuracy_score(y_test, y_pred_log_red)\n",
    "print(\"Accuracy:\", accuracy)\n",
    "\n",
    "print(result_red.summary())\n"
   ]
  },
  {
   "cell_type": "code",
   "execution_count": 48,
   "id": "84a0a119",
   "metadata": {},
   "outputs": [
    {
     "data": {
      "image/png": "[encoded data removed]",
      "text/plain": [
       "<Figure size 576x432 with 1 Axes>"
      ]
     },
     "metadata": {
      "needs_background": "light"
     },
     "output_type": "display_data"
    }
   ],
   "source": [
    "from sklearn.model_selection import train_test_split\n",
    "from sklearn.linear_model import LogisticRegression\n",
    "from sklearn.metrics import accuracy_score, roc_curve, roc_auc_score\n",
    "import matplotlib.pyplot as plt\n",
    "\n",
    "logit_model_red = LogisticRegression(max_iter=1000)\n",
    "logit_model_red.fit(X_train_reducido, y_train)\n",
    "\n",
    "y_pred_log_red = logit_model_red.predict(X_test_reducido)\n",
    "y_prob_log_red = logit_model_red.predict_proba(X_test_reducido)[:, 1]\n",
    "\n",
    "fpr_log_red, tpr_log_red, thresholds_log_red = roc_curve(y_test, y_prob_log_red)\n",
    "auc_log_red = roc_auc_score(y_test, y_prob_log_red)\n",
    "\n",
    "plt.figure(figsize=(8, 6))\n",
    "plt.plot(fpr_log_red, tpr_log_red, color='blue'\n",
    "         , lw=2, label='ROC curve (area = %0.2f)' % auc_log_red)\n",
    "plt.plot([0, 1], [0, 1], color='gray', linestyle='--')\n",
    "plt.xlim([0.0, 1.0])\n",
    "plt.ylim([0.0, 1.05])\n",
    "plt.xlabel('False Positive Rate')\n",
    "plt.ylabel('True Positive Rate')\n",
    "plt.title('ROC Curve - Modelo Logistico')\n",
    "plt.legend(loc='lower right')\n",
    "plt.show()"
   ]
  },
  {
   "cell_type": "code",
   "execution_count": 49,
   "id": "4c7b3fc3",
   "metadata": {},
   "outputs": [
    {
     "data": {
      "image/png": "[encoded data removed]",
      "text/plain": [
       "<Figure size 576x432 with 1 Axes>"
      ]
     },
     "metadata": {
      "needs_background": "light"
     },
     "output_type": "display_data"
    },
    {
     "name": "stdout",
     "output_type": "stream",
     "text": [
      "Optimal Threshold: 0.0335652411474682\n"
     ]
    }
   ],
   "source": [
    "from sklearn.metrics import roc_curve, roc_auc_score\n",
    "import matplotlib.pyplot as plt\n",
    "\n",
    "y_prob_log_red = logit_model_red.predict_proba(X_test_reducido)[:, 1]\n",
    "\n",
    "fpr_log_red, tpr_log_red, thresholds_log_red = roc_curve(y_test, y_prob_log_red)\n",
    "\n",
    "auc_log_red = roc_auc_score(y_test, y_prob_log_red)\n",
    "\n",
    "Youden_index_log_red = tpr_log_red - fpr_log_red\n",
    "optimal_threshold_index_log_red = np.argmax(Youden_index_log_red)\n",
    "optimal_threshold_log_red = thresholds_log[optimal_threshold_index_log_red]\n",
    "\n",
    "plt.figure(figsize=(8, 6))\n",
    "plt.plot(fpr_log_red, tpr_log_red, color='blue', lw=2, label='ROC curve (area = %0.2f)' % auc_log_red)\n",
    "plt.scatter(fpr_log_red[optimal_threshold_index_log_red]\n",
    "            , tpr_log_red[optimal_threshold_index_log_red]\n",
    "            , color='red', s=100, label='Optimal Threshold')\n",
    "plt.plot([0, 1], [0, 1], color='gray', linestyle='--')\n",
    "plt.xlim([0.0, 1.0])\n",
    "plt.ylim([0.0, 1.05])\n",
    "plt.xlabel('False Positive Rate')\n",
    "plt.ylabel('True Positive Rate')\n",
    "plt.title('ROC Curve - Modelo Logistico - Optimal Threshold')\n",
    "plt.legend(loc='lower right')\n",
    "plt.show()\n",
    "\n",
    "print(\"Optimal Threshold:\", optimal_threshold_log_red)"
   ]
  },
  {
   "cell_type": "code",
   "execution_count": 50,
   "id": "06008e8c",
   "metadata": {},
   "outputs": [
    {
     "name": "stdout",
     "output_type": "stream",
     "text": [
      "Matriz de confusión:\n",
      "[[4642 7635]\n",
      " [ 180  410]]\n"
     ]
    }
   ],
   "source": [
    "import numpy as np\n",
    "from sklearn.metrics import confusion_matrix\n",
    "\n",
    "y_pred_optimal_threshold_log_red = (y_prob_log_red >= optimal_threshold_log_red).astype(int)\n",
    "\n",
    "conf_matrix_log_red = confusion_matrix(y_test, y_pred_optimal_threshold_log_red)\n",
    "\n",
    "print(\"Matriz de confusión:\")\n",
    "print(conf_matrix_log_red)"
   ]
  },
  {
   "cell_type": "code",
   "execution_count": 51,
   "id": "4456c27e",
   "metadata": {},
   "outputs": [
    {
     "name": "stdout",
     "output_type": "stream",
     "text": [
      "Falsos Negativos (FN): 180\n"
     ]
    }
   ],
   "source": [
    "fn_index_row = 1  \n",
    "fn_index_col = 0 \n",
    "fn_count = conf_matrix_log_red[fn_index_row, fn_index_col]\n",
    "\n",
    "print(\"Falsos Negativos (FN):\", fn_count)"
   ]
  },
  {
   "cell_type": "code",
   "execution_count": 52,
   "id": "82378ac8",
   "metadata": {},
   "outputs": [
    {
     "data": {
      "text/html": [
       "<div>\n",
       "<style scoped>\n",
       "    .dataframe tbody tr th:only-of-type {\n",
       "        vertical-align: middle;\n",
       "    }\n",
       "\n",
       "    .dataframe tbody tr th {\n",
       "        vertical-align: top;\n",
       "    }\n",
       "\n",
       "    .dataframe thead th {\n",
       "        text-align: right;\n",
       "    }\n",
       "</style>\n",
       "<table border=\"1\" class=\"dataframe\">\n",
       "  <thead>\n",
       "    <tr style=\"text-align: right;\">\n",
       "      <th></th>\n",
       "      <th>y_prob</th>\n",
       "      <th>y_pred</th>\n",
       "      <th>y_pred_OT</th>\n",
       "    </tr>\n",
       "  </thead>\n",
       "  <tbody>\n",
       "    <tr>\n",
       "      <th>16695</th>\n",
       "      <td>0.050284</td>\n",
       "      <td>0</td>\n",
       "      <td>1</td>\n",
       "    </tr>\n",
       "    <tr>\n",
       "      <th>40222</th>\n",
       "      <td>0.024505</td>\n",
       "      <td>0</td>\n",
       "      <td>0</td>\n",
       "    </tr>\n",
       "    <tr>\n",
       "      <th>33953</th>\n",
       "      <td>0.023938</td>\n",
       "      <td>0</td>\n",
       "      <td>0</td>\n",
       "    </tr>\n",
       "    <tr>\n",
       "      <th>42452</th>\n",
       "      <td>0.024991</td>\n",
       "      <td>0</td>\n",
       "      <td>0</td>\n",
       "    </tr>\n",
       "    <tr>\n",
       "      <th>18606</th>\n",
       "      <td>0.042693</td>\n",
       "      <td>0</td>\n",
       "      <td>1</td>\n",
       "    </tr>\n",
       "    <tr>\n",
       "      <th>...</th>\n",
       "      <td>...</td>\n",
       "      <td>...</td>\n",
       "      <td>...</td>\n",
       "    </tr>\n",
       "    <tr>\n",
       "      <th>26626</th>\n",
       "      <td>0.034179</td>\n",
       "      <td>0</td>\n",
       "      <td>1</td>\n",
       "    </tr>\n",
       "    <tr>\n",
       "      <th>6494</th>\n",
       "      <td>0.097337</td>\n",
       "      <td>0</td>\n",
       "      <td>1</td>\n",
       "    </tr>\n",
       "    <tr>\n",
       "      <th>3234</th>\n",
       "      <td>0.027342</td>\n",
       "      <td>0</td>\n",
       "      <td>0</td>\n",
       "    </tr>\n",
       "    <tr>\n",
       "      <th>28370</th>\n",
       "      <td>0.030460</td>\n",
       "      <td>0</td>\n",
       "      <td>0</td>\n",
       "    </tr>\n",
       "    <tr>\n",
       "      <th>37834</th>\n",
       "      <td>0.032253</td>\n",
       "      <td>0</td>\n",
       "      <td>0</td>\n",
       "    </tr>\n",
       "  </tbody>\n",
       "</table>\n",
       "<p>12867 rows × 3 columns</p>\n",
       "</div>"
      ],
      "text/plain": [
       "         y_prob  y_pred  y_pred_OT\n",
       "16695  0.050284       0          1\n",
       "40222  0.024505       0          0\n",
       "33953  0.023938       0          0\n",
       "42452  0.024991       0          0\n",
       "18606  0.042693       0          1\n",
       "...         ...     ...        ...\n",
       "26626  0.034179       0          1\n",
       "6494   0.097337       0          1\n",
       "3234   0.027342       0          0\n",
       "28370  0.030460       0          0\n",
       "37834  0.032253       0          0\n",
       "\n",
       "[12867 rows x 3 columns]"
      ]
     },
     "execution_count": 52,
     "metadata": {},
     "output_type": "execute_result"
    }
   ],
   "source": [
    "y_prob_log_red = logit_model_red.predict_proba(X_test_reducido)[:, 1]\n",
    "y_pred_log_red = (y_prob_log_red > 0.5).astype(int)\n",
    "y_pred_optimal_threshold_log_red = (y_prob_log_red >= optimal_threshold_log_red).astype(int)\n",
    "\n",
    "result_log_red = pd.DataFrame({'y_prob': y_prob_log_red,\n",
    "                              'y_pred': y_pred_log_red,\n",
    "                             'y_pred_OT' : y_pred_optimal_threshold_log_red\n",
    "                             }, index=X_test_reducido.index)\n",
    "result_log_red"
   ]
  },
  {
   "cell_type": "code",
   "execution_count": 53,
   "id": "8e80f144",
   "metadata": {},
   "outputs": [
    {
     "name": "stdout",
     "output_type": "stream",
     "text": [
      "log_red model:\n",
      "KS: 0.1122 (p-value: 1.261e-06)\n",
      "ROC AUC: 0.5633\n"
     ]
    }
   ],
   "source": [
    "from scipy.stats import ks_2samp\n",
    "from sklearn.metrics import roc_auc_score\n",
    "\n",
    "def evaluate_ks_and_roc_auc_red(y_real_log_red, y_proba_log_red):\n",
    "    df_red = pd.DataFrame()\n",
    "    df_red['real'] = y_real_log_red\n",
    "    df_red['proba'] = y_proba_log_red\n",
    "    class0 = df_red[df_red['real'] == 0]\n",
    "    class1 = df_red[df_red['real'] == 1]\n",
    "    ks_red = ks_2samp(class0['proba'], class1['proba'])\n",
    "    roc_auc_red = roc_auc_score(df_red['real'], df_red['proba'])\n",
    "    print(f\"KS: {ks_red.statistic:.4f} (p-value: {ks_red.pvalue:.3e})\")\n",
    "    print(f\"ROC AUC: {roc_auc_red:.4f}\")\n",
    "    return ks_red.statistic, roc_auc_red\n",
    "\n",
    "print(\"log_red model:\")\n",
    "ks_base_log_red, auc_base_log_red = evaluate_ks_and_roc_auc_red(y_test, y_prob_log_red)"
   ]
  },
  {
   "cell_type": "code",
   "execution_count": 54,
   "id": "fe8f8fd2",
   "metadata": {},
   "outputs": [
    {
     "data": {
      "text/html": [
       "<div>\n",
       "<style scoped>\n",
       "    .dataframe tbody tr th:only-of-type {\n",
       "        vertical-align: middle;\n",
       "    }\n",
       "\n",
       "    .dataframe tbody tr th {\n",
       "        vertical-align: top;\n",
       "    }\n",
       "\n",
       "    .dataframe thead th {\n",
       "        text-align: right;\n",
       "    }\n",
       "</style>\n",
       "<table border=\"1\" class=\"dataframe\">\n",
       "  <thead>\n",
       "    <tr style=\"text-align: right;\">\n",
       "      <th></th>\n",
       "      <th>Modelo</th>\n",
       "      <th>KS</th>\n",
       "      <th>ROC AUC</th>\n",
       "    </tr>\n",
       "  </thead>\n",
       "  <tbody>\n",
       "    <tr>\n",
       "      <th>0</th>\n",
       "      <td>Logistico Reducido</td>\n",
       "      <td>0.112</td>\n",
       "      <td>0.563</td>\n",
       "    </tr>\n",
       "  </tbody>\n",
       "</table>\n",
       "</div>"
      ],
      "text/plain": [
       "               Modelo     KS  ROC AUC\n",
       "0  Logistico Reducido  0.112    0.563"
      ]
     },
     "execution_count": 54,
     "metadata": {},
     "output_type": "execute_result"
    }
   ],
   "source": [
    "results_df_log_red = pd.DataFrame({\n",
    "    'Modelo': ['Logistico Reducido'],\n",
    "    'KS': [ks_base_log_red],\n",
    "    'ROC AUC': [auc_base_log_red]\n",
    "})\n",
    "\n",
    "results_df_log_red = results_df_log_red.round(3)\n",
    "results_df_log_red"
   ]
  },
  {
   "cell_type": "markdown",
   "id": "51a44b20",
   "metadata": {},
   "source": [
    "# Random forest"
   ]
  },
  {
   "cell_type": "code",
   "execution_count": 55,
   "id": "bedb8f64",
   "metadata": {},
   "outputs": [],
   "source": [
    "from sklearn.ensemble import RandomForestClassifier\n",
    "from sklearn.metrics import accuracy_score\n",
    "\n",
    "rf_model_red = RandomForestClassifier()\n",
    "\n",
    "rf_model_red.fit(X_train_reducido, y_train)\n",
    "\n",
    "y_pred_rf_red = rf_model_red.predict(X_test_reducido)\n",
    "\n",
    "accuracy = accuracy_score(y_test, y_pred_rf_red)"
   ]
  },
  {
   "cell_type": "code",
   "execution_count": 56,
   "id": "39f67d48",
   "metadata": {},
   "outputs": [
    {
     "data": {
      "image/png": "[encoded data removed]",
      "text/plain": [
       "<Figure size 576x432 with 1 Axes>"
      ]
     },
     "metadata": {
      "needs_background": "light"
     },
     "output_type": "display_data"
    }
   ],
   "source": [
    "from sklearn.metrics import roc_curve, roc_auc_score\n",
    "import matplotlib.pyplot as plt\n",
    "\n",
    "y_prob_rf_red = rf_model_red.predict_proba(X_test_reducido)[:, 1]\n",
    "fpr_rf_red, tpr_rf_red, thresholds_rf_red = roc_curve(y_test, y_prob_rf_red)\n",
    "auc_rf_red = roc_auc_score(y_test, y_prob_rf_red)\n",
    "\n",
    "plt.figure(figsize=(8, 6))\n",
    "plt.plot(fpr_rf_red, tpr_rf_red, color='blue', lw=2, label='ROC curve (AUC = %0.2f)' % auc_rf_red)\n",
    "plt.plot([0, 1], [0, 1], color='gray', linestyle='--')\n",
    "plt.xlim([0.0, 1.0])\n",
    "plt.ylim([0.0, 1.05])\n",
    "plt.xlabel('False Positive Rate')\n",
    "plt.ylabel('True Positive Rate')\n",
    "plt.title('ROC Curve - Random Forest')\n",
    "plt.legend(loc='lower right')\n",
    "plt.show()"
   ]
  },
  {
   "cell_type": "code",
   "execution_count": 57,
   "id": "172eda29",
   "metadata": {},
   "outputs": [
    {
     "data": {
      "image/png": "[encoded data removed]",
      "text/plain": [
       "<Figure size 576x432 with 1 Axes>"
      ]
     },
     "metadata": {
      "needs_background": "light"
     },
     "output_type": "display_data"
    },
    {
     "name": "stdout",
     "output_type": "stream",
     "text": [
      "Optimal Threshold: 0.003928571428571429\n"
     ]
    }
   ],
   "source": [
    "from sklearn.metrics import roc_curve, roc_auc_score\n",
    "import matplotlib.pyplot as plt\n",
    "\n",
    "y_prob_rf_red = rf_model_red.predict_proba(X_test_reducido)[:, 1]\n",
    "\n",
    "fpr_rf_red, tpr_rf_red, thresholds_rf_red = roc_curve(y_test, y_prob_rf_red)\n",
    "\n",
    "auc_rf_red = roc_auc_score(y_test, y_prob_rf_red)\n",
    "\n",
    "Youden_index_rf_red = tpr_rf_red - fpr_rf_red\n",
    "optimal_threshold_index_rf_red = np.argmax(Youden_index_rf_red)\n",
    "optimal_threshold_rf_red = thresholds_rf_red[optimal_threshold_index_rf_red]\n",
    "\n",
    "plt.figure(figsize=(8, 6))\n",
    "plt.plot(fpr_rf_red, tpr_rf_red, color='blue', lw=2, label='ROC curve (area = %0.2f)' % auc_rf_red)\n",
    "plt.scatter(fpr_rf_red[optimal_threshold_index_rf_red], tpr_rf_red[optimal_threshold_index_rf_red], color='red', s=100\n",
    "            , label='Optimal Threshold')\n",
    "plt.plot([0, 1], [0, 1], color='gray', linestyle='--')\n",
    "plt.xlim([0.0, 1.0])\n",
    "plt.ylim([0.0, 1.05])\n",
    "plt.xlabel('False Positive Rate')\n",
    "plt.ylabel('True Positive Rate')\n",
    "plt.title('ROC Curve - Random Forest - Optimal Threshold')\n",
    "plt.legend(loc='lower right')\n",
    "plt.show()\n",
    "\n",
    "print(\"Optimal Threshold:\", optimal_threshold_rf_red)"
   ]
  },
  {
   "cell_type": "code",
   "execution_count": 58,
   "id": "b62cc20f",
   "metadata": {},
   "outputs": [
    {
     "name": "stdout",
     "output_type": "stream",
     "text": [
      "Matriz de Confusión:\n",
      "[[3790 8487]\n",
      " [ 140  450]]\n"
     ]
    }
   ],
   "source": [
    "from sklearn.metrics import confusion_matrix\n",
    "\n",
    "y_prob_rf_red = rf_model_red.predict_proba(X_test_reducido)[:, 1]\n",
    "\n",
    "y_pred_optimal_rf_red = (y_prob_rf >= optimal_threshold_rf_red).astype(int)\n",
    "\n",
    "conf_matrix_rf_red = confusion_matrix(y_test, y_pred_optimal_rf_red)\n",
    "\n",
    "print(\"Matriz de Confusión:\")\n",
    "print(conf_matrix_rf_red)"
   ]
  },
  {
   "cell_type": "code",
   "execution_count": 59,
   "id": "3a62f461",
   "metadata": {},
   "outputs": [
    {
     "data": {
      "text/html": [
       "<div>\n",
       "<style scoped>\n",
       "    .dataframe tbody tr th:only-of-type {\n",
       "        vertical-align: middle;\n",
       "    }\n",
       "\n",
       "    .dataframe tbody tr th {\n",
       "        vertical-align: top;\n",
       "    }\n",
       "\n",
       "    .dataframe thead th {\n",
       "        text-align: right;\n",
       "    }\n",
       "</style>\n",
       "<table border=\"1\" class=\"dataframe\">\n",
       "  <thead>\n",
       "    <tr style=\"text-align: right;\">\n",
       "      <th></th>\n",
       "      <th>y_prob</th>\n",
       "      <th>y_pred</th>\n",
       "      <th>y_pred_OT</th>\n",
       "    </tr>\n",
       "  </thead>\n",
       "  <tbody>\n",
       "    <tr>\n",
       "      <th>16695</th>\n",
       "      <td>0.00</td>\n",
       "      <td>0</td>\n",
       "      <td>0</td>\n",
       "    </tr>\n",
       "    <tr>\n",
       "      <th>40222</th>\n",
       "      <td>0.00</td>\n",
       "      <td>0</td>\n",
       "      <td>0</td>\n",
       "    </tr>\n",
       "    <tr>\n",
       "      <th>33953</th>\n",
       "      <td>0.01</td>\n",
       "      <td>0</td>\n",
       "      <td>1</td>\n",
       "    </tr>\n",
       "    <tr>\n",
       "      <th>42452</th>\n",
       "      <td>0.00</td>\n",
       "      <td>0</td>\n",
       "      <td>0</td>\n",
       "    </tr>\n",
       "    <tr>\n",
       "      <th>18606</th>\n",
       "      <td>0.00</td>\n",
       "      <td>0</td>\n",
       "      <td>0</td>\n",
       "    </tr>\n",
       "    <tr>\n",
       "      <th>...</th>\n",
       "      <td>...</td>\n",
       "      <td>...</td>\n",
       "      <td>...</td>\n",
       "    </tr>\n",
       "    <tr>\n",
       "      <th>26626</th>\n",
       "      <td>0.02</td>\n",
       "      <td>0</td>\n",
       "      <td>1</td>\n",
       "    </tr>\n",
       "    <tr>\n",
       "      <th>6494</th>\n",
       "      <td>0.01</td>\n",
       "      <td>0</td>\n",
       "      <td>1</td>\n",
       "    </tr>\n",
       "    <tr>\n",
       "      <th>3234</th>\n",
       "      <td>0.00</td>\n",
       "      <td>0</td>\n",
       "      <td>0</td>\n",
       "    </tr>\n",
       "    <tr>\n",
       "      <th>28370</th>\n",
       "      <td>0.00</td>\n",
       "      <td>0</td>\n",
       "      <td>0</td>\n",
       "    </tr>\n",
       "    <tr>\n",
       "      <th>37834</th>\n",
       "      <td>0.02</td>\n",
       "      <td>0</td>\n",
       "      <td>1</td>\n",
       "    </tr>\n",
       "  </tbody>\n",
       "</table>\n",
       "<p>12867 rows × 3 columns</p>\n",
       "</div>"
      ],
      "text/plain": [
       "       y_prob  y_pred  y_pred_OT\n",
       "16695    0.00       0          0\n",
       "40222    0.00       0          0\n",
       "33953    0.01       0          1\n",
       "42452    0.00       0          0\n",
       "18606    0.00       0          0\n",
       "...       ...     ...        ...\n",
       "26626    0.02       0          1\n",
       "6494     0.01       0          1\n",
       "3234     0.00       0          0\n",
       "28370    0.00       0          0\n",
       "37834    0.02       0          1\n",
       "\n",
       "[12867 rows x 3 columns]"
      ]
     },
     "execution_count": 59,
     "metadata": {},
     "output_type": "execute_result"
    }
   ],
   "source": [
    "y_prob_rf_red = rf_model_red.predict_proba(X_test_reducido)[:, 1]\n",
    "y_pred_rf_red = rf_model_red.predict(X_test_reducido)\n",
    "y_pred_optimal_rf_red = (y_prob_rf_red >= optimal_threshold_rf_red).astype(int)\n",
    "\n",
    "\n",
    "result_df_red = pd.DataFrame({'y_prob': y_prob_rf_red, 'y_pred': y_pred_rf_red, 'y_pred_OT':y_pred_optimal_rf_red }, index=X_test.index)\n",
    "result_df_red\n"
   ]
  },
  {
   "cell_type": "code",
   "execution_count": 60,
   "id": "010e3311",
   "metadata": {},
   "outputs": [
    {
     "name": "stdout",
     "output_type": "stream",
     "text": [
      "RF model:\n",
      "KS: 0.0888 (p-value: 2.614e-04)\n",
      "ROC AUC: 0.5531\n"
     ]
    }
   ],
   "source": [
    "from scipy.stats import ks_2samp\n",
    "from sklearn.metrics import roc_auc_score\n",
    "\n",
    "def evaluate_ks_and_roc_auc(y_real_rf_red, y_proba_rf_red):\n",
    "    df = pd.DataFrame()\n",
    "    df['real'] = y_real_rf_red\n",
    "    df['proba'] = y_proba_rf_red\n",
    "    class0 = df[df['real'] == 0]\n",
    "    class1 = df[df['real'] == 1]\n",
    "    ks = ks_2samp(class0['proba'], class1['proba'])\n",
    "    roc_auc = roc_auc_score(df['real'], df['proba'])\n",
    "    print(f\"KS: {ks.statistic:.4f} (p-value: {ks.pvalue:.3e})\")\n",
    "    print(f\"ROC AUC: {roc_auc:.4f}\")\n",
    "    return ks.statistic, roc_auc\n",
    "\n",
    "print(\"RF model:\")\n",
    "ks_rf_red, auc_rf_red = evaluate_ks_and_roc_auc(y_test, y_prob_rf_red)"
   ]
  },
  {
   "cell_type": "code",
   "execution_count": 61,
   "id": "d4a9aa3c",
   "metadata": {},
   "outputs": [
    {
     "data": {
      "text/html": [
       "<div>\n",
       "<style scoped>\n",
       "    .dataframe tbody tr th:only-of-type {\n",
       "        vertical-align: middle;\n",
       "    }\n",
       "\n",
       "    .dataframe tbody tr th {\n",
       "        vertical-align: top;\n",
       "    }\n",
       "\n",
       "    .dataframe thead th {\n",
       "        text-align: right;\n",
       "    }\n",
       "</style>\n",
       "<table border=\"1\" class=\"dataframe\">\n",
       "  <thead>\n",
       "    <tr style=\"text-align: right;\">\n",
       "      <th></th>\n",
       "      <th>Modelo</th>\n",
       "      <th>KS</th>\n",
       "      <th>ROC AUC</th>\n",
       "    </tr>\n",
       "  </thead>\n",
       "  <tbody>\n",
       "    <tr>\n",
       "      <th>0</th>\n",
       "      <td>Logistico Reducido</td>\n",
       "      <td>0.112</td>\n",
       "      <td>0.563</td>\n",
       "    </tr>\n",
       "    <tr>\n",
       "      <th>1</th>\n",
       "      <td>Random Forest Reducido</td>\n",
       "      <td>0.089</td>\n",
       "      <td>0.553</td>\n",
       "    </tr>\n",
       "  </tbody>\n",
       "</table>\n",
       "</div>"
      ],
      "text/plain": [
       "                   Modelo     KS  ROC AUC\n",
       "0      Logistico Reducido  0.112    0.563\n",
       "1  Random Forest Reducido  0.089    0.553"
      ]
     },
     "execution_count": 61,
     "metadata": {},
     "output_type": "execute_result"
    }
   ],
   "source": [
    "results_df_rf_red = pd.DataFrame({\n",
    "    'Modelo': ['Random Forest Reducido'],\n",
    "    'KS': [ks_rf_red],\n",
    "    'ROC AUC': [auc_rf_red]\n",
    "})\n",
    "\n",
    "results_resumen_red = pd.concat([results_df_log_red, results_df_rf_red], ignore_index=True)\n",
    "results_resumen_red = results_resumen_red.round(3)\n",
    "results_resumen_red"
   ]
  },
  {
   "cell_type": "code",
   "execution_count": 62,
   "id": "ddd5a8d5",
   "metadata": {},
   "outputs": [
    {
     "data": {
      "image/png": "[encoded data removed]",
      "text/plain": [
       "<Figure size 576x432 with 1 Axes>"
      ]
     },
     "metadata": {
      "needs_background": "light"
     },
     "output_type": "display_data"
    }
   ],
   "source": [
    "import matplotlib.pyplot as plt\n",
    "from sklearn.metrics import roc_curve, roc_auc_score\n",
    "\n",
    "# Curva ROC - Modelo Logístico (SFS)\n",
    "plt.figure(figsize=(8, 6))\n",
    "plt.plot(fpr_log_red, tpr_log_red, color='red', lw=2\n",
    "         , label='Modelo Logístico (AUC = %0.2f)' % auc_log_red)\n",
    "\n",
    "# Curva ROC - Random Forest\n",
    "plt.plot(fpr_rf_red, tpr_rf_red, color='blue', lw=2\n",
    "         , label='Random Forest (AUC = %0.2f)' % auc_rf_red)\n",
    "\n",
    "plt.plot([0, 1], [0, 1], color='gray', linestyle='--')\n",
    "\n",
    "plt.xlim([0.0, 1.0])\n",
    "plt.ylim([0.0, 1.05])\n",
    "plt.xlabel('False Positive Rate')\n",
    "plt.ylabel('True Positive Rate')\n",
    "plt.title('ROC Curve - Comparación de Modelos Reducidos')\n",
    "plt.legend(loc='lower right')\n",
    "plt.show()"
   ]
  },
  {
   "cell_type": "markdown",
   "id": "9e0a829d",
   "metadata": {},
   "source": [
    "# XG BOOST"
   ]
  },
  {
   "cell_type": "code",
   "execution_count": 63,
   "id": "446c0e19",
   "metadata": {},
   "outputs": [
    {
     "name": "stdout",
     "output_type": "stream",
     "text": [
      "Accuracy: 0.9539908292531282\n"
     ]
    }
   ],
   "source": [
    "import xgboost as xgb\n",
    "from sklearn.metrics import classification_report\n",
    "\n",
    "xgb_model_red = xgb.XGBClassifier()\n",
    "\n",
    "xgb_model_red.fit(X_train_reducido, y_train)\n",
    "\n",
    "y_pred_xgb_red = xgb_model_red.predict(X_test_reducido)\n",
    "\n",
    "accuracy = accuracy_score(y_test, y_pred_xgb_red)\n",
    "print(\"Accuracy:\", accuracy)"
   ]
  },
  {
   "cell_type": "code",
   "execution_count": 64,
   "id": "e25e42c4",
   "metadata": {},
   "outputs": [
    {
     "data": {
      "image/png": "[encoded data removed]",
      "text/plain": [
       "<Figure size 576x432 with 1 Axes>"
      ]
     },
     "metadata": {
      "needs_background": "light"
     },
     "output_type": "display_data"
    }
   ],
   "source": [
    "from sklearn.metrics import roc_curve, roc_auc_score\n",
    "import matplotlib.pyplot as plt\n",
    "\n",
    "y_prob_xgb_red = xgb_model_red.predict_proba(X_test_reducido)[:, 1]\n",
    "\n",
    "fpr_xgb_red, tpr_xgb_red, thresholds_xgb_red = roc_curve(y_test, y_prob_xgb_red)\n",
    "\n",
    "auc_xgb_red = roc_auc_score(y_test, y_prob_xgb_red)\n",
    "\n",
    "plt.figure(figsize=(8, 6))\n",
    "plt.plot(fpr_xgb_red, tpr_xgb_red, color='blue', lw=2, label='ROC curve (AUC = %0.2f)' % auc_xgb_red)\n",
    "plt.plot([0, 1], [0, 1], color='gray', linestyle='--')\n",
    "plt.xlim([0.0, 1.0])\n",
    "plt.ylim([0.0, 1.05])\n",
    "plt.xlabel('False Positive Rate')\n",
    "plt.ylabel('True Positive Rate')\n",
    "plt.title('ROC Curve - XG Boost')\n",
    "plt.legend(loc='lower right')\n",
    "plt.show()"
   ]
  },
  {
   "cell_type": "code",
   "execution_count": 65,
   "id": "818fc075",
   "metadata": {},
   "outputs": [
    {
     "data": {
      "image/png": "[encoded data removed]",
      "text/plain": [
       "<Figure size 576x432 with 1 Axes>"
      ]
     },
     "metadata": {
      "needs_background": "light"
     },
     "output_type": "display_data"
    },
    {
     "name": "stdout",
     "output_type": "stream",
     "text": [
      "Optimal Threshold: 0.03404455\n"
     ]
    }
   ],
   "source": [
    "from sklearn.metrics import roc_curve, roc_auc_score\n",
    "import matplotlib.pyplot as plt\n",
    "\n",
    "y_prob_xgb_red = xgb_model_red.predict_proba(X_test_reducido)[:, 1]\n",
    "\n",
    "fpr_xgb_red, tpr_xgb_red, thresholds_xgb_red = roc_curve(y_test, y_prob_xgb_red)\n",
    "\n",
    "auc_xgb_red = roc_auc_score(y_test, y_prob_xgb_red)\n",
    "\n",
    "Youden_index_xgb_red = tpr_xgb_red - fpr_xgb_red\n",
    "optimal_threshold_index_xgb_red = np.argmax(Youden_index_xgb_red)\n",
    "optimal_threshold_xgb_red = thresholds_xgb_red[optimal_threshold_index_xgb_red]\n",
    "\n",
    "plt.figure(figsize=(8, 6))\n",
    "plt.plot(fpr_xgb_red, tpr_xgb_red, color='blue', lw=2, label='ROC curve (area = %0.2f)' % auc_xgb_red)\n",
    "plt.scatter(fpr_xgb_red[optimal_threshold_index_xgb_red], tpr_xgb_red[optimal_threshold_index_xgb_red], color='red', s=100, label='Optimal Threshold')\n",
    "plt.plot([0, 1], [0, 1], color='gray', linestyle='--')\n",
    "plt.xlim([0.0, 1.0])\n",
    "plt.ylim([0.0, 1.05])\n",
    "plt.xlabel('False Positive Rate')\n",
    "plt.ylabel('True Positive Rate')\n",
    "plt.title('ROC Curve - XG Boost - Optimal Threshold')\n",
    "plt.legend(loc='lower right')\n",
    "plt.show()\n",
    "\n",
    "print(\"Optimal Threshold:\", optimal_threshold_xgb_red)"
   ]
  },
  {
   "cell_type": "code",
   "execution_count": 66,
   "id": "8a488b98",
   "metadata": {},
   "outputs": [
    {
     "name": "stdout",
     "output_type": "stream",
     "text": [
      "Matriz de Confusión:\n",
      "[[6057 6220]\n",
      " [ 202  388]]\n"
     ]
    }
   ],
   "source": [
    "from sklearn.metrics import confusion_matrix\n",
    "\n",
    "y_prob_xgb_red = xgb_model_red.predict_proba(X_test_reducido)[:, 1]\n",
    "\n",
    "y_pred_optimal_xgb_red = (y_prob_xgb_red >= optimal_threshold_xgb_red).astype(int)\n",
    "\n",
    "conf_matrix_xgb_red = confusion_matrix(y_test, y_pred_optimal_xgb_red)\n",
    "\n",
    "print(\"Matriz de Confusión:\")\n",
    "print(conf_matrix_xgb_red)"
   ]
  },
  {
   "cell_type": "code",
   "execution_count": 67,
   "id": "8a7e5fa8",
   "metadata": {},
   "outputs": [
    {
     "data": {
      "text/html": [
       "<div>\n",
       "<style scoped>\n",
       "    .dataframe tbody tr th:only-of-type {\n",
       "        vertical-align: middle;\n",
       "    }\n",
       "\n",
       "    .dataframe tbody tr th {\n",
       "        vertical-align: top;\n",
       "    }\n",
       "\n",
       "    .dataframe thead th {\n",
       "        text-align: right;\n",
       "    }\n",
       "</style>\n",
       "<table border=\"1\" class=\"dataframe\">\n",
       "  <thead>\n",
       "    <tr style=\"text-align: right;\">\n",
       "      <th></th>\n",
       "      <th>y_prob</th>\n",
       "      <th>y_pred</th>\n",
       "      <th>y_pred_OT</th>\n",
       "    </tr>\n",
       "  </thead>\n",
       "  <tbody>\n",
       "    <tr>\n",
       "      <th>16695</th>\n",
       "      <td>0.113864</td>\n",
       "      <td>0</td>\n",
       "      <td>1</td>\n",
       "    </tr>\n",
       "    <tr>\n",
       "      <th>40222</th>\n",
       "      <td>0.009087</td>\n",
       "      <td>0</td>\n",
       "      <td>0</td>\n",
       "    </tr>\n",
       "    <tr>\n",
       "      <th>33953</th>\n",
       "      <td>0.037112</td>\n",
       "      <td>0</td>\n",
       "      <td>1</td>\n",
       "    </tr>\n",
       "    <tr>\n",
       "      <th>42452</th>\n",
       "      <td>0.014778</td>\n",
       "      <td>0</td>\n",
       "      <td>0</td>\n",
       "    </tr>\n",
       "    <tr>\n",
       "      <th>18606</th>\n",
       "      <td>0.037792</td>\n",
       "      <td>0</td>\n",
       "      <td>1</td>\n",
       "    </tr>\n",
       "    <tr>\n",
       "      <th>...</th>\n",
       "      <td>...</td>\n",
       "      <td>...</td>\n",
       "      <td>...</td>\n",
       "    </tr>\n",
       "    <tr>\n",
       "      <th>26626</th>\n",
       "      <td>0.049397</td>\n",
       "      <td>0</td>\n",
       "      <td>1</td>\n",
       "    </tr>\n",
       "    <tr>\n",
       "      <th>6494</th>\n",
       "      <td>0.055331</td>\n",
       "      <td>0</td>\n",
       "      <td>1</td>\n",
       "    </tr>\n",
       "    <tr>\n",
       "      <th>3234</th>\n",
       "      <td>0.041254</td>\n",
       "      <td>0</td>\n",
       "      <td>1</td>\n",
       "    </tr>\n",
       "    <tr>\n",
       "      <th>28370</th>\n",
       "      <td>0.015980</td>\n",
       "      <td>0</td>\n",
       "      <td>0</td>\n",
       "    </tr>\n",
       "    <tr>\n",
       "      <th>37834</th>\n",
       "      <td>0.018366</td>\n",
       "      <td>0</td>\n",
       "      <td>0</td>\n",
       "    </tr>\n",
       "  </tbody>\n",
       "</table>\n",
       "<p>12867 rows × 3 columns</p>\n",
       "</div>"
      ],
      "text/plain": [
       "         y_prob  y_pred  y_pred_OT\n",
       "16695  0.113864       0          1\n",
       "40222  0.009087       0          0\n",
       "33953  0.037112       0          1\n",
       "42452  0.014778       0          0\n",
       "18606  0.037792       0          1\n",
       "...         ...     ...        ...\n",
       "26626  0.049397       0          1\n",
       "6494   0.055331       0          1\n",
       "3234   0.041254       0          1\n",
       "28370  0.015980       0          0\n",
       "37834  0.018366       0          0\n",
       "\n",
       "[12867 rows x 3 columns]"
      ]
     },
     "execution_count": 67,
     "metadata": {},
     "output_type": "execute_result"
    }
   ],
   "source": [
    "y_prob_xgb_red = xgb_model_red.predict_proba(X_test_reducido)[:, 1]\n",
    "y_pred_xgb_red = xgb_model_red.predict(X_test_reducido)\n",
    "y_pred_optimal_xgb_red = (y_prob_xgb_red >= optimal_threshold_xgb_red).astype(int)\n",
    "\n",
    "\n",
    "result_df_red = pd.DataFrame({'y_prob': y_prob_xgb_red\n",
    "                              , 'y_pred': y_pred_xgb_red\n",
    "                              , 'y_pred_OT':y_pred_optimal_xgb_red }\n",
    "                             , index=X_test.index)\n",
    "result_df_red"
   ]
  },
  {
   "cell_type": "code",
   "execution_count": 68,
   "id": "abe1e4ad",
   "metadata": {},
   "outputs": [],
   "source": [
    "file_name = 'predicciones.xlsx'\n",
    "result_df_red.to_excel(file_name)"
   ]
  },
  {
   "cell_type": "code",
   "execution_count": 69,
   "id": "74520e3d",
   "metadata": {},
   "outputs": [
    {
     "name": "stdout",
     "output_type": "stream",
     "text": [
      "xgb_red model:\n",
      "KS: 0.1510 (p-value: 1.137e-11)\n",
      "ROC AUC: 0.5973\n"
     ]
    }
   ],
   "source": [
    "from scipy.stats import ks_2samp\n",
    "from sklearn.metrics import roc_auc_score\n",
    "\n",
    "def evaluate_ks_and_roc_auc(y_real_xgb_red, y_prob_xgb_red):\n",
    "    df = pd.DataFrame()\n",
    "    df['real'] = y_real_xgb_red\n",
    "    df['proba'] = y_prob_xgb_red\n",
    "    class0 = df[df['real'] == 0]\n",
    "    class1 = df[df['real'] == 1]\n",
    "    ks = ks_2samp(class0['proba'], class1['proba'])\n",
    "    roc_auc = roc_auc_score(df['real'], df['proba'])\n",
    "    print(f\"KS: {ks.statistic:.4f} (p-value: {ks.pvalue:.3e})\")\n",
    "    print(f\"ROC AUC: {roc_auc:.4f}\")\n",
    "    return ks.statistic, roc_auc\n",
    "\n",
    "print(\"xgb_red model:\")\n",
    "ks_xgb_red, auc_xgb_red = evaluate_ks_and_roc_auc(y_test, y_prob_xgb_red)"
   ]
  },
  {
   "cell_type": "code",
   "execution_count": 70,
   "id": "a9064452",
   "metadata": {},
   "outputs": [
    {
     "data": {
      "text/html": [
       "<div>\n",
       "<style scoped>\n",
       "    .dataframe tbody tr th:only-of-type {\n",
       "        vertical-align: middle;\n",
       "    }\n",
       "\n",
       "    .dataframe tbody tr th {\n",
       "        vertical-align: top;\n",
       "    }\n",
       "\n",
       "    .dataframe thead th {\n",
       "        text-align: right;\n",
       "    }\n",
       "</style>\n",
       "<table border=\"1\" class=\"dataframe\">\n",
       "  <thead>\n",
       "    <tr style=\"text-align: right;\">\n",
       "      <th></th>\n",
       "      <th>Modelo</th>\n",
       "      <th>KS</th>\n",
       "      <th>ROC AUC</th>\n",
       "    </tr>\n",
       "  </thead>\n",
       "  <tbody>\n",
       "    <tr>\n",
       "      <th>0</th>\n",
       "      <td>Logistico Reducido</td>\n",
       "      <td>0.112</td>\n",
       "      <td>0.563</td>\n",
       "    </tr>\n",
       "    <tr>\n",
       "      <th>1</th>\n",
       "      <td>Random Forest Reducido</td>\n",
       "      <td>0.089</td>\n",
       "      <td>0.553</td>\n",
       "    </tr>\n",
       "    <tr>\n",
       "      <th>2</th>\n",
       "      <td>XGBoost Reducido</td>\n",
       "      <td>0.151</td>\n",
       "      <td>0.597</td>\n",
       "    </tr>\n",
       "  </tbody>\n",
       "</table>\n",
       "</div>"
      ],
      "text/plain": [
       "                   Modelo     KS  ROC AUC\n",
       "0      Logistico Reducido  0.112    0.563\n",
       "1  Random Forest Reducido  0.089    0.553\n",
       "2        XGBoost Reducido  0.151    0.597"
      ]
     },
     "execution_count": 70,
     "metadata": {},
     "output_type": "execute_result"
    }
   ],
   "source": [
    "results_df_xgb_red = pd.DataFrame({\n",
    "    'Modelo': ['XGBoost Reducido'],\n",
    "    'KS': [ks_xgb_red],\n",
    "    'ROC AUC': [auc_xgb_red]\n",
    "})\n",
    "\n",
    "results_resumen_red = pd.concat([results_df_log_red, results_df_rf_red,results_df_xgb_red ], ignore_index=True)\n",
    "results_resumen_red = results_resumen_red.round(3)\n",
    "results_resumen_red"
   ]
  },
  {
   "cell_type": "code",
   "execution_count": 71,
   "id": "2971014e",
   "metadata": {},
   "outputs": [
    {
     "data": {
      "image/png": "[encoded data removed]",
      "text/plain": [
       "<Figure size 576x432 with 1 Axes>"
      ]
     },
     "metadata": {
      "needs_background": "light"
     },
     "output_type": "display_data"
    }
   ],
   "source": [
    "import matplotlib.pyplot as plt\n",
    "from sklearn.metrics import roc_curve, roc_auc_score\n",
    "\n",
    "# Curva ROC - Modelo Logístico (SFS)\n",
    "plt.figure(figsize=(8, 6))\n",
    "plt.plot(fpr_log_red, tpr_log_red, color='red'\n",
    "         , lw=2, label='Modelo Logístico (AUC = %0.2f)' % auc_log_red)\n",
    "\n",
    "# Curva ROC - Random Forest\n",
    "plt.plot(fpr_rf_red, tpr_rf_red, color='blue'\n",
    "         , lw=2, label='Random Forest (AUC = %0.2f)' % auc_rf_red)\n",
    "\n",
    "#Curva ROC - XGBoost\n",
    "plt.plot(fpr_xgb_red, tpr_xgb_red, color='yellow'\n",
    "         , lw=2, label='XGBoost (AUC = %0.2f)' % auc_xgb_red)\n",
    "\n",
    "plt.plot([0, 1], [0, 1], color='gray', linestyle='--')\n",
    "\n",
    "plt.xlim([0.0, 1.0])\n",
    "plt.ylim([0.0, 1.05])\n",
    "plt.xlabel('False Positive Rate')\n",
    "plt.ylabel('True Positive Rate')\n",
    "plt.title('ROC Curve - Comparación de Modelos Reducidos')\n",
    "plt.legend(loc='lower right')\n",
    "plt.show()"
   ]
  },
  {
   "cell_type": "code",
   "execution_count": 72,
   "id": "d665c77a",
   "metadata": {},
   "outputs": [
    {
     "data": {
      "image/png": "[encoded data removed]",
      "text/plain": [
       "<Figure size 1152x432 with 2 Axes>"
      ]
     },
     "metadata": {
      "needs_background": "light"
     },
     "output_type": "display_data"
    }
   ],
   "source": [
    "import matplotlib.pyplot as plt\n",
    "from sklearn.metrics import roc_curve, roc_auc_score\n",
    "\n",
    "# Crear una figura con dos subgráficos uno al lado del otro\n",
    "fig, ax = plt.subplots(1, 2, figsize=(16, 6))\n",
    "\n",
    "# Primer gráfico - Modelos completos\n",
    "ax[0].plot(fpr_log, tpr_log, color='red', lw=2, label='Modelo Logístico (AUC = %0.2f)' % auc_log)\n",
    "ax[0].plot(fpr_rf, tpr_rf, color='blue', lw=2, label='Random Forest (AUC = %0.2f)' % auc_rf)\n",
    "ax[0].plot(fpr_xgb, tpr_xgb, color='yellow', lw=2, label='XGBoost (AUC = %0.2f)' % auc_xgb)\n",
    "ax[0].plot([0, 1], [0, 1], color='gray', linestyle='--')\n",
    "ax[0].set_xlim([0.0, 1.0])\n",
    "ax[0].set_ylim([0.0, 1.05])\n",
    "ax[0].set_xlabel('False Positive Rate')\n",
    "ax[0].set_ylabel('True Positive Rate')\n",
    "ax[0].set_title('ROC Curve - Comparación de Modelos')\n",
    "ax[0].legend(loc='lower right')\n",
    "\n",
    "# Segundo gráfico - Modelos reducidos (SFS)\n",
    "ax[1].plot(fpr_log_red, tpr_log_red, color='red', lw=2, label='Modelo Logístico (AUC = %0.2f)' % auc_log_red)\n",
    "ax[1].plot(fpr_rf_red, tpr_rf_red, color='blue', lw=2, label='Random Forest (AUC = %0.2f)' % auc_rf_red)\n",
    "ax[1].plot(fpr_xgb_red, tpr_xgb_red, color='yellow', lw=2, label='XGBoost (AUC = %0.2f)' % auc_xgb_red)\n",
    "ax[1].plot([0, 1], [0, 1], color='gray', linestyle='--')\n",
    "ax[1].set_xlim([0.0, 1.0])\n",
    "ax[1].set_ylim([0.0, 1.05])\n",
    "ax[1].set_xlabel('False Positive Rate')\n",
    "ax[1].set_ylabel('True Positive Rate')\n",
    "ax[1].set_title('ROC Curve - Comparación de Modelos Reducidos')\n",
    "ax[1].legend(loc='lower right')\n",
    "\n",
    "# Mostrar los gráficos\n",
    "plt.tight_layout()\n",
    "plt.show()\n"
   ]
  },
  {
   "cell_type": "code",
   "execution_count": 73,
   "id": "6ed9c9ff",
   "metadata": {},
   "outputs": [
    {
     "data": {
      "text/html": [
       "<div>\n",
       "<style scoped>\n",
       "    .dataframe tbody tr th:only-of-type {\n",
       "        vertical-align: middle;\n",
       "    }\n",
       "\n",
       "    .dataframe tbody tr th {\n",
       "        vertical-align: top;\n",
       "    }\n",
       "\n",
       "    .dataframe thead th {\n",
       "        text-align: right;\n",
       "    }\n",
       "</style>\n",
       "<table border=\"1\" class=\"dataframe\">\n",
       "  <thead>\n",
       "    <tr style=\"text-align: right;\">\n",
       "      <th></th>\n",
       "      <th>Modelo</th>\n",
       "      <th>KS</th>\n",
       "      <th>ROC AUC</th>\n",
       "    </tr>\n",
       "  </thead>\n",
       "  <tbody>\n",
       "    <tr>\n",
       "      <th>0</th>\n",
       "      <td>Logistico</td>\n",
       "      <td>0.088</td>\n",
       "      <td>0.538</td>\n",
       "    </tr>\n",
       "    <tr>\n",
       "      <th>1</th>\n",
       "      <td>Random Forest</td>\n",
       "      <td>0.126</td>\n",
       "      <td>0.574</td>\n",
       "    </tr>\n",
       "    <tr>\n",
       "      <th>2</th>\n",
       "      <td>XGBoost</td>\n",
       "      <td>0.178</td>\n",
       "      <td>0.617</td>\n",
       "    </tr>\n",
       "    <tr>\n",
       "      <th>3</th>\n",
       "      <td>Logistico Reducido</td>\n",
       "      <td>0.112</td>\n",
       "      <td>0.563</td>\n",
       "    </tr>\n",
       "    <tr>\n",
       "      <th>4</th>\n",
       "      <td>Random Forest Reducido</td>\n",
       "      <td>0.089</td>\n",
       "      <td>0.553</td>\n",
       "    </tr>\n",
       "    <tr>\n",
       "      <th>5</th>\n",
       "      <td>XGBoost Reducido</td>\n",
       "      <td>0.151</td>\n",
       "      <td>0.597</td>\n",
       "    </tr>\n",
       "  </tbody>\n",
       "</table>\n",
       "</div>"
      ],
      "text/plain": [
       "                   Modelo     KS  ROC AUC\n",
       "0               Logistico  0.088    0.538\n",
       "1           Random Forest  0.126    0.574\n",
       "2                 XGBoost  0.178    0.617\n",
       "3      Logistico Reducido  0.112    0.563\n",
       "4  Random Forest Reducido  0.089    0.553\n",
       "5        XGBoost Reducido  0.151    0.597"
      ]
     },
     "execution_count": 73,
     "metadata": {},
     "output_type": "execute_result"
    }
   ],
   "source": [
    "tabla_resumen = pd.concat([results_resumen , results_resumen_red ], ignore_index=True)\n",
    "tabla_resumen = tabla_resumen.round(3)\n",
    "tabla_resumen"
   ]
  },
  {
   "cell_type": "code",
   "execution_count": 74,
   "id": "c0cbf238",
   "metadata": {},
   "outputs": [],
   "source": [
    "#OPTIMIZACION DEL PUNTO DE CORTE DEL XGBOOST REDUCIDO"
   ]
  },
  {
   "cell_type": "code",
   "execution_count": 75,
   "id": "8c91049e",
   "metadata": {},
   "outputs": [
    {
     "name": "stdout",
     "output_type": "stream",
     "text": [
      "Optimal Threshold: 0.03404455\n"
     ]
    }
   ],
   "source": [
    "Youden_index_xgb_red = tpr_xgb_red - fpr_xgb_red\n",
    "optimal_threshold_index_xgb_red = np.argmax(Youden_index_xgb_red)\n",
    "optimal_threshold_xgb_red = thresholds_xgb_red[optimal_threshold_index_xgb_red]\n",
    "\n",
    "print(\"Optimal Threshold:\", optimal_threshold_xgb_red)\n"
   ]
  },
  {
   "cell_type": "code",
   "execution_count": 76,
   "id": "5617a29f",
   "metadata": {},
   "outputs": [
    {
     "data": {
      "text/plain": [
       "array([1, 0, 1, ..., 1, 0, 0])"
      ]
     },
     "execution_count": 76,
     "metadata": {},
     "output_type": "execute_result"
    }
   ],
   "source": [
    "y_pred_optimal_xgb_red = (y_prob_xgb_red >= optimal_threshold_xgb_red).astype(int)\n",
    "y_pred_optimal_xgb_red"
   ]
  },
  {
   "cell_type": "code",
   "execution_count": 77,
   "id": "4dfc82b1",
   "metadata": {},
   "outputs": [
    {
     "data": {
      "text/html": [
       "<div>\n",
       "<style scoped>\n",
       "    .dataframe tbody tr th:only-of-type {\n",
       "        vertical-align: middle;\n",
       "    }\n",
       "\n",
       "    .dataframe tbody tr th {\n",
       "        vertical-align: top;\n",
       "    }\n",
       "\n",
       "    .dataframe thead th {\n",
       "        text-align: right;\n",
       "    }\n",
       "</style>\n",
       "<table border=\"1\" class=\"dataframe\">\n",
       "  <thead>\n",
       "    <tr style=\"text-align: right;\">\n",
       "      <th></th>\n",
       "      <th>y_prob</th>\n",
       "    </tr>\n",
       "  </thead>\n",
       "  <tbody>\n",
       "    <tr>\n",
       "      <th>16695</th>\n",
       "      <td>1</td>\n",
       "    </tr>\n",
       "    <tr>\n",
       "      <th>40222</th>\n",
       "      <td>0</td>\n",
       "    </tr>\n",
       "    <tr>\n",
       "      <th>33953</th>\n",
       "      <td>1</td>\n",
       "    </tr>\n",
       "    <tr>\n",
       "      <th>42452</th>\n",
       "      <td>0</td>\n",
       "    </tr>\n",
       "    <tr>\n",
       "      <th>18606</th>\n",
       "      <td>1</td>\n",
       "    </tr>\n",
       "    <tr>\n",
       "      <th>...</th>\n",
       "      <td>...</td>\n",
       "    </tr>\n",
       "    <tr>\n",
       "      <th>26626</th>\n",
       "      <td>1</td>\n",
       "    </tr>\n",
       "    <tr>\n",
       "      <th>6494</th>\n",
       "      <td>1</td>\n",
       "    </tr>\n",
       "    <tr>\n",
       "      <th>3234</th>\n",
       "      <td>1</td>\n",
       "    </tr>\n",
       "    <tr>\n",
       "      <th>28370</th>\n",
       "      <td>0</td>\n",
       "    </tr>\n",
       "    <tr>\n",
       "      <th>37834</th>\n",
       "      <td>0</td>\n",
       "    </tr>\n",
       "  </tbody>\n",
       "</table>\n",
       "<p>12867 rows × 1 columns</p>\n",
       "</div>"
      ],
      "text/plain": [
       "       y_prob\n",
       "16695       1\n",
       "40222       0\n",
       "33953       1\n",
       "42452       0\n",
       "18606       1\n",
       "...       ...\n",
       "26626       1\n",
       "6494        1\n",
       "3234        1\n",
       "28370       0\n",
       "37834       0\n",
       "\n",
       "[12867 rows x 1 columns]"
      ]
     },
     "execution_count": 77,
     "metadata": {},
     "output_type": "execute_result"
    }
   ],
   "source": [
    "\n",
    "predicc = pd.DataFrame({'y_prob': y_pred_optimal_xgb_red\n",
    "                               }\n",
    "                             , index=X_test.index)\n",
    "predicc"
   ]
  },
  {
   "cell_type": "code",
   "execution_count": 78,
   "id": "17a32a09",
   "metadata": {},
   "outputs": [
    {
     "name": "stdout",
     "output_type": "stream",
     "text": [
      "xgb_red model optimizando punto de corte:\n",
      "KS: 0.1510 (p-value: 1.137e-11)\n",
      "ROC AUC: 0.5973\n"
     ]
    }
   ],
   "source": [
    "from scipy.stats import ks_2samp\n",
    "from sklearn.metrics import roc_auc_score\n",
    "\n",
    "def evaluate_ks_and_roc_auc(y_real_xgb_red, y_proba_xgb_red, y_pred_optimal_xgb_red):\n",
    "    df = pd.DataFrame()\n",
    "    df['real'] = y_real_xgb_red\n",
    "    df['proba'] = y_proba_xgb_red\n",
    "    df['pred_optimal'] = y_pred_optimal_xgb_red\n",
    "    class0 = df[df['real'] == 0]\n",
    "    class1 = df[df['real'] == 1]\n",
    "    \n",
    "    # KS usando las probabilidades ajustadas al punto de corte óptimo\n",
    "    ks = ks_2samp(class0['pred_optimal'], class1['pred_optimal'])\n",
    "    # AUC \n",
    "    roc_auc = roc_auc_score(df['real'], df['proba'])\n",
    "    \n",
    "    print(f\"KS: {ks.statistic:.4f} (p-value: {ks.pvalue:.3e})\")\n",
    "    print(f\"ROC AUC: {roc_auc:.4f}\")\n",
    "    \n",
    "    return ks.statistic, roc_auc\n",
    "\n",
    "print(\"xgb_red model optimizando punto de corte:\")\n",
    "ks_xgb_red, auc_xgb_red = evaluate_ks_and_roc_auc(y_test, y_prob_xgb_red, y_pred_optimal_xgb_red)\n"
   ]
  },
  {
   "cell_type": "code",
   "execution_count": 79,
   "id": "fe82e0d3",
   "metadata": {},
   "outputs": [
    {
     "data": {
      "text/html": [
       "<div>\n",
       "<style scoped>\n",
       "    .dataframe tbody tr th:only-of-type {\n",
       "        vertical-align: middle;\n",
       "    }\n",
       "\n",
       "    .dataframe tbody tr th {\n",
       "        vertical-align: top;\n",
       "    }\n",
       "\n",
       "    .dataframe thead th {\n",
       "        text-align: right;\n",
       "    }\n",
       "</style>\n",
       "<table border=\"1\" class=\"dataframe\">\n",
       "  <thead>\n",
       "    <tr style=\"text-align: right;\">\n",
       "      <th></th>\n",
       "      <th>Métrica</th>\n",
       "      <th>Valor</th>\n",
       "    </tr>\n",
       "  </thead>\n",
       "  <tbody>\n",
       "    <tr>\n",
       "      <th>0</th>\n",
       "      <td>AUC</td>\n",
       "      <td>0.597311</td>\n",
       "    </tr>\n",
       "    <tr>\n",
       "      <th>1</th>\n",
       "      <td>Precisión</td>\n",
       "      <td>0.058717</td>\n",
       "    </tr>\n",
       "    <tr>\n",
       "      <th>2</th>\n",
       "      <td>Recall</td>\n",
       "      <td>0.657627</td>\n",
       "    </tr>\n",
       "    <tr>\n",
       "      <th>3</th>\n",
       "      <td>F1-Score</td>\n",
       "      <td>0.107808</td>\n",
       "    </tr>\n",
       "    <tr>\n",
       "      <th>4</th>\n",
       "      <td>Accuracy</td>\n",
       "      <td>0.500894</td>\n",
       "    </tr>\n",
       "  </tbody>\n",
       "</table>\n",
       "</div>"
      ],
      "text/plain": [
       "     Métrica     Valor\n",
       "0        AUC  0.597311\n",
       "1  Precisión  0.058717\n",
       "2     Recall  0.657627\n",
       "3   F1-Score  0.107808\n",
       "4   Accuracy  0.500894"
      ]
     },
     "execution_count": 79,
     "metadata": {},
     "output_type": "execute_result"
    }
   ],
   "source": [
    "from sklearn.metrics import roc_auc_score, precision_score, recall_score, f1_score, accuracy_score\n",
    "\n",
    "auc_xgb_opt = roc_auc_score(y_test, y_prob_xgb_red)  \n",
    "\n",
    "precision_xgb_opt = precision_score(y_test, y_pred_optimal_xgb_red)\n",
    "recall_xgb_opt = recall_score(y_test, y_pred_optimal_xgb_red)\n",
    "f1_xgb_opt = f1_score(y_test, y_pred_optimal_xgb_red)\n",
    "accuracy_xgb_opt = accuracy_score(y_test, y_pred_optimal_xgb_red)\n",
    "\n",
    "summary_stats = {\n",
    "    'Métrica': ['AUC', 'Precisión', 'Recall', 'F1-Score', 'Accuracy'],\n",
    "    'Valor': [auc_xgb_opt, precision_xgb_opt, recall_xgb_opt, f1_xgb_opt, accuracy_xgb_opt]\n",
    "}\n",
    "\n",
    "summary_df = pd.DataFrame(summary_stats)\n",
    "summary_df\n"
   ]
  },
  {
   "cell_type": "code",
   "execution_count": 80,
   "id": "6a5d99be",
   "metadata": {},
   "outputs": [
    {
     "data": {
      "text/html": [
       "<div>\n",
       "<style scoped>\n",
       "    .dataframe tbody tr th:only-of-type {\n",
       "        vertical-align: middle;\n",
       "    }\n",
       "\n",
       "    .dataframe tbody tr th {\n",
       "        vertical-align: top;\n",
       "    }\n",
       "\n",
       "    .dataframe thead th {\n",
       "        text-align: right;\n",
       "    }\n",
       "</style>\n",
       "<table border=\"1\" class=\"dataframe\">\n",
       "  <thead>\n",
       "    <tr style=\"text-align: right;\">\n",
       "      <th></th>\n",
       "      <th>AUC</th>\n",
       "      <th>Precision</th>\n",
       "      <th>Recall</th>\n",
       "      <th>F1-score</th>\n",
       "      <th>Accuracy</th>\n",
       "    </tr>\n",
       "  </thead>\n",
       "  <tbody>\n",
       "    <tr>\n",
       "      <th>0</th>\n",
       "      <td>0.597</td>\n",
       "      <td>0.059</td>\n",
       "      <td>0.658</td>\n",
       "      <td>0.108</td>\n",
       "      <td>0.501</td>\n",
       "    </tr>\n",
       "  </tbody>\n",
       "</table>\n",
       "</div>"
      ],
      "text/plain": [
       "     AUC  Precision  Recall  F1-score  Accuracy\n",
       "0  0.597      0.059   0.658     0.108     0.501"
      ]
     },
     "execution_count": 80,
     "metadata": {},
     "output_type": "execute_result"
    }
   ],
   "source": [
    "metrics_xgb_red_calib = {\n",
    "    'AUC': [auc_xgb_opt],\n",
    "    'Precision': [precision_xgb_opt],\n",
    "    'Recall': [recall_xgb_opt],\n",
    "    'F1-score': [f1_xgb_opt],\n",
    "    'Accuracy': [accuracy_xgb_opt]\n",
    "}\n",
    "\n",
    "metrics_df_xgb_red_calib = pd.DataFrame(metrics_xgb_red_calib)\n",
    "metrics_df_xgb_red_calib = metrics_df_xgb_red_calib.round(3)\n",
    "metrics_df_xgb_red_calib\n"
   ]
  },
  {
   "cell_type": "code",
   "execution_count": 81,
   "id": "074d3c8b",
   "metadata": {},
   "outputs": [],
   "source": [
    "# comparacion de estadisticos"
   ]
  },
  {
   "cell_type": "code",
   "execution_count": 82,
   "id": "c1462e97",
   "metadata": {},
   "outputs": [
    {
     "data": {
      "text/html": [
       "<div>\n",
       "<style scoped>\n",
       "    .dataframe tbody tr th:only-of-type {\n",
       "        vertical-align: middle;\n",
       "    }\n",
       "\n",
       "    .dataframe tbody tr th {\n",
       "        vertical-align: top;\n",
       "    }\n",
       "\n",
       "    .dataframe thead th {\n",
       "        text-align: right;\n",
       "    }\n",
       "</style>\n",
       "<table border=\"1\" class=\"dataframe\">\n",
       "  <thead>\n",
       "    <tr style=\"text-align: right;\">\n",
       "      <th></th>\n",
       "      <th>Métrica</th>\n",
       "      <th>Corte Arbitrario (0.5)</th>\n",
       "      <th>Corte Óptimo</th>\n",
       "    </tr>\n",
       "  </thead>\n",
       "  <tbody>\n",
       "    <tr>\n",
       "      <th>0</th>\n",
       "      <td>AUC</td>\n",
       "      <td>0.597311</td>\n",
       "      <td>0.597311</td>\n",
       "    </tr>\n",
       "    <tr>\n",
       "      <th>1</th>\n",
       "      <td>Precisión</td>\n",
       "      <td>0.250000</td>\n",
       "      <td>0.058717</td>\n",
       "    </tr>\n",
       "    <tr>\n",
       "      <th>2</th>\n",
       "      <td>Recall</td>\n",
       "      <td>0.001695</td>\n",
       "      <td>0.657627</td>\n",
       "    </tr>\n",
       "    <tr>\n",
       "      <th>3</th>\n",
       "      <td>F1-Score</td>\n",
       "      <td>0.003367</td>\n",
       "      <td>0.107808</td>\n",
       "    </tr>\n",
       "    <tr>\n",
       "      <th>4</th>\n",
       "      <td>Accuracy</td>\n",
       "      <td>0.953991</td>\n",
       "      <td>0.500894</td>\n",
       "    </tr>\n",
       "    <tr>\n",
       "      <th>5</th>\n",
       "      <td>KS</td>\n",
       "      <td>0.150989</td>\n",
       "      <td>0.150989</td>\n",
       "    </tr>\n",
       "  </tbody>\n",
       "</table>\n",
       "</div>"
      ],
      "text/plain": [
       "     Métrica  Corte Arbitrario (0.5)  Corte Óptimo\n",
       "0        AUC                0.597311      0.597311\n",
       "1  Precisión                0.250000      0.058717\n",
       "2     Recall                0.001695      0.657627\n",
       "3   F1-Score                0.003367      0.107808\n",
       "4   Accuracy                0.953991      0.500894\n",
       "5         KS                0.150989      0.150989"
      ]
     },
     "execution_count": 82,
     "metadata": {},
     "output_type": "execute_result"
    }
   ],
   "source": [
    "import xgboost as xgb\n",
    "import pandas as pd\n",
    "from sklearn.metrics import roc_auc_score, precision_score, recall_score, f1_score, accuracy_score, confusion_matrix\n",
    "from sklearn.metrics import roc_curve\n",
    "from scipy.stats import ks_2samp\n",
    "import numpy as np\n",
    "\n",
    "xgb_model_red = xgb.XGBClassifier()\n",
    "xgb_model_red.fit(X_train_reducido, y_train)\n",
    "\n",
    "y_prob_xgb_red = xgb_model_red.predict_proba(X_test_reducido)[:, 1]\n",
    "\n",
    "# punto de corte arbitrario (0.5)\n",
    "y_pred_arbitrario_xgb_red = (y_prob_xgb_red >= 0.5).astype(int)\n",
    "\n",
    "auc_xgb_red = roc_auc_score(y_test, y_prob_xgb_red)\n",
    "\n",
    "def calculate_ks(y_real, y_pred):\n",
    "    class0 = y_pred[y_real == 0]\n",
    "    class1 = y_pred[y_real == 1]\n",
    "    ks = ks_2samp(class0, class1).statistic\n",
    "    return ks\n",
    "\n",
    "ks_arbitrario = calculate_ks(y_test, y_prob_xgb_red)\n",
    "\n",
    "\n",
    "precision_arbitrario = precision_score(y_test, y_pred_arbitrario_xgb_red)\n",
    "recall_arbitrario = recall_score(y_test, y_pred_arbitrario_xgb_red)\n",
    "f1_arbitrario = f1_score(y_test, y_pred_arbitrario_xgb_red)\n",
    "accuracy_arbitrario = accuracy_score(y_test, y_pred_arbitrario_xgb_red)\n",
    "\n",
    "#punto de corte óptimo\n",
    "fpr_xgb_red, tpr_xgb_red, thresholds_xgb_red = roc_curve(y_test, y_prob_xgb_red)\n",
    "youden_index_xgb_red = tpr_xgb_red - fpr_xgb_red\n",
    "optimal_threshold_index_xgb_red = np.argmax(youden_index_xgb_red)\n",
    "optimal_threshold_xgb_red = thresholds_xgb_red[optimal_threshold_index_xgb_red]\n",
    "\n",
    "y_pred_optimal_xgb_red = (y_prob_xgb_red >= optimal_threshold_xgb_red).astype(int)\n",
    "\n",
    "ks_optimal = calculate_ks(y_test, y_pred_optimal_xgb_red)\n",
    "\n",
    "precision_optimal = precision_score(y_test, y_pred_optimal_xgb_red)\n",
    "recall_optimal = recall_score(y_test, y_pred_optimal_xgb_red)\n",
    "f1_optimal = f1_score(y_test, y_pred_optimal_xgb_red)\n",
    "accuracy_optimal = accuracy_score(y_test, y_pred_optimal_xgb_red)\n",
    "\n",
    "metrics_comparison = pd.DataFrame({\n",
    "    'Métrica': ['AUC', 'Precisión', 'Recall', 'F1-Score', 'Accuracy', 'KS'],\n",
    "    'Corte Arbitrario (0.5)': [auc_xgb_red, precision_arbitrario, recall_arbitrario, f1_arbitrario, accuracy_arbitrario, ks_arbitrario],\n",
    "    'Corte Óptimo': [auc_xgb_red, precision_optimal, recall_optimal, f1_optimal, accuracy_optimal, ks_optimal]\n",
    "})\n",
    "\n",
    "metrics_comparison\n"
   ]
  },
  {
   "cell_type": "code",
   "execution_count": 83,
   "id": "64f0b1be",
   "metadata": {},
   "outputs": [
    {
     "data": {
      "text/plain": [
       "0.03404455"
      ]
     },
     "execution_count": 83,
     "metadata": {},
     "output_type": "execute_result"
    }
   ],
   "source": [
    "optimal_threshold_xgb_red"
   ]
  },
  {
   "cell_type": "code",
   "execution_count": 84,
   "id": "6645ef6b",
   "metadata": {},
   "outputs": [],
   "source": [
    "#feature importance"
   ]
  },
  {
   "cell_type": "code",
   "execution_count": 85,
   "id": "31c9e1d1",
   "metadata": {},
   "outputs": [
    {
     "data": {
      "text/html": [
       "<div>\n",
       "<style scoped>\n",
       "    .dataframe tbody tr th:only-of-type {\n",
       "        vertical-align: middle;\n",
       "    }\n",
       "\n",
       "    .dataframe tbody tr th {\n",
       "        vertical-align: top;\n",
       "    }\n",
       "\n",
       "    .dataframe thead th {\n",
       "        text-align: right;\n",
       "    }\n",
       "</style>\n",
       "<table border=\"1\" class=\"dataframe\">\n",
       "  <thead>\n",
       "    <tr style=\"text-align: right;\">\n",
       "      <th></th>\n",
       "      <th>Variable Original</th>\n",
       "      <th>Importance</th>\n",
       "    </tr>\n",
       "  </thead>\n",
       "  <tbody>\n",
       "    <tr>\n",
       "      <th>2</th>\n",
       "      <td>departamento</td>\n",
       "      <td>24.813978</td>\n",
       "    </tr>\n",
       "    <tr>\n",
       "      <th>0</th>\n",
       "      <td>Canal_ingreso</td>\n",
       "      <td>4.478032</td>\n",
       "    </tr>\n",
       "    <tr>\n",
       "      <th>5</th>\n",
       "      <td>vuelta_clases</td>\n",
       "      <td>1.613311</td>\n",
       "    </tr>\n",
       "    <tr>\n",
       "      <th>3</th>\n",
       "      <td>edad_solicitud</td>\n",
       "      <td>1.511171</td>\n",
       "    </tr>\n",
       "    <tr>\n",
       "      <th>4</th>\n",
       "      <td>sexo</td>\n",
       "      <td>1.409757</td>\n",
       "    </tr>\n",
       "    <tr>\n",
       "      <th>1</th>\n",
       "      <td>LimiteCredito</td>\n",
       "      <td>1.351791</td>\n",
       "    </tr>\n",
       "  </tbody>\n",
       "</table>\n",
       "</div>"
      ],
      "text/plain": [
       "  Variable Original  Importance\n",
       "2      departamento   24.813978\n",
       "0     Canal_ingreso    4.478032\n",
       "5     vuelta_clases    1.613311\n",
       "3    edad_solicitud    1.511171\n",
       "4              sexo    1.409757\n",
       "1     LimiteCredito    1.351791"
      ]
     },
     "execution_count": 85,
     "metadata": {},
     "output_type": "execute_result"
    }
   ],
   "source": [
    "feature_importance = xgb_model_red.get_booster().get_score(importance_type='gain')\n",
    "\n",
    "importance_df = pd.DataFrame.from_dict(feature_importance, orient='index', columns=['Importance'])\n",
    "importance_df.index.name = 'Feature'\n",
    "importance_df.reset_index(inplace=True)\n",
    "\n",
    "categorical_features = {\n",
    "    'Canal_ingreso': [\n",
    "        'Canal_ingreso_Call Center', \n",
    "        'Canal_ingreso_Red', \n",
    "        'Canal_ingreso_Venta Digital'\n",
    "    ],\n",
    "    'departamento': [\n",
    "        'departamento_Artigas',\n",
    "        'departamento_Canelones',\n",
    "        'departamento_Cerro Largo',\n",
    "        'departamento_Colonia',\n",
    "        'departamento_Durazno',\n",
    "        'departamento_Flores',\n",
    "        'departamento_Florida',\n",
    "        'departamento_Lavalleja',\n",
    "        'departamento_Maldonado',\n",
    "        'departamento_Montevideo',\n",
    "        'departamento_Paysandú',\n",
    "        'departamento_Rivera',\n",
    "        'departamento_Rocha',\n",
    "        'departamento_Río Negro',\n",
    "        'departamento_Salto',\n",
    "        'departamento_San José',\n",
    "        'departamento_Soriano',\n",
    "        'departamento_Tacuarembó',\n",
    "        'departamento_Treinta y Tres'\n",
    "    ],\n",
    "    'sexo': [\n",
    "        'sexo_F',\n",
    "        'sexo_M'\n",
    "    ],\n",
    "    'vuelta_clases': [\n",
    "        'vuelta_clases_no',\n",
    "        'vuelta_clases_si'\n",
    "    ]\n",
    "}\n",
    "\n",
    "def map_original_variable(feature_name):\n",
    "    for original_var, one_hot_columns in categorical_features.items():\n",
    "        if feature_name in one_hot_columns:\n",
    "            return original_var\n",
    "    return feature_name\n",
    "\n",
    "importance_df['Variable Original'] = importance_df['Feature'].apply(map_original_variable)\n",
    "\n",
    "grouped_importance = importance_df.groupby('Variable Original')['Importance'].sum().reset_index()\n",
    "\n",
    "final_importance_df = grouped_importance.sort_values(by='Importance', ascending=False)\n",
    "final_importance_df"
   ]
  },
  {
   "cell_type": "code",
   "execution_count": 86,
   "id": "4bf2b951",
   "metadata": {},
   "outputs": [
    {
     "data": {
      "image/png": "[encoded data removed]",
      "text/plain": [
       "<Figure size 720x432 with 1 Axes>"
      ]
     },
     "metadata": {
      "needs_background": "light"
     },
     "output_type": "display_data"
    }
   ],
   "source": [
    "plt.figure(figsize=(10, 6))\n",
    "plt.barh(final_importance_df['Variable Original'], final_importance_df['Importance'])\n",
    "plt.xlabel('Importance')\n",
    "plt.ylabel('Variable Original')\n",
    "plt.title('Feature Importance (Agrupado por las Variables Categóricas)')\n",
    "plt.gca().invert_yaxis()\n",
    "plt.show()"
   ]
  },
  {
   "cell_type": "code",
   "execution_count": 87,
   "id": "d3fa0bc8",
   "metadata": {},
   "outputs": [
    {
     "data": {
      "text/html": [
       "<div>\n",
       "<style scoped>\n",
       "    .dataframe tbody tr th:only-of-type {\n",
       "        vertical-align: middle;\n",
       "    }\n",
       "\n",
       "    .dataframe tbody tr th {\n",
       "        vertical-align: top;\n",
       "    }\n",
       "\n",
       "    .dataframe thead th {\n",
       "        text-align: right;\n",
       "    }\n",
       "</style>\n",
       "<table border=\"1\" class=\"dataframe\">\n",
       "  <thead>\n",
       "    <tr style=\"text-align: right;\">\n",
       "      <th></th>\n",
       "      <th>Feature</th>\n",
       "      <th>Importance</th>\n",
       "    </tr>\n",
       "  </thead>\n",
       "  <tbody>\n",
       "    <tr>\n",
       "      <th>2</th>\n",
       "      <td>Canal_ingreso_Call Center</td>\n",
       "      <td>1.989647</td>\n",
       "    </tr>\n",
       "    <tr>\n",
       "      <th>15</th>\n",
       "      <td>departamento_Maldonado</td>\n",
       "      <td>1.860121</td>\n",
       "    </tr>\n",
       "    <tr>\n",
       "      <th>9</th>\n",
       "      <td>departamento_Cerro Largo</td>\n",
       "      <td>1.838046</td>\n",
       "    </tr>\n",
       "    <tr>\n",
       "      <th>5</th>\n",
       "      <td>vuelta_clases_no</td>\n",
       "      <td>1.613311</td>\n",
       "    </tr>\n",
       "    <tr>\n",
       "      <th>23</th>\n",
       "      <td>departamento_Soriano</td>\n",
       "      <td>1.569790</td>\n",
       "    </tr>\n",
       "    <tr>\n",
       "      <th>19</th>\n",
       "      <td>departamento_Rocha</td>\n",
       "      <td>1.517632</td>\n",
       "    </tr>\n",
       "    <tr>\n",
       "      <th>3</th>\n",
       "      <td>Canal_ingreso_Red</td>\n",
       "      <td>1.512576</td>\n",
       "    </tr>\n",
       "    <tr>\n",
       "      <th>0</th>\n",
       "      <td>edad_solicitud</td>\n",
       "      <td>1.511171</td>\n",
       "    </tr>\n",
       "    <tr>\n",
       "      <th>21</th>\n",
       "      <td>departamento_Salto</td>\n",
       "      <td>1.503720</td>\n",
       "    </tr>\n",
       "    <tr>\n",
       "      <th>18</th>\n",
       "      <td>departamento_Rivera</td>\n",
       "      <td>1.496519</td>\n",
       "    </tr>\n",
       "    <tr>\n",
       "      <th>16</th>\n",
       "      <td>departamento_Montevideo</td>\n",
       "      <td>1.495629</td>\n",
       "    </tr>\n",
       "    <tr>\n",
       "      <th>14</th>\n",
       "      <td>departamento_Lavalleja</td>\n",
       "      <td>1.481362</td>\n",
       "    </tr>\n",
       "    <tr>\n",
       "      <th>17</th>\n",
       "      <td>departamento_Paysandú</td>\n",
       "      <td>1.455205</td>\n",
       "    </tr>\n",
       "    <tr>\n",
       "      <th>6</th>\n",
       "      <td>sexo_F</td>\n",
       "      <td>1.409757</td>\n",
       "    </tr>\n",
       "    <tr>\n",
       "      <th>8</th>\n",
       "      <td>departamento_Canelones</td>\n",
       "      <td>1.399631</td>\n",
       "    </tr>\n",
       "    <tr>\n",
       "      <th>1</th>\n",
       "      <td>LimiteCredito</td>\n",
       "      <td>1.351791</td>\n",
       "    </tr>\n",
       "    <tr>\n",
       "      <th>11</th>\n",
       "      <td>departamento_Durazno</td>\n",
       "      <td>1.231997</td>\n",
       "    </tr>\n",
       "    <tr>\n",
       "      <th>10</th>\n",
       "      <td>departamento_Colonia</td>\n",
       "      <td>1.230043</td>\n",
       "    </tr>\n",
       "    <tr>\n",
       "      <th>22</th>\n",
       "      <td>departamento_San José</td>\n",
       "      <td>1.229428</td>\n",
       "    </tr>\n",
       "    <tr>\n",
       "      <th>20</th>\n",
       "      <td>departamento_Río Negro</td>\n",
       "      <td>1.164124</td>\n",
       "    </tr>\n",
       "    <tr>\n",
       "      <th>25</th>\n",
       "      <td>departamento_Treinta y Tres</td>\n",
       "      <td>1.110703</td>\n",
       "    </tr>\n",
       "    <tr>\n",
       "      <th>24</th>\n",
       "      <td>departamento_Tacuarembó</td>\n",
       "      <td>1.068338</td>\n",
       "    </tr>\n",
       "    <tr>\n",
       "      <th>4</th>\n",
       "      <td>Canal_ingreso_Venta Digital</td>\n",
       "      <td>0.975810</td>\n",
       "    </tr>\n",
       "    <tr>\n",
       "      <th>13</th>\n",
       "      <td>departamento_Florida</td>\n",
       "      <td>0.931008</td>\n",
       "    </tr>\n",
       "    <tr>\n",
       "      <th>12</th>\n",
       "      <td>departamento_Flores</td>\n",
       "      <td>0.798178</td>\n",
       "    </tr>\n",
       "    <tr>\n",
       "      <th>7</th>\n",
       "      <td>departamento_Artigas</td>\n",
       "      <td>0.432505</td>\n",
       "    </tr>\n",
       "  </tbody>\n",
       "</table>\n",
       "</div>"
      ],
      "text/plain": [
       "                        Feature  Importance\n",
       "2     Canal_ingreso_Call Center    1.989647\n",
       "15       departamento_Maldonado    1.860121\n",
       "9      departamento_Cerro Largo    1.838046\n",
       "5              vuelta_clases_no    1.613311\n",
       "23         departamento_Soriano    1.569790\n",
       "19           departamento_Rocha    1.517632\n",
       "3             Canal_ingreso_Red    1.512576\n",
       "0                edad_solicitud    1.511171\n",
       "21           departamento_Salto    1.503720\n",
       "18          departamento_Rivera    1.496519\n",
       "16      departamento_Montevideo    1.495629\n",
       "14       departamento_Lavalleja    1.481362\n",
       "17        departamento_Paysandú    1.455205\n",
       "6                        sexo_F    1.409757\n",
       "8        departamento_Canelones    1.399631\n",
       "1                 LimiteCredito    1.351791\n",
       "11         departamento_Durazno    1.231997\n",
       "10         departamento_Colonia    1.230043\n",
       "22        departamento_San José    1.229428\n",
       "20       departamento_Río Negro    1.164124\n",
       "25  departamento_Treinta y Tres    1.110703\n",
       "24      departamento_Tacuarembó    1.068338\n",
       "4   Canal_ingreso_Venta Digital    0.975810\n",
       "13         departamento_Florida    0.931008\n",
       "12          departamento_Flores    0.798178\n",
       "7          departamento_Artigas    0.432505"
      ]
     },
     "execution_count": 87,
     "metadata": {},
     "output_type": "execute_result"
    }
   ],
   "source": [
    "importance_df = pd.DataFrame.from_dict(feature_importance, orient='index', columns=['Importance'])\n",
    "importance_df.index.name = 'Feature'\n",
    "importance_df.reset_index(inplace=True)\n",
    "\n",
    "importance_df = importance_df.sort_values(by='Importance', ascending=False)\n",
    "\n",
    "importance_df"
   ]
  },
  {
   "cell_type": "code",
   "execution_count": 88,
   "id": "f1ca791d",
   "metadata": {},
   "outputs": [
    {
     "data": {
      "image/png": "[encoded data removed]",
      "text/plain": [
       "<Figure size 720x432 with 1 Axes>"
      ]
     },
     "metadata": {
      "needs_background": "light"
     },
     "output_type": "display_data"
    }
   ],
   "source": [
    "plt.figure(figsize=(10, 6))\n",
    "plt.barh(importance_df['Feature'], importance_df['Importance'])\n",
    "plt.xlabel('Importance')\n",
    "plt.ylabel('Feature')\n",
    "plt.title('Feature Importance (Individual)')\n",
    "plt.gca().invert_yaxis()\n",
    "plt.show()"
   ]
  },
  {
   "cell_type": "code",
   "execution_count": null,
   "id": "0f548a25",
   "metadata": {},
   "outputs": [],
   "source": []
  }
 ],
 "metadata": {
  "kernelspec": {
   "display_name": "Python 3 (ipykernel)",
   "language": "python",
   "name": "python3"
  },
  "language_info": {
   "codemirror_mode": {
    "name": "ipython",
    "version": 3
   },
   "file_extension": ".py",
   "mimetype": "text/x-python",
   "name": "python",
   "nbconvert_exporter": "python",
   "pygments_lexer": "ipython3",
   "version": "3.9.7"
  }
 },
 "nbformat": 4,
 "nbformat_minor": 5
}
