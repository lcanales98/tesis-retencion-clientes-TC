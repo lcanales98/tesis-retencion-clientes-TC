{
 "cells": [
  {
   "cell_type": "markdown",
   "id": "bf3a2253",
   "metadata": {},
   "source": [
    "# Análisis de retención de clientes mediante técnicas de aprendizaje automático - Modelo 2 \n",
    "Lucia Canales Fischer"
   ]
  },
  {
   "cell_type": "code",
   "execution_count": 1,
   "id": "e601f904",
   "metadata": {
    "scrolled": false
   },
   "outputs": [],
   "source": [
    "#!pip install pyodbc\n",
    "#!pip install pandas \n",
    "#!pip install xgboost\n",
    "#!pip install pandas openpyxl\n"
   ]
  },
  {
   "cell_type": "code",
   "execution_count": 1,
   "id": "95beeffd",
   "metadata": {},
   "outputs": [],
   "source": [
    "import pandas as pd\n",
    "import plotly.express as px\n",
    "import matplotlib.pyplot as plt\n",
    "import seaborn as sns\n",
    "import numpy as np\n",
    "import pyodbc"
   ]
  },
  {
   "cell_type": "code",
   "execution_count": 2,
   "id": "1456ab82",
   "metadata": {},
   "outputs": [],
   "source": [
    "ruta = \"C:\\\\Users\\\\lucia\\\\Downloads\\\\tesis\\\\modelo_2_oct4.xlsx\"\n",
    "devoluciones = pd.read_excel(ruta)"
   ]
  },
  {
   "cell_type": "code",
   "execution_count": 3,
   "id": "68ed575e",
   "metadata": {},
   "outputs": [],
   "source": [
    "devoluciones['fechaingreso'] = pd.to_datetime(devoluciones['fechaingreso'])\n",
    "devoluciones['mes_entrega_tarjeta'] = devoluciones['fechaingreso'].dt.month"
   ]
  },
  {
   "cell_type": "code",
   "execution_count": 4,
   "id": "06585a0a",
   "metadata": {},
   "outputs": [],
   "source": [
    "devoluciones['fecha'] = pd.to_datetime(devoluciones['AñoMesIngreso'], format='%Y%m')\n",
    "devoluciones['año'] = devoluciones['fecha'].dt.year\n",
    "devoluciones['mes'] = devoluciones['fecha'].dt.month\n",
    "devoluciones['log_ingresos'] = np.log(devoluciones['ingresos'])"
   ]
  },
  {
   "cell_type": "markdown",
   "id": "023c5795",
   "metadata": {},
   "source": [
    "# ONE HOT ENCODING"
   ]
  },
  {
   "cell_type": "code",
   "execution_count": 7,
   "id": "61c08910",
   "metadata": {},
   "outputs": [],
   "source": [
    "devoluciones_encoded = pd.get_dummies(devoluciones, columns=['Canal_ingreso','sexo', 'estado_civil','departamento'\n",
    "                                                             ,'mes_entrega_tarjeta','hizo_pagos','pago_atraso','HizoCompra', 'HizoCompraNormal'])\n",
    "devoluciones_encoded = devoluciones_encoded.drop(columns='codigo_cliente')"
   ]
  },
  {
   "cell_type": "markdown",
   "id": "db9c04e4",
   "metadata": {},
   "source": [
    "# Definición de TRAIN y TEST"
   ]
  },
  {
   "cell_type": "code",
   "execution_count": 11,
   "id": "36aae138",
   "metadata": {},
   "outputs": [],
   "source": [
    "from sklearn.model_selection import train_test_split\n",
    "\n",
    "X = devoluciones_encoded.drop(columns=['devuelta'])  \n",
    "y = devoluciones_encoded['devuelta']  \n",
    "X_train, X_test, y_train, y_test = train_test_split(X, y, test_size=0.3, random_state=42)"
   ]
  },
  {
   "cell_type": "code",
   "execution_count": 12,
   "id": "283cc684",
   "metadata": {},
   "outputs": [],
   "source": [
    "eliminar_full = ['fechaingreso', 'AñoMesIngreso','fecha_nacimiento', 'tipo_trabajo', 'ingresos',\n",
    " 'FechaModificacion', 'AñoMesModificacion', 'UltimoEstado', 'dif_meses',\n",
    "  'FechaPrimeraCompra', 'FechaUltimaCompra', 'prop_pagos_atraso',\n",
    " 'FechaPrimeraCompraNormal', 'FechaUltimaCompraNormal', 'fecha', 'año', 'mes'] "
   ]
  },
  {
   "cell_type": "code",
   "execution_count": 13,
   "id": "93877ca9",
   "metadata": {},
   "outputs": [],
   "source": [
    "X_train_full = X_train.drop(columns=eliminar_full)\n",
    "X_test_full = X_test.drop(columns=eliminar_full)"
   ]
  },
  {
   "cell_type": "markdown",
   "id": "99049e6d",
   "metadata": {},
   "source": [
    "# LOGISTICA "
   ]
  },
  {
   "cell_type": "code",
   "execution_count": 15,
   "id": "f20f0bd1",
   "metadata": {},
   "outputs": [
    {
     "name": "stdout",
     "output_type": "stream",
     "text": [
      "Accuracy: 0.956955463042966\n"
     ]
    },
    {
     "name": "stderr",
     "output_type": "stream",
     "text": [
      "C:\\Users\\lucia\\anaconda3\\lib\\site-packages\\sklearn\\linear_model\\_logistic.py:458: ConvergenceWarning: lbfgs failed to converge (status=1):\n",
      "STOP: TOTAL NO. of ITERATIONS REACHED LIMIT.\n",
      "\n",
      "Increase the number of iterations (max_iter) or scale the data as shown in:\n",
      "    https://scikit-learn.org/stable/modules/preprocessing.html\n",
      "Please also refer to the documentation for alternative solver options:\n",
      "    https://scikit-learn.org/stable/modules/linear_model.html#logistic-regression\n",
      "  n_iter_i = _check_optimize_result(\n"
     ]
    }
   ],
   "source": [
    "from sklearn.linear_model import LogisticRegression\n",
    "from sklearn.metrics import accuracy_score \n",
    "\n",
    "logit_model = LogisticRegression()\n",
    "\n",
    "logit_model.fit(X_train_full, y_train)\n",
    "\n",
    "y_pred_log = logit_model.predict(X_test_full)\n",
    "\n",
    "accuracy = accuracy_score(y_test, y_pred_log)"
   ]
  },
  {
   "cell_type": "code",
   "execution_count": 16,
   "id": "3666387d",
   "metadata": {
    "scrolled": false
   },
   "outputs": [
    {
     "name": "stderr",
     "output_type": "stream",
     "text": [
      "C:\\Users\\lucia\\anaconda3\\lib\\site-packages\\statsmodels\\tsa\\tsatools.py:142: FutureWarning: In a future version of pandas all arguments of concat except for the argument 'objs' will be keyword-only\n",
      "  x = pd.concat(x[::order], 1)\n"
     ]
    },
    {
     "name": "stdout",
     "output_type": "stream",
     "text": [
      "Optimization terminated successfully.\n",
      "         Current function value: 0.156648\n",
      "         Iterations 10\n",
      "Accuracy: 0.956955463042966\n",
      "                           Logit Regression Results                           \n",
      "==============================================================================\n",
      "Dep. Variable:               devuelta   No. Observations:                29703\n",
      "Model:                          Logit   Df Residuals:                    29645\n",
      "Method:                           MLE   Df Model:                           57\n",
      "Date:                Sun, 10 Nov 2024   Pseudo R-squ.:                 0.07832\n",
      "Time:                        18:53:10   Log-Likelihood:                -4652.9\n",
      "converged:                       True   LL-Null:                       -5048.3\n",
      "Covariance Type:            nonrobust   LLR p-value:                9.528e-130\n",
      "===============================================================================================\n",
      "                                  coef    std err          z      P>|z|      [0.025      0.975]\n",
      "-----------------------------------------------------------------------------------------------\n",
      "const                          -3.8928   1.19e+06  -3.28e-06      1.000   -2.32e+06    2.32e+06\n",
      "edad_solicitud                  0.0117      0.002      5.915      0.000       0.008       0.016\n",
      "LimiteCredito               -3.231e-06   2.06e-06     -1.571      0.116   -7.26e-06    8.01e-07\n",
      "recencia                       -0.0048      0.001     -4.241      0.000      -0.007      -0.003\n",
      "frecuencia                      0.0014      0.007      0.195      0.845      -0.013       0.016\n",
      "monetario                    6.367e-06   1.51e-05      0.422      0.673   -2.32e-05    3.59e-05\n",
      "recencia_CompraNormal           0.0103      0.001      7.447      0.000       0.008       0.013\n",
      "frecuencia_CompraNormal         0.0585      0.012      4.695      0.000       0.034       0.083\n",
      "monetario_CompraNormal      -4.154e-05   1.63e-05     -2.550      0.011   -7.35e-05   -9.62e-06\n",
      "Cant_Trx_Mes                   -0.0485      0.045     -1.076      0.282      -0.137       0.040\n",
      "Monto_Trx_Promedio           6.497e-05   7.74e-05      0.839      0.401   -8.68e-05       0.000\n",
      "Monto_Trx_Mes               -2.307e-05   7.84e-05     -0.294      0.769      -0.000       0.000\n",
      "q_pagos_astraso                -0.0568      0.082     -0.696      0.486      -0.217       0.103\n",
      "Cant_Trx_Normal_Mes            -0.2244      0.075     -3.001      0.003      -0.371      -0.078\n",
      "Monto_Trx_Normal_Promedio    1.892e-05   4.75e-05      0.398      0.690   -7.42e-05       0.000\n",
      "Monto_Trx_Normal_Mes        -1.487e-05   4.92e-05     -0.302      0.762      -0.000    8.16e-05\n",
      "log_ingresos                    0.1206      0.066      1.835      0.066      -0.008       0.249\n",
      "Canal_ingreso_Call Center      -1.8926        nan        nan        nan         nan         nan\n",
      "Canal_ingreso_Red              -1.9349        nan        nan        nan         nan         nan\n",
      "Canal_ingreso_Venta Digital    -2.2746        nan        nan        nan         nan         nan\n",
      "sexo_F                          0.7397        nan        nan        nan         nan         nan\n",
      "sexo_M                          0.5857        nan        nan        nan         nan         nan\n",
      "estado_civil_Casado            -0.0279        nan        nan        nan         nan         nan\n",
      "estado_civil_Divorciado         0.1030        nan        nan        nan         nan         nan\n",
      "estado_civil_Separado          -0.0311        nan        nan        nan         nan         nan\n",
      "estado_civil_Soltero           -0.0380        nan        nan        nan         nan         nan\n",
      "estado_civil_Unión Libre       -0.2433        nan        nan        nan         nan         nan\n",
      "estado_civil_Viudo             -0.0384        nan        nan        nan         nan         nan\n",
      "departamento_Artigas           -0.5706    1.4e+06  -4.07e-07      1.000   -2.75e+06    2.75e+06\n",
      "departamento_Canelones         -0.0079   1.41e+06  -5.63e-09      1.000   -2.75e+06    2.75e+06\n",
      "departamento_Cerro Largo       -0.1514   1.42e+06  -1.07e-07      1.000   -2.77e+06    2.77e+06\n",
      "departamento_Colonia            0.0450   1.41e+06   3.19e-08      1.000   -2.77e+06    2.77e+06\n",
      "departamento_Durazno           -0.1141    1.4e+06  -8.13e-08      1.000   -2.75e+06    2.75e+06\n",
      "departamento_Flores            -0.0403   1.41e+06  -2.87e-08      1.000   -2.76e+06    2.76e+06\n",
      "departamento_Florida            0.0676   1.41e+06   4.81e-08      1.000   -2.76e+06    2.76e+06\n",
      "departamento_Lavalleja          0.2004   1.41e+06   1.42e-07      1.000   -2.76e+06    2.76e+06\n",
      "departamento_Maldonado          0.1357   1.41e+06   9.65e-08      1.000   -2.76e+06    2.76e+06\n",
      "departamento_Montevideo         0.0012   1.41e+06   8.82e-10      1.000   -2.77e+06    2.77e+06\n",
      "departamento_Paysandú          -0.1453    1.4e+06  -1.03e-07      1.000   -2.75e+06    2.75e+06\n",
      "departamento_Rivera            -0.4249   1.41e+06  -3.01e-07      1.000   -2.76e+06    2.76e+06\n",
      "departamento_Rocha             -1.0705   1.41e+06  -7.59e-07      1.000   -2.76e+06    2.76e+06\n",
      "departamento_Río Negro         -0.2121   1.41e+06  -1.51e-07      1.000   -2.76e+06    2.76e+06\n",
      "departamento_Salto             -0.1798   1.41e+06  -1.28e-07      1.000   -2.76e+06    2.76e+06\n",
      "departamento_San José          -0.1148   1.41e+06  -8.17e-08      1.000   -2.75e+06    2.75e+06\n",
      "departamento_Soriano           -0.2342   1.41e+06  -1.66e-07      1.000   -2.77e+06    2.77e+06\n",
      "departamento_Tacuarembó        -0.2313   1.41e+06  -1.64e-07      1.000   -2.76e+06    2.76e+06\n",
      "departamento_Treinta y Tres    -0.6485   1.41e+06  -4.61e-07      1.000   -2.76e+06    2.76e+06\n",
      "mes_entrega_tarjeta_1           0.2347        nan        nan        nan         nan         nan\n",
      "mes_entrega_tarjeta_2           0.7345        nan        nan        nan         nan         nan\n",
      "mes_entrega_tarjeta_3           1.0615        nan        nan        nan         nan         nan\n",
      "mes_entrega_tarjeta_4           0.8188        nan        nan        nan         nan         nan\n",
      "mes_entrega_tarjeta_5           0.8724        nan        nan        nan         nan         nan\n",
      "mes_entrega_tarjeta_6           0.7989        nan        nan        nan         nan         nan\n",
      "mes_entrega_tarjeta_7           0.8341        nan        nan        nan         nan         nan\n",
      "mes_entrega_tarjeta_8           0.8487        nan        nan        nan         nan         nan\n",
      "mes_entrega_tarjeta_9           0.7433        nan        nan        nan         nan         nan\n",
      "mes_entrega_tarjeta_10          0.7923        nan        nan        nan         nan         nan\n",
      "mes_entrega_tarjeta_11          1.0229        nan        nan        nan         nan         nan\n",
      "mes_entrega_tarjeta_12          1.3717        nan        nan        nan         nan         nan\n",
      "hizo_pagos_0                    0.1743        nan        nan        nan         nan         nan\n",
      "hizo_pagos_1                    0.4550        nan        nan        nan         nan         nan\n",
      "pago_atraso_0                  -0.0774        nan        nan        nan         nan         nan\n",
      "pago_atraso_1                  -0.0003        nan        nan        nan         nan         nan\n",
      "HizoCompra_0                   -0.2556        nan        nan        nan         nan         nan\n",
      "HizoCompra_1                   -1.1424        nan        nan        nan         nan         nan\n",
      "HizoCompraNormal_0             -0.9175   1.18e+06   -7.8e-07      1.000    -2.3e+06     2.3e+06\n",
      "HizoCompraNormal_1             -0.4805   1.18e+06  -4.09e-07      1.000    -2.3e+06     2.3e+06\n",
      "===============================================================================================\n"
     ]
    }
   ],
   "source": [
    "import statsmodels.api as sm\n",
    "from sklearn.metrics import accuracy_score\n",
    "import numpy as np\n",
    "\n",
    "X_train_full = sm.add_constant(X_train_full)\n",
    "X_test_full = sm.add_constant(X_test_full)\n",
    "\n",
    "logit_model = sm.Logit(y_train, X_train_full)\n",
    "result = logit_model.fit()\n",
    "\n",
    "y_pred_log_prob = result.predict(X_test_full)\n",
    "y_pred_log = np.where(y_pred_log_prob > 0.5, 1, 0) \n",
    "\n",
    "accuracy = accuracy_score(y_test, y_pred_log)\n",
    "print(\"Accuracy:\", accuracy)\n",
    "\n",
    "print(result.summary())\n"
   ]
  },
  {
   "cell_type": "code",
   "execution_count": 17,
   "id": "93e88abe",
   "metadata": {},
   "outputs": [
    {
     "name": "stderr",
     "output_type": "stream",
     "text": [
      "C:\\Users\\lucia\\anaconda3\\lib\\site-packages\\sklearn\\linear_model\\_logistic.py:458: ConvergenceWarning: lbfgs failed to converge (status=1):\n",
      "STOP: TOTAL NO. of ITERATIONS REACHED LIMIT.\n",
      "\n",
      "Increase the number of iterations (max_iter) or scale the data as shown in:\n",
      "    https://scikit-learn.org/stable/modules/preprocessing.html\n",
      "Please also refer to the documentation for alternative solver options:\n",
      "    https://scikit-learn.org/stable/modules/linear_model.html#logistic-regression\n",
      "  n_iter_i = _check_optimize_result(\n"
     ]
    },
    {
     "data": {
      "image/png": "[encoded data removed]",
      "text/plain": [
       "<Figure size 576x432 with 1 Axes>"
      ]
     },
     "metadata": {
      "needs_background": "light"
     },
     "output_type": "display_data"
    }
   ],
   "source": [
    "from sklearn.model_selection import train_test_split\n",
    "from sklearn.linear_model import LogisticRegression\n",
    "from sklearn.metrics import accuracy_score, roc_curve, roc_auc_score\n",
    "import matplotlib.pyplot as plt\n",
    "\n",
    "\n",
    "logit_model = LogisticRegression()\n",
    "logit_model.fit(X_train_full, y_train)\n",
    "\n",
    "y_pred_log = logit_model.predict(X_test_full)\n",
    "y_prob_log = logit_model.predict_proba(X_test_full)[:, 1]\n",
    "\n",
    "fpr_log, tpr_log, thresholds_log = roc_curve(y_test, y_prob_log)\n",
    "auc_log = roc_auc_score(y_test, y_prob_log)\n",
    "\n",
    "plt.figure(figsize=(8, 6))\n",
    "plt.plot(fpr_log, tpr_log, color='blue', lw=2, label='ROC curve (area = %0.2f)' % auc_log)\n",
    "plt.plot([0, 1], [0, 1], color='gray', linestyle='--')\n",
    "plt.xlim([0.0, 1.0])\n",
    "plt.ylim([0.0, 1.05])\n",
    "plt.xlabel('False Positive Rate')\n",
    "plt.ylabel('True Positive Rate')\n",
    "plt.title('ROC Curve - Modelo Logistico Utilizando Departamento')\n",
    "plt.legend(loc='lower right')\n",
    "plt.show()"
   ]
  },
  {
   "cell_type": "code",
   "execution_count": 18,
   "id": "23b16fe2",
   "metadata": {
    "scrolled": true
   },
   "outputs": [
    {
     "data": {
      "text/html": [
       "<div>\n",
       "<style scoped>\n",
       "    .dataframe tbody tr th:only-of-type {\n",
       "        vertical-align: middle;\n",
       "    }\n",
       "\n",
       "    .dataframe tbody tr th {\n",
       "        vertical-align: top;\n",
       "    }\n",
       "\n",
       "    .dataframe thead th {\n",
       "        text-align: right;\n",
       "    }\n",
       "</style>\n",
       "<table border=\"1\" class=\"dataframe\">\n",
       "  <thead>\n",
       "    <tr style=\"text-align: right;\">\n",
       "      <th></th>\n",
       "      <th>y_prob</th>\n",
       "      <th>y_pred</th>\n",
       "    </tr>\n",
       "  </thead>\n",
       "  <tbody>\n",
       "    <tr>\n",
       "      <th>28168</th>\n",
       "      <td>0.024388</td>\n",
       "      <td>0</td>\n",
       "    </tr>\n",
       "    <tr>\n",
       "      <th>3277</th>\n",
       "      <td>0.041456</td>\n",
       "      <td>0</td>\n",
       "    </tr>\n",
       "    <tr>\n",
       "      <th>12950</th>\n",
       "      <td>0.110436</td>\n",
       "      <td>0</td>\n",
       "    </tr>\n",
       "    <tr>\n",
       "      <th>8363</th>\n",
       "      <td>0.101378</td>\n",
       "      <td>0</td>\n",
       "    </tr>\n",
       "    <tr>\n",
       "      <th>16286</th>\n",
       "      <td>0.080387</td>\n",
       "      <td>0</td>\n",
       "    </tr>\n",
       "    <tr>\n",
       "      <th>...</th>\n",
       "      <td>...</td>\n",
       "      <td>...</td>\n",
       "    </tr>\n",
       "    <tr>\n",
       "      <th>20398</th>\n",
       "      <td>0.072353</td>\n",
       "      <td>0</td>\n",
       "    </tr>\n",
       "    <tr>\n",
       "      <th>36257</th>\n",
       "      <td>0.000068</td>\n",
       "      <td>0</td>\n",
       "    </tr>\n",
       "    <tr>\n",
       "      <th>7924</th>\n",
       "      <td>0.092467</td>\n",
       "      <td>0</td>\n",
       "    </tr>\n",
       "    <tr>\n",
       "      <th>11342</th>\n",
       "      <td>0.110280</td>\n",
       "      <td>0</td>\n",
       "    </tr>\n",
       "    <tr>\n",
       "      <th>31733</th>\n",
       "      <td>0.005506</td>\n",
       "      <td>0</td>\n",
       "    </tr>\n",
       "  </tbody>\n",
       "</table>\n",
       "<p>12731 rows × 2 columns</p>\n",
       "</div>"
      ],
      "text/plain": [
       "         y_prob  y_pred\n",
       "28168  0.024388       0\n",
       "3277   0.041456       0\n",
       "12950  0.110436       0\n",
       "8363   0.101378       0\n",
       "16286  0.080387       0\n",
       "...         ...     ...\n",
       "20398  0.072353       0\n",
       "36257  0.000068       0\n",
       "7924   0.092467       0\n",
       "11342  0.110280       0\n",
       "31733  0.005506       0\n",
       "\n",
       "[12731 rows x 2 columns]"
      ]
     },
     "execution_count": 18,
     "metadata": {},
     "output_type": "execute_result"
    }
   ],
   "source": [
    "y_prob_log = logit_model.predict_proba(X_test_full)[:, 1]\n",
    "y_pred_log = (y_prob_log > 0.5).astype(int)\n",
    "\n",
    "result_log = pd.DataFrame({'y_prob': y_prob_log, 'y_pred': y_pred_log}, index=X_test_full.index)\n",
    "result_log"
   ]
  },
  {
   "cell_type": "code",
   "execution_count": 19,
   "id": "831af0ff",
   "metadata": {
    "scrolled": false
   },
   "outputs": [
    {
     "data": {
      "image/png": "[encoded data removed]",
      "text/plain": [
       "<Figure size 576x432 with 1 Axes>"
      ]
     },
     "metadata": {
      "needs_background": "light"
     },
     "output_type": "display_data"
    },
    {
     "name": "stdout",
     "output_type": "stream",
     "text": [
      "Optimal Threshold: 0.03501387828700462\n"
     ]
    }
   ],
   "source": [
    "from sklearn.metrics import roc_curve, roc_auc_score\n",
    "import matplotlib.pyplot as plt\n",
    "\n",
    "y_prob_log = logit_model.predict_proba(X_test_full)[:, 1]\n",
    "\n",
    "fpr_log, tpr_log, thresholds_log = roc_curve(y_test, y_prob_log)\n",
    "\n",
    "auc_log = roc_auc_score(y_test, y_prob_log)\n",
    "\n",
    "Youden_index_log = tpr_log - fpr_log\n",
    "optimal_threshold_index_log = np.argmax(Youden_index_log)\n",
    "optimal_threshold_log = thresholds_log[optimal_threshold_index_log]\n",
    "\n",
    "plt.figure(figsize=(8, 6))\n",
    "plt.plot(fpr_log, tpr_log, color='blue', lw=2, label='ROC curve (area = %0.2f)' % auc_log)\n",
    "plt.scatter(fpr_log[optimal_threshold_index_log]\n",
    "            , tpr_log[optimal_threshold_index_log]\n",
    "            , color='red', s=100, label='Optimal Threshold')\n",
    "plt.plot([0, 1], [0, 1], color='gray', linestyle='--')\n",
    "plt.xlim([0.0, 1.0])\n",
    "plt.ylim([0.0, 1.05])\n",
    "plt.xlabel('False Positive Rate')\n",
    "plt.ylabel('True Positive Rate')\n",
    "plt.title('ROC Curve - Modelo Logistico Utilizando Departamento - Optimal Threshold')\n",
    "plt.legend(loc='lower right')\n",
    "plt.show()\n",
    "\n",
    "print(\"Optimal Threshold:\", optimal_threshold_log)"
   ]
  },
  {
   "cell_type": "code",
   "execution_count": 20,
   "id": "538f7590",
   "metadata": {},
   "outputs": [
    {
     "name": "stdout",
     "output_type": "stream",
     "text": [
      "Matriz de confusión:\n",
      "[[4657 7526]\n",
      " [  83  465]]\n"
     ]
    }
   ],
   "source": [
    "import numpy as np\n",
    "from sklearn.metrics import confusion_matrix\n",
    "\n",
    "y_pred_optimal_threshold_log = (y_prob_log >= optimal_threshold_log).astype(int)\n",
    "\n",
    "conf_matrix_log = confusion_matrix(y_test, y_pred_optimal_threshold_log)\n",
    "\n",
    "print(\"Matriz de confusión:\")\n",
    "print(conf_matrix_log)"
   ]
  },
  {
   "cell_type": "code",
   "execution_count": 21,
   "id": "19246e7e",
   "metadata": {},
   "outputs": [
    {
     "name": "stdout",
     "output_type": "stream",
     "text": [
      "Falsos Negativos (FN): 83\n"
     ]
    }
   ],
   "source": [
    "fn_index_row = 1  \n",
    "fn_index_col = 0 \n",
    "fn_count = conf_matrix_log[fn_index_row, fn_index_col]\n",
    "\n",
    "print(\"Falsos Negativos (FN):\", fn_count)"
   ]
  },
  {
   "cell_type": "code",
   "execution_count": 22,
   "id": "2350f4ba",
   "metadata": {},
   "outputs": [
    {
     "data": {
      "text/html": [
       "<div>\n",
       "<style scoped>\n",
       "    .dataframe tbody tr th:only-of-type {\n",
       "        vertical-align: middle;\n",
       "    }\n",
       "\n",
       "    .dataframe tbody tr th {\n",
       "        vertical-align: top;\n",
       "    }\n",
       "\n",
       "    .dataframe thead th {\n",
       "        text-align: right;\n",
       "    }\n",
       "</style>\n",
       "<table border=\"1\" class=\"dataframe\">\n",
       "  <thead>\n",
       "    <tr style=\"text-align: right;\">\n",
       "      <th></th>\n",
       "      <th>y_prob</th>\n",
       "      <th>y_pred</th>\n",
       "      <th>y_pred_OT</th>\n",
       "    </tr>\n",
       "  </thead>\n",
       "  <tbody>\n",
       "    <tr>\n",
       "      <th>28168</th>\n",
       "      <td>0.024388</td>\n",
       "      <td>0</td>\n",
       "      <td>0</td>\n",
       "    </tr>\n",
       "    <tr>\n",
       "      <th>3277</th>\n",
       "      <td>0.041456</td>\n",
       "      <td>0</td>\n",
       "      <td>1</td>\n",
       "    </tr>\n",
       "    <tr>\n",
       "      <th>12950</th>\n",
       "      <td>0.110436</td>\n",
       "      <td>0</td>\n",
       "      <td>1</td>\n",
       "    </tr>\n",
       "    <tr>\n",
       "      <th>8363</th>\n",
       "      <td>0.101378</td>\n",
       "      <td>0</td>\n",
       "      <td>1</td>\n",
       "    </tr>\n",
       "    <tr>\n",
       "      <th>16286</th>\n",
       "      <td>0.080387</td>\n",
       "      <td>0</td>\n",
       "      <td>1</td>\n",
       "    </tr>\n",
       "    <tr>\n",
       "      <th>...</th>\n",
       "      <td>...</td>\n",
       "      <td>...</td>\n",
       "      <td>...</td>\n",
       "    </tr>\n",
       "    <tr>\n",
       "      <th>20398</th>\n",
       "      <td>0.072353</td>\n",
       "      <td>0</td>\n",
       "      <td>1</td>\n",
       "    </tr>\n",
       "    <tr>\n",
       "      <th>36257</th>\n",
       "      <td>0.000068</td>\n",
       "      <td>0</td>\n",
       "      <td>0</td>\n",
       "    </tr>\n",
       "    <tr>\n",
       "      <th>7924</th>\n",
       "      <td>0.092467</td>\n",
       "      <td>0</td>\n",
       "      <td>1</td>\n",
       "    </tr>\n",
       "    <tr>\n",
       "      <th>11342</th>\n",
       "      <td>0.110280</td>\n",
       "      <td>0</td>\n",
       "      <td>1</td>\n",
       "    </tr>\n",
       "    <tr>\n",
       "      <th>31733</th>\n",
       "      <td>0.005506</td>\n",
       "      <td>0</td>\n",
       "      <td>0</td>\n",
       "    </tr>\n",
       "  </tbody>\n",
       "</table>\n",
       "<p>12731 rows × 3 columns</p>\n",
       "</div>"
      ],
      "text/plain": [
       "         y_prob  y_pred  y_pred_OT\n",
       "28168  0.024388       0          0\n",
       "3277   0.041456       0          1\n",
       "12950  0.110436       0          1\n",
       "8363   0.101378       0          1\n",
       "16286  0.080387       0          1\n",
       "...         ...     ...        ...\n",
       "20398  0.072353       0          1\n",
       "36257  0.000068       0          0\n",
       "7924   0.092467       0          1\n",
       "11342  0.110280       0          1\n",
       "31733  0.005506       0          0\n",
       "\n",
       "[12731 rows x 3 columns]"
      ]
     },
     "execution_count": 22,
     "metadata": {},
     "output_type": "execute_result"
    }
   ],
   "source": [
    "y_prob_log = logit_model.predict_proba(X_test_full)[:, 1]\n",
    "y_pred_log = (y_prob_log > 0.5).astype(int)\n",
    "y_pred_optimal_threshold_log = (y_prob_log >= optimal_threshold_log).astype(int)\n",
    "\n",
    "result_log = pd.DataFrame({'y_prob': y_prob_log,\n",
    "                              'y_pred': y_pred_log,\n",
    "                             'y_pred_OT' : y_pred_optimal_threshold_log\n",
    "                             }, index=X_test_full.index)\n",
    "result_log"
   ]
  },
  {
   "cell_type": "code",
   "execution_count": 24,
   "id": "b09ad919",
   "metadata": {},
   "outputs": [
    {
     "name": "stdout",
     "output_type": "stream",
     "text": [
      "Log model:\n",
      "KS: 0.2308 (p-value: 5.067e-25)\n",
      "ROC AUC: 0.6088\n"
     ]
    }
   ],
   "source": [
    "from scipy.stats import ks_2samp\n",
    "from sklearn.metrics import roc_auc_score\n",
    "\n",
    "def evaluate_ks_and_roc_auc(y_real_log, y_proba_log):\n",
    "    df = pd.DataFrame()\n",
    "    df['real'] = y_real_log\n",
    "    df['proba'] = y_proba_log\n",
    "    class0 = df[df['real'] == 0]\n",
    "    class1 = df[df['real'] == 1]\n",
    "    ks = ks_2samp(class0['proba'], class1['proba'])\n",
    "    roc_auc = roc_auc_score(df['real'], df['proba'])\n",
    "    print(f\"KS: {ks.statistic:.4f} (p-value: {ks.pvalue:.3e})\")\n",
    "    print(f\"ROC AUC: {roc_auc:.4f}\")\n",
    "    return ks.statistic, roc_auc\n",
    "\n",
    "print(\"Log model:\")\n",
    "ks_base_log, auc_base_log = evaluate_ks_and_roc_auc(y_test, y_prob_log)"
   ]
  },
  {
   "cell_type": "code",
   "execution_count": 25,
   "id": "37a9dd4e",
   "metadata": {},
   "outputs": [
    {
     "data": {
      "text/html": [
       "<div>\n",
       "<style scoped>\n",
       "    .dataframe tbody tr th:only-of-type {\n",
       "        vertical-align: middle;\n",
       "    }\n",
       "\n",
       "    .dataframe tbody tr th {\n",
       "        vertical-align: top;\n",
       "    }\n",
       "\n",
       "    .dataframe thead th {\n",
       "        text-align: right;\n",
       "    }\n",
       "</style>\n",
       "<table border=\"1\" class=\"dataframe\">\n",
       "  <thead>\n",
       "    <tr style=\"text-align: right;\">\n",
       "      <th></th>\n",
       "      <th>Modelo</th>\n",
       "      <th>KS</th>\n",
       "      <th>ROC AUC</th>\n",
       "    </tr>\n",
       "  </thead>\n",
       "  <tbody>\n",
       "    <tr>\n",
       "      <th>0</th>\n",
       "      <td>Logistico</td>\n",
       "      <td>0.231</td>\n",
       "      <td>0.609</td>\n",
       "    </tr>\n",
       "  </tbody>\n",
       "</table>\n",
       "</div>"
      ],
      "text/plain": [
       "      Modelo     KS  ROC AUC\n",
       "0  Logistico  0.231    0.609"
      ]
     },
     "execution_count": 25,
     "metadata": {},
     "output_type": "execute_result"
    }
   ],
   "source": [
    "results_df_log = pd.DataFrame({\n",
    "    'Modelo': ['Logistico'],\n",
    "    'KS': [ks_base_log],\n",
    "    'ROC AUC': [auc_base_log]\n",
    "})\n",
    "results_df_log = results_df_log.round(3)\n",
    "results_df_log"
   ]
  },
  {
   "cell_type": "markdown",
   "id": "80f59379",
   "metadata": {},
   "source": [
    "# Random forest"
   ]
  },
  {
   "cell_type": "code",
   "execution_count": 26,
   "id": "b5ea4109",
   "metadata": {},
   "outputs": [
    {
     "name": "stdout",
     "output_type": "stream",
     "text": [
      "Accuracy: 0.9567198177676538\n"
     ]
    }
   ],
   "source": [
    "from sklearn.ensemble import RandomForestClassifier\n",
    "from sklearn.metrics import accuracy_score\n",
    "\n",
    "rf_model = RandomForestClassifier()\n",
    "\n",
    "rf_model.fit(X_train_full, y_train)\n",
    "\n",
    "y_pred_rf = rf_model.predict(X_test_full)\n",
    "\n",
    "accuracy = accuracy_score(y_test, y_pred_rf)"
   ]
  },
  {
   "cell_type": "code",
   "execution_count": 27,
   "id": "6ab26ef3",
   "metadata": {
    "scrolled": false
   },
   "outputs": [
    {
     "data": {
      "image/png": "[encoded data removed]",
      "text/plain": [
       "<Figure size 576x432 with 1 Axes>"
      ]
     },
     "metadata": {
      "needs_background": "light"
     },
     "output_type": "display_data"
    }
   ],
   "source": [
    "from sklearn.metrics import roc_curve, roc_auc_score\n",
    "import matplotlib.pyplot as plt\n",
    "\n",
    "y_prob_rf = rf_model.predict_proba(X_test_full)[:, 1]\n",
    "fpr_rf, tpr_rf, thresholds_rf = roc_curve(y_test, y_prob_rf)\n",
    "auc_rf = roc_auc_score(y_test, y_prob_rf)\n",
    "\n",
    "plt.figure(figsize=(8, 6))\n",
    "plt.plot(fpr_rf, tpr_rf, color='blue', lw=2, label='ROC curve (AUC = %0.2f)' % auc_rf)\n",
    "plt.plot([0, 1], [0, 1], color='gray', linestyle='--')\n",
    "plt.xlim([0.0, 1.0])\n",
    "plt.ylim([0.0, 1.05])\n",
    "plt.xlabel('False Positive Rate')\n",
    "plt.ylabel('True Positive Rate')\n",
    "plt.title('ROC Curve - Random Forest')\n",
    "plt.legend(loc='lower right')\n",
    "plt.show()"
   ]
  },
  {
   "cell_type": "code",
   "execution_count": 28,
   "id": "a499093e",
   "metadata": {
    "scrolled": false
   },
   "outputs": [
    {
     "data": {
      "image/png": "[encoded data removed]",
      "text/plain": [
       "<Figure size 576x432 with 1 Axes>"
      ]
     },
     "metadata": {
      "needs_background": "light"
     },
     "output_type": "display_data"
    },
    {
     "name": "stdout",
     "output_type": "stream",
     "text": [
      "Optimal Threshold: 0.04\n"
     ]
    }
   ],
   "source": [
    "from sklearn.metrics import roc_curve, roc_auc_score\n",
    "import matplotlib.pyplot as plt\n",
    "\n",
    "y_prob_rf = rf_model.predict_proba(X_test_full)[:, 1]\n",
    "\n",
    "fpr_rf, tpr_rf, thresholds_rf = roc_curve(y_test, y_prob_rf)\n",
    "\n",
    "auc_rf = roc_auc_score(y_test, y_prob_rf)\n",
    "\n",
    "Youden_index_rf = tpr_rf - fpr_rf\n",
    "optimal_threshold_index_rf = np.argmax(Youden_index_rf)\n",
    "optimal_threshold_rf = thresholds_rf[optimal_threshold_index_rf]\n",
    "\n",
    "plt.figure(figsize=(8, 6))\n",
    "plt.plot(fpr_rf, tpr_rf, color='blue', lw=2, label='ROC curve (area = %0.2f)' % auc_rf)\n",
    "plt.scatter(fpr_rf[optimal_threshold_index_rf], tpr_rf[optimal_threshold_index_rf], color='red', s=100\n",
    "            , label='Optimal Threshold')\n",
    "plt.plot([0, 1], [0, 1], color='gray', linestyle='--')\n",
    "plt.xlim([0.0, 1.0])\n",
    "plt.ylim([0.0, 1.05])\n",
    "plt.xlabel('False Positive Rate')\n",
    "plt.ylabel('True Positive Rate')\n",
    "plt.title('ROC Curve - Random Forest - Optimal Threshold')\n",
    "plt.legend(loc='lower right')\n",
    "plt.show()\n",
    "\n",
    "print(\"Optimal Threshold:\", optimal_threshold_rf)"
   ]
  },
  {
   "cell_type": "code",
   "execution_count": 29,
   "id": "357fe9a3",
   "metadata": {},
   "outputs": [
    {
     "name": "stdout",
     "output_type": "stream",
     "text": [
      "Matriz de Confusión:\n",
      "[[7005 5178]\n",
      " [ 148  400]]\n"
     ]
    }
   ],
   "source": [
    "from sklearn.metrics import confusion_matrix\n",
    "\n",
    "y_prob_rf = rf_model.predict_proba(X_test_full)[:, 1]\n",
    "\n",
    "y_pred_optimal_rf = (y_prob_rf >= optimal_threshold_rf).astype(int)\n",
    "\n",
    "conf_matrix_rf = confusion_matrix(y_test, y_pred_optimal_rf)\n",
    "\n",
    "print(\"Matriz de Confusión:\")\n",
    "print(conf_matrix_rf)"
   ]
  },
  {
   "cell_type": "code",
   "execution_count": 30,
   "id": "fd72ac51",
   "metadata": {},
   "outputs": [
    {
     "data": {
      "text/html": [
       "<div>\n",
       "<style scoped>\n",
       "    .dataframe tbody tr th:only-of-type {\n",
       "        vertical-align: middle;\n",
       "    }\n",
       "\n",
       "    .dataframe tbody tr th {\n",
       "        vertical-align: top;\n",
       "    }\n",
       "\n",
       "    .dataframe thead th {\n",
       "        text-align: right;\n",
       "    }\n",
       "</style>\n",
       "<table border=\"1\" class=\"dataframe\">\n",
       "  <thead>\n",
       "    <tr style=\"text-align: right;\">\n",
       "      <th></th>\n",
       "      <th>y_prob</th>\n",
       "      <th>y_pred</th>\n",
       "      <th>y_pred_OT</th>\n",
       "    </tr>\n",
       "  </thead>\n",
       "  <tbody>\n",
       "    <tr>\n",
       "      <th>28168</th>\n",
       "      <td>0.00</td>\n",
       "      <td>0</td>\n",
       "      <td>0</td>\n",
       "    </tr>\n",
       "    <tr>\n",
       "      <th>3277</th>\n",
       "      <td>0.03</td>\n",
       "      <td>0</td>\n",
       "      <td>0</td>\n",
       "    </tr>\n",
       "    <tr>\n",
       "      <th>12950</th>\n",
       "      <td>0.21</td>\n",
       "      <td>0</td>\n",
       "      <td>1</td>\n",
       "    </tr>\n",
       "    <tr>\n",
       "      <th>8363</th>\n",
       "      <td>0.05</td>\n",
       "      <td>0</td>\n",
       "      <td>1</td>\n",
       "    </tr>\n",
       "    <tr>\n",
       "      <th>16286</th>\n",
       "      <td>0.07</td>\n",
       "      <td>0</td>\n",
       "      <td>1</td>\n",
       "    </tr>\n",
       "    <tr>\n",
       "      <th>...</th>\n",
       "      <td>...</td>\n",
       "      <td>...</td>\n",
       "      <td>...</td>\n",
       "    </tr>\n",
       "    <tr>\n",
       "      <th>20398</th>\n",
       "      <td>0.00</td>\n",
       "      <td>0</td>\n",
       "      <td>0</td>\n",
       "    </tr>\n",
       "    <tr>\n",
       "      <th>36257</th>\n",
       "      <td>0.00</td>\n",
       "      <td>0</td>\n",
       "      <td>0</td>\n",
       "    </tr>\n",
       "    <tr>\n",
       "      <th>7924</th>\n",
       "      <td>0.07</td>\n",
       "      <td>0</td>\n",
       "      <td>1</td>\n",
       "    </tr>\n",
       "    <tr>\n",
       "      <th>11342</th>\n",
       "      <td>0.04</td>\n",
       "      <td>0</td>\n",
       "      <td>1</td>\n",
       "    </tr>\n",
       "    <tr>\n",
       "      <th>31733</th>\n",
       "      <td>0.00</td>\n",
       "      <td>0</td>\n",
       "      <td>0</td>\n",
       "    </tr>\n",
       "  </tbody>\n",
       "</table>\n",
       "<p>12731 rows × 3 columns</p>\n",
       "</div>"
      ],
      "text/plain": [
       "       y_prob  y_pred  y_pred_OT\n",
       "28168    0.00       0          0\n",
       "3277     0.03       0          0\n",
       "12950    0.21       0          1\n",
       "8363     0.05       0          1\n",
       "16286    0.07       0          1\n",
       "...       ...     ...        ...\n",
       "20398    0.00       0          0\n",
       "36257    0.00       0          0\n",
       "7924     0.07       0          1\n",
       "11342    0.04       0          1\n",
       "31733    0.00       0          0\n",
       "\n",
       "[12731 rows x 3 columns]"
      ]
     },
     "execution_count": 30,
     "metadata": {},
     "output_type": "execute_result"
    }
   ],
   "source": [
    "y_prob_rf = rf_model.predict_proba(X_test_full)[:, 1]\n",
    "y_pred_rf = rf_model.predict(X_test_full)\n",
    "y_pred_optimal_rf = (y_prob_rf >= optimal_threshold_rf).astype(int)\n",
    "\n",
    "\n",
    "result_df = pd.DataFrame({'y_prob': y_prob_rf, 'y_pred': y_pred_rf, 'y_pred_OT':y_pred_optimal_rf }, index=X_test_full.index)\n",
    "result_df"
   ]
  },
  {
   "cell_type": "code",
   "execution_count": 32,
   "id": "40d6510b",
   "metadata": {},
   "outputs": [
    {
     "name": "stdout",
     "output_type": "stream",
     "text": [
      "RF model:\n",
      "KS: 0.3049 (p-value: 9.874e-44)\n",
      "ROC AUC: 0.6922\n"
     ]
    }
   ],
   "source": [
    "from scipy.stats import ks_2samp\n",
    "from sklearn.metrics import roc_auc_score\n",
    "\n",
    "def evaluate_ks_and_roc_auc(y_real_rf, y_proba_rf):\n",
    "    df = pd.DataFrame()\n",
    "    df['real'] = y_real_rf\n",
    "    df['proba'] = y_proba_rf\n",
    "    class0 = df[df['real'] == 0]\n",
    "    class1 = df[df['real'] == 1]\n",
    "    ks = ks_2samp(class0['proba'], class1['proba'])\n",
    "    roc_auc = roc_auc_score(df['real'], df['proba'])\n",
    "    print(f\"KS: {ks.statistic:.4f} (p-value: {ks.pvalue:.3e})\")\n",
    "    print(f\"ROC AUC: {roc_auc:.4f}\")\n",
    "    return ks.statistic, roc_auc\n",
    "\n",
    "print(\"RF model:\")\n",
    "ks_rf, auc_rf = evaluate_ks_and_roc_auc(y_test, y_prob_rf)"
   ]
  },
  {
   "cell_type": "code",
   "execution_count": 33,
   "id": "0078a44d",
   "metadata": {},
   "outputs": [
    {
     "data": {
      "text/html": [
       "<div>\n",
       "<style scoped>\n",
       "    .dataframe tbody tr th:only-of-type {\n",
       "        vertical-align: middle;\n",
       "    }\n",
       "\n",
       "    .dataframe tbody tr th {\n",
       "        vertical-align: top;\n",
       "    }\n",
       "\n",
       "    .dataframe thead th {\n",
       "        text-align: right;\n",
       "    }\n",
       "</style>\n",
       "<table border=\"1\" class=\"dataframe\">\n",
       "  <thead>\n",
       "    <tr style=\"text-align: right;\">\n",
       "      <th></th>\n",
       "      <th>Modelo</th>\n",
       "      <th>KS</th>\n",
       "      <th>ROC AUC</th>\n",
       "    </tr>\n",
       "  </thead>\n",
       "  <tbody>\n",
       "    <tr>\n",
       "      <th>0</th>\n",
       "      <td>Logistico</td>\n",
       "      <td>0.231</td>\n",
       "      <td>0.609</td>\n",
       "    </tr>\n",
       "    <tr>\n",
       "      <th>1</th>\n",
       "      <td>Random Forest</td>\n",
       "      <td>0.305</td>\n",
       "      <td>0.692</td>\n",
       "    </tr>\n",
       "  </tbody>\n",
       "</table>\n",
       "</div>"
      ],
      "text/plain": [
       "          Modelo     KS  ROC AUC\n",
       "0      Logistico  0.231    0.609\n",
       "1  Random Forest  0.305    0.692"
      ]
     },
     "execution_count": 33,
     "metadata": {},
     "output_type": "execute_result"
    }
   ],
   "source": [
    "results_df_rf = pd.DataFrame({\n",
    "    'Modelo': ['Random Forest'],\n",
    "    'KS': [ks_rf],\n",
    "    'ROC AUC': [auc_rf]\n",
    "})\n",
    "\n",
    "\n",
    "results_resumen = pd.concat([results_df_log, results_df_rf], ignore_index=True)\n",
    "results_resumen = results_resumen.round(3)\n",
    "results_resumen"
   ]
  },
  {
   "cell_type": "code",
   "execution_count": 34,
   "id": "0d648dbf",
   "metadata": {},
   "outputs": [
    {
     "data": {
      "image/png": "[encoded data removed]",
      "text/plain": [
       "<Figure size 576x432 with 1 Axes>"
      ]
     },
     "metadata": {
      "needs_background": "light"
     },
     "output_type": "display_data"
    }
   ],
   "source": [
    "import matplotlib.pyplot as plt\n",
    "from sklearn.metrics import roc_curve, roc_auc_score\n",
    "\n",
    "# Curva ROC - Modelo Logístico \n",
    "plt.figure(figsize=(8, 6))\n",
    "plt.plot(fpr_log, tpr_log, color='red', lw=2, label='Modelo Logístico (AUC = %0.2f)' % auc_log)\n",
    "\n",
    "# Curva ROC - Random Forest\n",
    "plt.plot(fpr_rf, tpr_rf, color='blue', lw=2, label='Random Forest (AUC = %0.2f)' % auc_rf)\n",
    "\n",
    "plt.plot([0, 1], [0, 1], color='gray', linestyle='--')\n",
    "\n",
    "plt.xlim([0.0, 1.0])\n",
    "plt.ylim([0.0, 1.05])\n",
    "plt.xlabel('False Positive Rate')\n",
    "plt.ylabel('True Positive Rate')\n",
    "plt.title('ROC Curve - Comparación de Modelos')\n",
    "plt.legend(loc='lower right')\n",
    "plt.show()\n"
   ]
  },
  {
   "cell_type": "markdown",
   "id": "2e75bd9b",
   "metadata": {},
   "source": [
    "# XG BOOST"
   ]
  },
  {
   "cell_type": "code",
   "execution_count": 35,
   "id": "01befb57",
   "metadata": {},
   "outputs": [],
   "source": [
    "#pip install xgboost"
   ]
  },
  {
   "cell_type": "code",
   "execution_count": 36,
   "id": "dd94edf8",
   "metadata": {},
   "outputs": [
    {
     "name": "stdout",
     "output_type": "stream",
     "text": [
      "Accuracy: 0.9563270756421334\n"
     ]
    }
   ],
   "source": [
    "import xgboost as xgb\n",
    "from sklearn.metrics import classification_report\n",
    "\n",
    "xgb_model = xgb.XGBClassifier()\n",
    "\n",
    "xgb_model.fit(X_train_full, y_train)\n",
    "\n",
    "y_pred_xgb = xgb_model.predict(X_test_full)\n",
    "\n",
    "accuracy = accuracy_score(y_test, y_pred_xgb)"
   ]
  },
  {
   "cell_type": "code",
   "execution_count": 37,
   "id": "ae0c788b",
   "metadata": {},
   "outputs": [
    {
     "data": {
      "image/png": "[encoded data removed]",
      "text/plain": [
       "<Figure size 576x432 with 1 Axes>"
      ]
     },
     "metadata": {
      "needs_background": "light"
     },
     "output_type": "display_data"
    }
   ],
   "source": [
    "from sklearn.metrics import roc_curve, roc_auc_score\n",
    "import matplotlib.pyplot as plt\n",
    "\n",
    "y_prob_xgb = xgb_model.predict_proba(X_test_full)[:, 1]\n",
    "\n",
    "fpr_xgb, tpr_xgb, thresholds_xgb = roc_curve(y_test, y_prob_xgb)\n",
    "\n",
    "auc_xgb = roc_auc_score(y_test, y_prob_xgb)\n",
    "\n",
    "plt.figure(figsize=(8, 6))\n",
    "plt.plot(fpr_xgb, tpr_xgb, color='blue', lw=2, label='ROC curve (AUC = %0.2f)' % auc_xgb)\n",
    "plt.plot([0, 1], [0, 1], color='gray', linestyle='--')\n",
    "plt.xlim([0.0, 1.0])\n",
    "plt.ylim([0.0, 1.05])\n",
    "plt.xlabel('False Positive Rate')\n",
    "plt.ylabel('True Positive Rate')\n",
    "plt.title('ROC Curve - XG Boost')\n",
    "plt.legend(loc='lower right')\n",
    "plt.show()"
   ]
  },
  {
   "cell_type": "code",
   "execution_count": 38,
   "id": "08eb282f",
   "metadata": {
    "scrolled": false
   },
   "outputs": [
    {
     "data": {
      "image/png": "[encoded data removed]",
      "text/plain": [
       "<Figure size 576x432 with 1 Axes>"
      ]
     },
     "metadata": {
      "needs_background": "light"
     },
     "output_type": "display_data"
    },
    {
     "name": "stdout",
     "output_type": "stream",
     "text": [
      "Optimal Threshold: 0.020329366\n"
     ]
    }
   ],
   "source": [
    "from sklearn.metrics import roc_curve, roc_auc_score\n",
    "import matplotlib.pyplot as plt\n",
    "\n",
    "y_prob_xgb = xgb_model.predict_proba(X_test_full)[:, 1]\n",
    "\n",
    "fpr_xgb, tpr_xgb, thresholds_xgb = roc_curve(y_test, y_prob_xgb)\n",
    "\n",
    "auc_xgb = roc_auc_score(y_test, y_prob_xgb)\n",
    "\n",
    "Youden_index_xgb = tpr_xgb - fpr_xgb\n",
    "optimal_threshold_index_xgb = np.argmax(Youden_index_xgb)\n",
    "optimal_threshold_xgb = thresholds_xgb[optimal_threshold_index_xgb]\n",
    "\n",
    "plt.figure(figsize=(8, 6))\n",
    "plt.plot(fpr_xgb, tpr_xgb, color='blue', lw=2, label='ROC curve (area = %0.2f)' % auc_xgb)\n",
    "plt.scatter(fpr_xgb[optimal_threshold_index_xgb], tpr_xgb[optimal_threshold_index_xgb], color='red', s=100, label='Optimal Threshold')\n",
    "plt.plot([0, 1], [0, 1], color='gray', linestyle='--')\n",
    "plt.xlim([0.0, 1.0])\n",
    "plt.ylim([0.0, 1.05])\n",
    "plt.xlabel('False Positive Rate')\n",
    "plt.ylabel('True Positive Rate')\n",
    "plt.title('ROC Curve - XG Boost - Optimal Threshold')\n",
    "plt.legend(loc='lower right')\n",
    "plt.show()\n",
    "\n",
    "print(\"Optimal Threshold:\", optimal_threshold_xgb)"
   ]
  },
  {
   "cell_type": "code",
   "execution_count": 39,
   "id": "1e21813f",
   "metadata": {},
   "outputs": [
    {
     "name": "stdout",
     "output_type": "stream",
     "text": [
      "Matriz de Confusión:\n",
      "[[7107 5076]\n",
      " [ 115  433]]\n"
     ]
    }
   ],
   "source": [
    "from sklearn.metrics import confusion_matrix\n",
    "\n",
    "y_prob_xgb = xgb_model.predict_proba(X_test_full)[:, 1]\n",
    "\n",
    "y_pred_optimal_xgb = (y_prob_xgb >= optimal_threshold_xgb).astype(int)\n",
    "\n",
    "conf_matrix_xgb = confusion_matrix(y_test, y_pred_optimal_xgb)\n",
    "\n",
    "print(\"Matriz de Confusión:\")\n",
    "print(conf_matrix_xgb)"
   ]
  },
  {
   "cell_type": "code",
   "execution_count": 40,
   "id": "b4e6ffcd",
   "metadata": {},
   "outputs": [
    {
     "data": {
      "text/html": [
       "<div>\n",
       "<style scoped>\n",
       "    .dataframe tbody tr th:only-of-type {\n",
       "        vertical-align: middle;\n",
       "    }\n",
       "\n",
       "    .dataframe tbody tr th {\n",
       "        vertical-align: top;\n",
       "    }\n",
       "\n",
       "    .dataframe thead th {\n",
       "        text-align: right;\n",
       "    }\n",
       "</style>\n",
       "<table border=\"1\" class=\"dataframe\">\n",
       "  <thead>\n",
       "    <tr style=\"text-align: right;\">\n",
       "      <th></th>\n",
       "      <th>y_prob</th>\n",
       "      <th>y_pred</th>\n",
       "      <th>y_pred_OT</th>\n",
       "    </tr>\n",
       "  </thead>\n",
       "  <tbody>\n",
       "    <tr>\n",
       "      <th>28168</th>\n",
       "      <td>0.006453</td>\n",
       "      <td>0</td>\n",
       "      <td>0</td>\n",
       "    </tr>\n",
       "    <tr>\n",
       "      <th>3277</th>\n",
       "      <td>0.027566</td>\n",
       "      <td>0</td>\n",
       "      <td>1</td>\n",
       "    </tr>\n",
       "    <tr>\n",
       "      <th>12950</th>\n",
       "      <td>0.119794</td>\n",
       "      <td>0</td>\n",
       "      <td>1</td>\n",
       "    </tr>\n",
       "    <tr>\n",
       "      <th>8363</th>\n",
       "      <td>0.033708</td>\n",
       "      <td>0</td>\n",
       "      <td>1</td>\n",
       "    </tr>\n",
       "    <tr>\n",
       "      <th>16286</th>\n",
       "      <td>0.195774</td>\n",
       "      <td>0</td>\n",
       "      <td>1</td>\n",
       "    </tr>\n",
       "    <tr>\n",
       "      <th>...</th>\n",
       "      <td>...</td>\n",
       "      <td>...</td>\n",
       "      <td>...</td>\n",
       "    </tr>\n",
       "    <tr>\n",
       "      <th>20398</th>\n",
       "      <td>0.000211</td>\n",
       "      <td>0</td>\n",
       "      <td>0</td>\n",
       "    </tr>\n",
       "    <tr>\n",
       "      <th>36257</th>\n",
       "      <td>0.000432</td>\n",
       "      <td>0</td>\n",
       "      <td>0</td>\n",
       "    </tr>\n",
       "    <tr>\n",
       "      <th>7924</th>\n",
       "      <td>0.019865</td>\n",
       "      <td>0</td>\n",
       "      <td>0</td>\n",
       "    </tr>\n",
       "    <tr>\n",
       "      <th>11342</th>\n",
       "      <td>0.025281</td>\n",
       "      <td>0</td>\n",
       "      <td>1</td>\n",
       "    </tr>\n",
       "    <tr>\n",
       "      <th>31733</th>\n",
       "      <td>0.006250</td>\n",
       "      <td>0</td>\n",
       "      <td>0</td>\n",
       "    </tr>\n",
       "  </tbody>\n",
       "</table>\n",
       "<p>12731 rows × 3 columns</p>\n",
       "</div>"
      ],
      "text/plain": [
       "         y_prob  y_pred  y_pred_OT\n",
       "28168  0.006453       0          0\n",
       "3277   0.027566       0          1\n",
       "12950  0.119794       0          1\n",
       "8363   0.033708       0          1\n",
       "16286  0.195774       0          1\n",
       "...         ...     ...        ...\n",
       "20398  0.000211       0          0\n",
       "36257  0.000432       0          0\n",
       "7924   0.019865       0          0\n",
       "11342  0.025281       0          1\n",
       "31733  0.006250       0          0\n",
       "\n",
       "[12731 rows x 3 columns]"
      ]
     },
     "execution_count": 40,
     "metadata": {},
     "output_type": "execute_result"
    }
   ],
   "source": [
    "y_prob_xgb = xgb_model.predict_proba(X_test_full)[:, 1]\n",
    "y_pred_xgb = xgb_model.predict(X_test_full)\n",
    "y_pred_optimal_xgb = (y_prob_xgb >= optimal_threshold_xgb).astype(int)\n",
    "\n",
    "\n",
    "result_df = pd.DataFrame({'y_prob': y_prob_xgb, 'y_pred': y_pred_xgb, 'y_pred_OT':y_pred_optimal_xgb }, index=X_test_full.index)\n",
    "result_df"
   ]
  },
  {
   "cell_type": "code",
   "execution_count": 42,
   "id": "132ff3bb",
   "metadata": {},
   "outputs": [
    {
     "name": "stdout",
     "output_type": "stream",
     "text": [
      "xgb model:\n",
      "KS: 0.3735 (p-value: 3.921e-66)\n",
      "ROC AUC: 0.7314\n"
     ]
    }
   ],
   "source": [
    "from scipy.stats import ks_2samp\n",
    "from sklearn.metrics import roc_auc_score\n",
    "\n",
    "def evaluate_ks_and_roc_auc(y_real_xgb, y_proba_xgb):\n",
    "    df = pd.DataFrame()\n",
    "    df['real'] = y_real_xgb\n",
    "    df['proba'] = y_proba_xgb\n",
    "    class0 = df[df['real'] == 0]\n",
    "    class1 = df[df['real'] == 1]\n",
    "    ks = ks_2samp(class0['proba'], class1['proba'])\n",
    "    roc_auc = roc_auc_score(df['real'], df['proba'])\n",
    "    print(f\"KS: {ks.statistic:.4f} (p-value: {ks.pvalue:.3e})\")\n",
    "    print(f\"ROC AUC: {roc_auc:.4f}\")\n",
    "    return ks.statistic, roc_auc\n",
    "\n",
    "print(\"xgb model:\")\n",
    "ks_xgb, auc_xgb = evaluate_ks_and_roc_auc(y_test, y_prob_xgb)"
   ]
  },
  {
   "cell_type": "code",
   "execution_count": 43,
   "id": "57d4ae31",
   "metadata": {},
   "outputs": [
    {
     "data": {
      "text/html": [
       "<div>\n",
       "<style scoped>\n",
       "    .dataframe tbody tr th:only-of-type {\n",
       "        vertical-align: middle;\n",
       "    }\n",
       "\n",
       "    .dataframe tbody tr th {\n",
       "        vertical-align: top;\n",
       "    }\n",
       "\n",
       "    .dataframe thead th {\n",
       "        text-align: right;\n",
       "    }\n",
       "</style>\n",
       "<table border=\"1\" class=\"dataframe\">\n",
       "  <thead>\n",
       "    <tr style=\"text-align: right;\">\n",
       "      <th></th>\n",
       "      <th>Modelo</th>\n",
       "      <th>KS</th>\n",
       "      <th>ROC AUC</th>\n",
       "    </tr>\n",
       "  </thead>\n",
       "  <tbody>\n",
       "    <tr>\n",
       "      <th>0</th>\n",
       "      <td>Logistico</td>\n",
       "      <td>0.231</td>\n",
       "      <td>0.609</td>\n",
       "    </tr>\n",
       "    <tr>\n",
       "      <th>1</th>\n",
       "      <td>Random Forest</td>\n",
       "      <td>0.305</td>\n",
       "      <td>0.692</td>\n",
       "    </tr>\n",
       "    <tr>\n",
       "      <th>2</th>\n",
       "      <td>XGBoost</td>\n",
       "      <td>0.373</td>\n",
       "      <td>0.731</td>\n",
       "    </tr>\n",
       "  </tbody>\n",
       "</table>\n",
       "</div>"
      ],
      "text/plain": [
       "          Modelo     KS  ROC AUC\n",
       "0      Logistico  0.231    0.609\n",
       "1  Random Forest  0.305    0.692\n",
       "2        XGBoost  0.373    0.731"
      ]
     },
     "execution_count": 43,
     "metadata": {},
     "output_type": "execute_result"
    }
   ],
   "source": [
    "results_df_xgb = pd.DataFrame({\n",
    "    'Modelo': ['XGBoost'],\n",
    "    'KS': [ks_xgb],\n",
    "    'ROC AUC': [auc_xgb]\n",
    "})\n",
    "\n",
    "results_resumen = pd.concat([results_df_log, results_df_rf,results_df_xgb ], ignore_index=True)\n",
    "results_resumen = results_resumen.round(3)\n",
    "results_resumen"
   ]
  },
  {
   "cell_type": "code",
   "execution_count": 44,
   "id": "bc4d2616",
   "metadata": {},
   "outputs": [
    {
     "data": {
      "image/png": "[encoded data removed]",
      "text/plain": [
       "<Figure size 576x432 with 1 Axes>"
      ]
     },
     "metadata": {
      "needs_background": "light"
     },
     "output_type": "display_data"
    }
   ],
   "source": [
    "import matplotlib.pyplot as plt\n",
    "from sklearn.metrics import roc_curve, roc_auc_score\n",
    "\n",
    "# Curva ROC - Modelo Logístico\n",
    "plt.figure(figsize=(8, 6))\n",
    "plt.plot(fpr_log, tpr_log, color='red', lw=2, label='Modelo Logístico (AUC = %0.2f)' % auc_log)\n",
    "\n",
    "# Curva ROC - Random Forest\n",
    "plt.plot(fpr_rf, tpr_rf, color='blue', lw=2, label='Random Forest (AUC = %0.2f)' % auc_rf)\n",
    "\n",
    "#Curva ROC - XGBoost\n",
    "plt.plot(fpr_xgb, tpr_xgb, color='yellow', lw=2, label='XGBoost (AUC = %0.2f)' % auc_xgb)\n",
    "\n",
    "plt.plot([0, 1], [0, 1], color='gray', linestyle='--')\n",
    "\n",
    "plt.xlim([0.0, 1.0])\n",
    "plt.ylim([0.0, 1.05])\n",
    "plt.xlabel('False Positive Rate')\n",
    "plt.ylabel('True Positive Rate')\n",
    "plt.title('ROC Curve - Comparación de Modelos')\n",
    "plt.legend(loc='lower right')\n",
    "plt.show()"
   ]
  },
  {
   "cell_type": "markdown",
   "id": "f962979d",
   "metadata": {},
   "source": [
    "# LOGISTICA con STEPWISE "
   ]
  },
  {
   "cell_type": "code",
   "execution_count": 45,
   "id": "c2d299a7",
   "metadata": {},
   "outputs": [],
   "source": [
    "X_train_full = X_train_full.drop(columns='const')\n",
    "X_test_full = X_test_full.drop(columns='const')"
   ]
  },
  {
   "cell_type": "code",
   "execution_count": 47,
   "id": "ece5fafd",
   "metadata": {
    "scrolled": true
   },
   "outputs": [],
   "source": [
    "#pip install mlxtend"
   ]
  },
  {
   "cell_type": "code",
   "execution_count": 46,
   "id": "ae867ab5",
   "metadata": {},
   "outputs": [],
   "source": [
    "import warnings\n",
    "warnings.filterwarnings(\"ignore\", category=FutureWarning)"
   ]
  },
  {
   "cell_type": "code",
   "execution_count": 47,
   "id": "fab1a9f2",
   "metadata": {
    "scrolled": true
   },
   "outputs": [
    {
     "name": "stderr",
     "output_type": "stream",
     "text": [
      "[Parallel(n_jobs=1)]: Done  40 tasks      | elapsed:    9.3s\n",
      "\n",
      "[2024-11-10 19:05:21] Features: 1/66 -- score: 0.6644199803480799[Parallel(n_jobs=1)]: Done  40 tasks      | elapsed:   12.2s\n",
      "\n",
      "[2024-11-10 19:05:40] Features: 2/66 -- score: 0.6795904892923421[Parallel(n_jobs=1)]: Done  40 tasks      | elapsed:   17.0s\n",
      "\n",
      "[2024-11-10 19:06:07] Features: 3/66 -- score: 0.6909918970715416[Parallel(n_jobs=1)]: Done  40 tasks      | elapsed:   17.0s\n",
      "\n",
      "[2024-11-10 19:06:34] Features: 4/66 -- score: 0.7035054036997923[Parallel(n_jobs=1)]: Done  40 tasks      | elapsed:   18.5s\n",
      "\n",
      "[2024-11-10 19:07:02] Features: 5/66 -- score: 0.7063114417053754[Parallel(n_jobs=1)]: Done  40 tasks      | elapsed:   17.8s\n",
      "\n",
      "[2024-11-10 19:07:30] Features: 6/66 -- score: 0.7081948514444621[Parallel(n_jobs=1)]: Done  40 tasks      | elapsed:   19.5s\n",
      "\n",
      "[2024-11-10 19:08:00] Features: 7/66 -- score: 0.7096919007679248[Parallel(n_jobs=1)]: Done  40 tasks      | elapsed:   20.5s\n",
      "\n",
      "[2024-11-10 19:08:29] Features: 8/66 -- score: 0.7107563376337936[Parallel(n_jobs=1)]: Done  40 tasks      | elapsed:   20.0s\n",
      "\n",
      "[2024-11-10 19:08:58] Features: 9/66 -- score: 0.7119832905801634[Parallel(n_jobs=1)]: Done  40 tasks      | elapsed:   20.8s\n",
      "\n",
      "[2024-11-10 19:09:28] Features: 10/66 -- score: 0.7128974429662898[Parallel(n_jobs=1)]: Done  40 tasks      | elapsed:   21.0s\n",
      "\n",
      "[2024-11-10 19:09:58] Features: 11/66 -- score: 0.7138342173470987[Parallel(n_jobs=1)]: Done  40 tasks      | elapsed:   22.5s\n",
      "\n",
      "[2024-11-10 19:10:29] Features: 12/66 -- score: 0.7147666550102482[Parallel(n_jobs=1)]: Done  40 tasks      | elapsed:   24.6s\n",
      "\n",
      "[2024-11-10 19:11:02] Features: 13/66 -- score: 0.715512145366372[Parallel(n_jobs=1)]: Done  40 tasks      | elapsed:   27.5s\n",
      "\n",
      "[2024-11-10 19:11:39] Features: 14/66 -- score: 0.7161152262850382[Parallel(n_jobs=1)]: Done  40 tasks      | elapsed:   28.7s\n",
      "\n",
      "[2024-11-10 19:12:17] Features: 15/66 -- score: 0.7166573333051206[Parallel(n_jobs=1)]: Done  40 tasks      | elapsed:   31.4s\n",
      "\n",
      "[2024-11-10 19:12:57] Features: 16/66 -- score: 0.7172758391927292[Parallel(n_jobs=1)]: Done  40 tasks      | elapsed:   33.0s\n",
      "\n",
      "[2024-11-10 19:13:38] Features: 17/66 -- score: 0.7178731596774267[Parallel(n_jobs=1)]: Done  40 tasks      | elapsed:   33.3s\n",
      "\n",
      "[2024-11-10 19:14:19] Features: 18/66 -- score: 0.7183941288955753[Parallel(n_jobs=1)]: Done  40 tasks      | elapsed:   34.3s\n",
      "\n",
      "[2024-11-10 19:15:00] Features: 19/66 -- score: 0.7190189459024132[Parallel(n_jobs=1)]: Done  40 tasks      | elapsed:   47.8s\n",
      "\n",
      "[2024-11-10 19:15:57] Features: 20/66 -- score: 0.7191816039819605[Parallel(n_jobs=1)]: Done  40 tasks      | elapsed:   49.8s\n",
      "\n",
      "[2024-11-10 19:16:54] Features: 21/66 -- score: 0.7193851297805886[Parallel(n_jobs=1)]: Done  40 tasks      | elapsed:   47.5s\n",
      "\n",
      "[2024-11-10 19:17:46] Features: 22/66 -- score: 0.7194049957250187[Parallel(n_jobs=1)]: Done  40 tasks      | elapsed:   51.8s\n",
      "\n",
      "[2024-11-10 19:18:43] Features: 23/66 -- score: 0.7194031239477487[Parallel(n_jobs=1)]: Done  40 tasks      | elapsed:   50.4s\n",
      "\n",
      "[2024-11-10 19:19:37] Features: 24/66 -- score: 0.7193984640125376[Parallel(n_jobs=1)]: Done  40 tasks      | elapsed:   55.6s\n",
      "\n",
      "[2024-11-10 19:20:36] Features: 25/66 -- score: 0.7193592759832518[Parallel(n_jobs=1)]: Done  40 tasks      | elapsed:   57.6s\n",
      "\n",
      "[2024-11-10 19:21:36] Features: 26/66 -- score: 0.7192730602173412[Parallel(n_jobs=1)]: Done  40 tasks      | elapsed:   59.1s\n",
      "[Parallel(n_jobs=1)]: Done  40 tasks      | elapsed:   59.1s\n",
      "\n",
      "[2024-11-10 19:22:35] Features: 27/66 -- score: 0.7191580235018177\n",
      "[2024-11-10 19:23:30] Features: 28/66 -- score: 0.7190576439086749\n",
      "[2024-11-10 19:24:40] Features: 29/66 -- score: 0.7190895255610436\n",
      "[2024-11-10 19:25:47] Features: 30/66 -- score: 0.719082988492777\n",
      "[2024-11-10 19:26:47] Features: 31/66 -- score: 0.7190307050461187\n",
      "[2024-11-10 19:27:54] Features: 32/66 -- score: 0.7191641801380823\n",
      "[2024-11-10 19:29:08] Features: 33/66 -- score: 0.720003571578655\n",
      "[2024-11-10 19:30:22] Features: 34/66 -- score: 0.7199997957325308\n",
      "[2024-11-10 19:31:46] Features: 35/66 -- score: 0.7199919353063866\n",
      "[2024-11-10 19:33:00] Features: 36/66 -- score: 0.7199853471422747\n",
      "[2024-11-10 19:34:18] Features: 37/66 -- score: 0.7199091644264161\n",
      "[2024-11-10 19:35:48] Features: 38/66 -- score: 0.7198186035978532\n",
      "[2024-11-10 19:37:09] Features: 39/66 -- score: 0.7197071892658901\n",
      "[2024-11-10 19:38:19] Features: 40/66 -- score: 0.719584433875505\n",
      "[2024-11-10 19:39:36] Features: 41/66 -- score: 0.719403997687567\n",
      "[2024-11-10 19:40:55] Features: 42/66 -- score: 0.7192215744628644\n",
      "[2024-11-10 19:42:16] Features: 43/66 -- score: 0.7191897406348504\n",
      "[2024-11-10 19:43:31] Features: 44/66 -- score: 0.7190689517332299\n",
      "[2024-11-10 19:44:47] Features: 45/66 -- score: 0.7189301053978998\n",
      "[2024-11-10 19:45:55] Features: 46/66 -- score: 0.7187485246996823\n",
      "[2024-11-10 19:46:59] Features: 47/66 -- score: 0.7185050382510898\n",
      "[2024-11-10 19:48:00] Features: 48/66 -- score: 0.7181675157745058\n",
      "[2024-11-10 19:49:07] Features: 49/66 -- score: 0.7179664220734174\n",
      "[2024-11-10 19:50:13] Features: 50/66 -- score: 0.7176355453784469\n",
      "[2024-11-10 19:51:21] Features: 51/66 -- score: 0.717282972754934\n",
      "[2024-11-10 19:52:20] Features: 52/66 -- score: 0.7169312628106672\n",
      "[2024-11-10 19:53:15] Features: 53/66 -- score: 0.7166652610591498\n",
      "[2024-11-10 19:54:05] Features: 54/66 -- score: 0.7162828516150964\n",
      "[2024-11-10 19:54:53] Features: 55/66 -- score: 0.715879173138112\n",
      "[2024-11-10 19:55:38] Features: 56/66 -- score: 0.7153702832056602\n",
      "[2024-11-10 19:56:20] Features: 57/66 -- score: 0.7146712637354232\n",
      "[2024-11-10 19:57:00] Features: 58/66 -- score: 0.7146401427367712\n",
      "[2024-11-10 19:57:36] Features: 59/66 -- score: 0.7139256628823094\n",
      "[2024-11-10 19:58:07] Features: 60/66 -- score: 0.7132054663345189\n",
      "[2024-11-10 19:58:33] Features: 61/66 -- score: 0.7131903469105347\n",
      "[2024-11-10 19:58:52] Features: 62/66 -- score: 0.7123987921383803\n",
      "[2024-11-10 19:59:07] Features: 63/66 -- score: 0.7123832264634696\n",
      "[2024-11-10 19:59:18] Features: 64/66 -- score: 0.7114248826536476\n",
      "[2024-11-10 19:59:25] Features: 65/66 -- score: 0.7105835201155097\n",
      "[2024-11-10 19:59:29] Features: 66/66 -- score: 0.7105743506510935"
     ]
    },
    {
     "name": "stdout",
     "output_type": "stream",
     "text": [
      "Características seleccionadas: ['0', '1', '2', '3', '4', '5', '6', '8', '9', '10', '12', '15', '16', '17', '18', '19', '20', '27', '31', '34', '38', '39', '43', '44', '45', '46', '48', '56', '57', '58', '59', '62', '64']\n",
      "Coeficientes del modelo final: [[ 0.21344725 -0.06381397 -0.34652502  0.17451236 -0.67341178  0.74605657\n",
      "   0.76163571 -0.35406658  0.30707558 -0.12317613 -0.8947597   0.07853858\n",
      "   0.01749181 -0.00092565 -0.04552389  0.04087024 -0.04087024 -0.09453509\n",
      "  -0.01597293  0.02995189 -0.08421641 -0.1580988  -0.03238954 -0.04404704\n",
      "  -0.07734688 -0.12233348  0.06801158  0.05975664  0.15420764 -0.06732984\n",
      "   0.06732984  0.32104695 -0.17712272]]\n"
     ]
    }
   ],
   "source": [
    "import pandas as pd\n",
    "import numpy as np\n",
    "from sklearn.linear_model import LogisticRegression\n",
    "from mlxtend.feature_selection import SequentialFeatureSelector as SFS\n",
    "from sklearn.model_selection import train_test_split\n",
    "from sklearn.preprocessing import StandardScaler\n",
    "\n",
    "scaler = StandardScaler()\n",
    "X_train_scaled = scaler.fit_transform(X_train_full)\n",
    "X_test_scaled = scaler.transform(X_test_full)\n",
    "\n",
    "logit_model_SW = LogisticRegression(max_iter=1000)\n",
    "\n",
    "sfs = SFS(logit_model_SW, \n",
    "          k_features='best', \n",
    "          forward=True, \n",
    "          floating=False, \n",
    "          verbose=2,\n",
    "          scoring='roc_auc',\n",
    "          cv=5)\n",
    "\n",
    "sfs = sfs.fit(X_train_scaled, y_train)\n",
    "\n",
    "selected_features = list(sfs.k_feature_names_)\n",
    "print(\"Características seleccionadas:\", selected_features)\n",
    "\n",
    "logit_model_SFS = LogisticRegression(max_iter=1000).fit(X_train_scaled[:, sfs.k_feature_idx_], y_train)\n",
    "print(\"Coeficientes del modelo final:\", logit_model_SFS.coef_)\n",
    "\n",
    "y_pred_logitSFS = logit_model_SFS.predict(X_test_scaled[:, sfs.k_feature_idx_])"
   ]
  },
  {
   "cell_type": "code",
   "execution_count": 48,
   "id": "faef5661",
   "metadata": {
    "scrolled": true
   },
   "outputs": [
    {
     "data": {
      "text/html": [
       "<div>\n",
       "<style scoped>\n",
       "    .dataframe tbody tr th:only-of-type {\n",
       "        vertical-align: middle;\n",
       "    }\n",
       "\n",
       "    .dataframe tbody tr th {\n",
       "        vertical-align: top;\n",
       "    }\n",
       "\n",
       "    .dataframe thead th {\n",
       "        text-align: right;\n",
       "    }\n",
       "</style>\n",
       "<table border=\"1\" class=\"dataframe\">\n",
       "  <thead>\n",
       "    <tr style=\"text-align: right;\">\n",
       "      <th></th>\n",
       "      <th>Variable</th>\n",
       "      <th>Coeficiente</th>\n",
       "    </tr>\n",
       "  </thead>\n",
       "  <tbody>\n",
       "    <tr>\n",
       "      <th>0</th>\n",
       "      <td>edad_solicitud</td>\n",
       "      <td>0.213447</td>\n",
       "    </tr>\n",
       "    <tr>\n",
       "      <th>1</th>\n",
       "      <td>LimiteCredito</td>\n",
       "      <td>-0.063814</td>\n",
       "    </tr>\n",
       "    <tr>\n",
       "      <th>2</th>\n",
       "      <td>recencia</td>\n",
       "      <td>-0.346525</td>\n",
       "    </tr>\n",
       "    <tr>\n",
       "      <th>3</th>\n",
       "      <td>frecuencia</td>\n",
       "      <td>0.174512</td>\n",
       "    </tr>\n",
       "    <tr>\n",
       "      <th>4</th>\n",
       "      <td>monetario</td>\n",
       "      <td>-0.673412</td>\n",
       "    </tr>\n",
       "    <tr>\n",
       "      <th>5</th>\n",
       "      <td>recencia_CompraNormal</td>\n",
       "      <td>0.746057</td>\n",
       "    </tr>\n",
       "    <tr>\n",
       "      <th>6</th>\n",
       "      <td>frecuencia_CompraNormal</td>\n",
       "      <td>0.761636</td>\n",
       "    </tr>\n",
       "    <tr>\n",
       "      <th>7</th>\n",
       "      <td>Cant_Trx_Mes</td>\n",
       "      <td>-0.354067</td>\n",
       "    </tr>\n",
       "    <tr>\n",
       "      <th>8</th>\n",
       "      <td>Monto_Trx_Promedio</td>\n",
       "      <td>0.307076</td>\n",
       "    </tr>\n",
       "    <tr>\n",
       "      <th>9</th>\n",
       "      <td>Monto_Trx_Mes</td>\n",
       "      <td>-0.123176</td>\n",
       "    </tr>\n",
       "    <tr>\n",
       "      <th>10</th>\n",
       "      <td>Cant_Trx_Normal_Mes</td>\n",
       "      <td>-0.894760</td>\n",
       "    </tr>\n",
       "    <tr>\n",
       "      <th>11</th>\n",
       "      <td>log_ingresos</td>\n",
       "      <td>0.078539</td>\n",
       "    </tr>\n",
       "    <tr>\n",
       "      <th>12</th>\n",
       "      <td>Canal_ingreso_Call Center</td>\n",
       "      <td>0.017492</td>\n",
       "    </tr>\n",
       "    <tr>\n",
       "      <th>13</th>\n",
       "      <td>Canal_ingreso_Red</td>\n",
       "      <td>-0.000926</td>\n",
       "    </tr>\n",
       "    <tr>\n",
       "      <th>14</th>\n",
       "      <td>Canal_ingreso_Venta Digital</td>\n",
       "      <td>-0.045524</td>\n",
       "    </tr>\n",
       "    <tr>\n",
       "      <th>15</th>\n",
       "      <td>sexo_F</td>\n",
       "      <td>0.040870</td>\n",
       "    </tr>\n",
       "    <tr>\n",
       "      <th>16</th>\n",
       "      <td>sexo_M</td>\n",
       "      <td>-0.040870</td>\n",
       "    </tr>\n",
       "    <tr>\n",
       "      <th>17</th>\n",
       "      <td>departamento_Artigas</td>\n",
       "      <td>-0.094535</td>\n",
       "    </tr>\n",
       "    <tr>\n",
       "      <th>18</th>\n",
       "      <td>departamento_Durazno</td>\n",
       "      <td>-0.015973</td>\n",
       "    </tr>\n",
       "    <tr>\n",
       "      <th>19</th>\n",
       "      <td>departamento_Lavalleja</td>\n",
       "      <td>0.029952</td>\n",
       "    </tr>\n",
       "    <tr>\n",
       "      <th>20</th>\n",
       "      <td>departamento_Rivera</td>\n",
       "      <td>-0.084216</td>\n",
       "    </tr>\n",
       "    <tr>\n",
       "      <th>21</th>\n",
       "      <td>departamento_Rocha</td>\n",
       "      <td>-0.158099</td>\n",
       "    </tr>\n",
       "    <tr>\n",
       "      <th>22</th>\n",
       "      <td>departamento_Soriano</td>\n",
       "      <td>-0.032390</td>\n",
       "    </tr>\n",
       "    <tr>\n",
       "      <th>23</th>\n",
       "      <td>departamento_Tacuarembó</td>\n",
       "      <td>-0.044047</td>\n",
       "    </tr>\n",
       "    <tr>\n",
       "      <th>24</th>\n",
       "      <td>departamento_Treinta y Tres</td>\n",
       "      <td>-0.077347</td>\n",
       "    </tr>\n",
       "    <tr>\n",
       "      <th>25</th>\n",
       "      <td>mes_entrega_tarjeta_1</td>\n",
       "      <td>-0.122333</td>\n",
       "    </tr>\n",
       "    <tr>\n",
       "      <th>26</th>\n",
       "      <td>mes_entrega_tarjeta_3</td>\n",
       "      <td>0.068012</td>\n",
       "    </tr>\n",
       "    <tr>\n",
       "      <th>27</th>\n",
       "      <td>mes_entrega_tarjeta_11</td>\n",
       "      <td>0.059757</td>\n",
       "    </tr>\n",
       "    <tr>\n",
       "      <th>28</th>\n",
       "      <td>mes_entrega_tarjeta_12</td>\n",
       "      <td>0.154208</td>\n",
       "    </tr>\n",
       "    <tr>\n",
       "      <th>29</th>\n",
       "      <td>hizo_pagos_0</td>\n",
       "      <td>-0.067330</td>\n",
       "    </tr>\n",
       "    <tr>\n",
       "      <th>30</th>\n",
       "      <td>hizo_pagos_1</td>\n",
       "      <td>0.067330</td>\n",
       "    </tr>\n",
       "    <tr>\n",
       "      <th>31</th>\n",
       "      <td>HizoCompra_0</td>\n",
       "      <td>0.321047</td>\n",
       "    </tr>\n",
       "    <tr>\n",
       "      <th>32</th>\n",
       "      <td>HizoCompraNormal_0</td>\n",
       "      <td>-0.177123</td>\n",
       "    </tr>\n",
       "  </tbody>\n",
       "</table>\n",
       "</div>"
      ],
      "text/plain": [
       "                       Variable  Coeficiente\n",
       "0                edad_solicitud     0.213447\n",
       "1                 LimiteCredito    -0.063814\n",
       "2                      recencia    -0.346525\n",
       "3                    frecuencia     0.174512\n",
       "4                     monetario    -0.673412\n",
       "5         recencia_CompraNormal     0.746057\n",
       "6       frecuencia_CompraNormal     0.761636\n",
       "7                  Cant_Trx_Mes    -0.354067\n",
       "8            Monto_Trx_Promedio     0.307076\n",
       "9                 Monto_Trx_Mes    -0.123176\n",
       "10          Cant_Trx_Normal_Mes    -0.894760\n",
       "11                 log_ingresos     0.078539\n",
       "12    Canal_ingreso_Call Center     0.017492\n",
       "13            Canal_ingreso_Red    -0.000926\n",
       "14  Canal_ingreso_Venta Digital    -0.045524\n",
       "15                       sexo_F     0.040870\n",
       "16                       sexo_M    -0.040870\n",
       "17         departamento_Artigas    -0.094535\n",
       "18         departamento_Durazno    -0.015973\n",
       "19       departamento_Lavalleja     0.029952\n",
       "20          departamento_Rivera    -0.084216\n",
       "21           departamento_Rocha    -0.158099\n",
       "22         departamento_Soriano    -0.032390\n",
       "23      departamento_Tacuarembó    -0.044047\n",
       "24  departamento_Treinta y Tres    -0.077347\n",
       "25        mes_entrega_tarjeta_1    -0.122333\n",
       "26        mes_entrega_tarjeta_3     0.068012\n",
       "27       mes_entrega_tarjeta_11     0.059757\n",
       "28       mes_entrega_tarjeta_12     0.154208\n",
       "29                 hizo_pagos_0    -0.067330\n",
       "30                 hizo_pagos_1     0.067330\n",
       "31                 HizoCompra_0     0.321047\n",
       "32           HizoCompraNormal_0    -0.177123"
      ]
     },
     "execution_count": 48,
     "metadata": {},
     "output_type": "execute_result"
    }
   ],
   "source": [
    "feature_names = X_train_full.columns\n",
    "\n",
    "selected_coefs = logit_model_SFS.coef_[0]\n",
    "selected_indices = [int(index) for index in selected_features]\n",
    "selected_coef_df = pd.DataFrame({'Variable': feature_names[selected_indices], 'Coeficiente': selected_coefs})\n",
    "selected_coef_df"
   ]
  },
  {
   "cell_type": "code",
   "execution_count": 49,
   "id": "96c49bd3",
   "metadata": {},
   "outputs": [
    {
     "name": "stdout",
     "output_type": "stream",
     "text": [
      "Variables seleccionadas: ['edad_solicitud', 'LimiteCredito', 'recencia', 'frecuencia', 'monetario', 'recencia_CompraNormal', 'frecuencia_CompraNormal', 'Cant_Trx_Mes', 'Monto_Trx_Promedio', 'Monto_Trx_Mes', 'Cant_Trx_Normal_Mes', 'log_ingresos', 'Canal_ingreso_Call Center', 'Canal_ingreso_Red', 'Canal_ingreso_Venta Digital', 'sexo_F', 'sexo_M', 'departamento_Artigas', 'departamento_Durazno', 'departamento_Lavalleja', 'departamento_Rivera', 'departamento_Rocha', 'departamento_Soriano', 'departamento_Tacuarembó', 'departamento_Treinta y Tres', 'mes_entrega_tarjeta_1', 'mes_entrega_tarjeta_3', 'mes_entrega_tarjeta_11', 'mes_entrega_tarjeta_12', 'hizo_pagos_0', 'hizo_pagos_1', 'HizoCompra_0', 'HizoCompraNormal_0']\n"
     ]
    }
   ],
   "source": [
    "selected_features_names = [feature_names[index] for index in selected_indices]\n",
    "\n",
    "print(\"Variables seleccionadas:\", selected_features_names)"
   ]
  },
  {
   "cell_type": "code",
   "execution_count": 50,
   "id": "ea228a56",
   "metadata": {},
   "outputs": [],
   "source": [
    "# me quedo con edad, recencia, frecuencia, monetario, cantidad , monto, ingresos - el criterio es coeficiente mayor a 0.1"
   ]
  },
  {
   "cell_type": "markdown",
   "id": "d1a10169",
   "metadata": {},
   "source": [
    "# MODELOS REDUCIDOS"
   ]
  },
  {
   "cell_type": "code",
   "execution_count": 51,
   "id": "e10a330a",
   "metadata": {},
   "outputs": [],
   "source": [
    "eliminar_reducido = ['fechaingreso', 'AñoMesIngreso','fecha_nacimiento', 'tipo_trabajo', 'ingresos',\n",
    " 'FechaModificacion', 'AñoMesModificacion', 'UltimoEstado', 'dif_meses',\n",
    "  'FechaPrimeraCompra', 'FechaUltimaCompra', 'prop_pagos_atraso',\n",
    " 'FechaPrimeraCompraNormal', 'FechaUltimaCompraNormal', 'fecha', 'año', 'mes', \n",
    " 'Canal_ingreso_Call Center', 'Canal_ingreso_Red', 'Canal_ingreso_Venta Digital', 'sexo_F', 'sexo_M',\n",
    " 'estado_civil_Casado', 'estado_civil_Divorciado', 'estado_civil_Separado', 'estado_civil_Soltero', 'estado_civil_Unión Libre',\n",
    " 'estado_civil_Viudo', 'departamento_Artigas', 'departamento_Canelones', 'departamento_Cerro Largo', 'departamento_Colonia',\n",
    " 'departamento_Durazno', 'departamento_Flores', 'departamento_Florida', 'departamento_Lavalleja', 'departamento_Maldonado',\n",
    " 'departamento_Montevideo', 'departamento_Paysandú', 'departamento_Rivera', 'departamento_Rocha', 'departamento_Río Negro',\n",
    " 'departamento_Salto', 'departamento_San José', 'departamento_Soriano', 'departamento_Tacuarembó', 'departamento_Treinta y Tres',\n",
    " 'mes_entrega_tarjeta_1', 'mes_entrega_tarjeta_2', 'mes_entrega_tarjeta_3', 'mes_entrega_tarjeta_4', 'mes_entrega_tarjeta_5',\n",
    " 'mes_entrega_tarjeta_6', 'mes_entrega_tarjeta_7', 'mes_entrega_tarjeta_8', 'mes_entrega_tarjeta_9', 'mes_entrega_tarjeta_10',\n",
    " 'mes_entrega_tarjeta_11', 'mes_entrega_tarjeta_12', 'hizo_pagos_0', 'hizo_pagos_1', 'pago_atraso_0', 'pago_atraso_1',\n",
    " 'HizoCompra_0', 'HizoCompra_1', 'HizoCompraNormal_0', 'HizoCompraNormal_1']"
   ]
  },
  {
   "cell_type": "code",
   "execution_count": 52,
   "id": "f30df44a",
   "metadata": {},
   "outputs": [],
   "source": [
    "X_train_reducido = X_train.drop(columns=eliminar_reducido)\n",
    "X_test_reducido = X_test.drop(columns=eliminar_reducido)"
   ]
  },
  {
   "cell_type": "markdown",
   "id": "66f8a148",
   "metadata": {},
   "source": [
    "# Logistica"
   ]
  },
  {
   "cell_type": "code",
   "execution_count": 54,
   "id": "d55b1894",
   "metadata": {},
   "outputs": [
    {
     "name": "stdout",
     "output_type": "stream",
     "text": [
      "Accuracy: 0.956955463042966\n"
     ]
    },
    {
     "name": "stderr",
     "output_type": "stream",
     "text": [
      "C:\\Users\\lucia\\anaconda3\\lib\\site-packages\\sklearn\\linear_model\\_logistic.py:458: ConvergenceWarning: lbfgs failed to converge (status=1):\n",
      "STOP: TOTAL NO. of ITERATIONS REACHED LIMIT.\n",
      "\n",
      "Increase the number of iterations (max_iter) or scale the data as shown in:\n",
      "    https://scikit-learn.org/stable/modules/preprocessing.html\n",
      "Please also refer to the documentation for alternative solver options:\n",
      "    https://scikit-learn.org/stable/modules/linear_model.html#logistic-regression\n",
      "  n_iter_i = _check_optimize_result(\n"
     ]
    }
   ],
   "source": [
    "from sklearn.linear_model import LogisticRegression\n",
    "from sklearn.metrics import accuracy_score \n",
    "\n",
    "logit_model_red = LogisticRegression(max_iter=1000) #max_iter=1000, C=1.0\n",
    "\n",
    "logit_model_red.fit(X_train_reducido, y_train)\n",
    "\n",
    "y_pred_log_red = logit_model_red.predict(X_test_reducido)\n",
    "\n",
    "accuracy_red = accuracy_score(y_test, y_pred_log_red)"
   ]
  },
  {
   "cell_type": "code",
   "execution_count": 55,
   "id": "197163fe",
   "metadata": {
    "scrolled": false
   },
   "outputs": [
    {
     "name": "stdout",
     "output_type": "stream",
     "text": [
      "Optimization terminated successfully.\n",
      "         Current function value: 0.158724\n",
      "         Iterations 10\n",
      "Accuracy: 0.956955463042966\n",
      "                           Logit Regression Results                           \n",
      "==============================================================================\n",
      "Dep. Variable:               devuelta   No. Observations:                29703\n",
      "Model:                          Logit   Df Residuals:                    29686\n",
      "Method:                           MLE   Df Model:                           16\n",
      "Date:                Sun, 10 Nov 2024   Pseudo R-squ.:                 0.06610\n",
      "Time:                        20:03:16   Log-Likelihood:                -4714.6\n",
      "converged:                       True   LL-Null:                       -5048.3\n",
      "Covariance Type:            nonrobust   LLR p-value:                1.110e-131\n",
      "=============================================================================================\n",
      "                                coef    std err          z      P>|z|      [0.025      0.975]\n",
      "---------------------------------------------------------------------------------------------\n",
      "const                        -6.2118      0.646     -9.612      0.000      -7.478      -4.945\n",
      "edad_solicitud                0.0132      0.002      7.995      0.000       0.010       0.016\n",
      "LimiteCredito             -3.054e-06   2.01e-06     -1.522      0.128   -6.99e-06    8.78e-07\n",
      "recencia                     -0.0011      0.000     -2.218      0.027      -0.002      -0.000\n",
      "frecuencia                    0.0231      0.007      3.124      0.002       0.009       0.038\n",
      "monetario                  1.597e-06   1.48e-05      0.108      0.914   -2.73e-05    3.05e-05\n",
      "recencia_CompraNormal         0.0080      0.001      7.908      0.000       0.006       0.010\n",
      "frecuencia_CompraNormal       0.0464      0.010      4.511      0.000       0.026       0.067\n",
      "monetario_CompraNormal    -3.642e-05   1.61e-05     -2.268      0.023   -6.79e-05   -4.95e-06\n",
      "Cant_Trx_Mes                 -0.1824      0.049     -3.726      0.000      -0.278      -0.086\n",
      "Monto_Trx_Promedio          4.35e-05   7.62e-05      0.571      0.568      -0.000       0.000\n",
      "Monto_Trx_Mes             -1.714e-05   7.73e-05     -0.222      0.825      -0.000       0.000\n",
      "q_pagos_astraso               0.0029      0.043      0.067      0.946      -0.082       0.087\n",
      "Cant_Trx_Normal_Mes          -0.1598      0.059     -2.711      0.007      -0.275      -0.044\n",
      "Monto_Trx_Normal_Promedio   3.76e-05   4.71e-05      0.798      0.425   -5.48e-05       0.000\n",
      "Monto_Trx_Normal_Mes      -2.347e-05   4.95e-05     -0.474      0.636      -0.000    7.36e-05\n",
      "log_ingresos                  0.1624      0.063      2.576      0.010       0.039       0.286\n",
      "=============================================================================================\n"
     ]
    }
   ],
   "source": [
    "import statsmodels.api as sm\n",
    "from sklearn.metrics import accuracy_score\n",
    "import numpy as np\n",
    "\n",
    "X_train_reducido = sm.add_constant(X_train_reducido)\n",
    "X_test_reducido = sm.add_constant(X_test_reducido)\n",
    "\n",
    "logit_model_red = sm.Logit(y_train, X_train_reducido)\n",
    "result_red = logit_model_red.fit()\n",
    "\n",
    "y_pred_log_prob_red = result_red.predict(X_test_reducido)\n",
    "y_pred_log_red = np.where(y_pred_log_prob_red > 0.5, 1, 0) \n",
    "\n",
    "accuracy = accuracy_score(y_test, y_pred_log_red)\n",
    "print(\"Accuracy:\", accuracy)\n",
    "\n",
    "print(result_red.summary())\n"
   ]
  },
  {
   "cell_type": "code",
   "execution_count": 56,
   "id": "84a0a119",
   "metadata": {},
   "outputs": [
    {
     "name": "stderr",
     "output_type": "stream",
     "text": [
      "C:\\Users\\lucia\\anaconda3\\lib\\site-packages\\sklearn\\linear_model\\_logistic.py:458: ConvergenceWarning: lbfgs failed to converge (status=1):\n",
      "STOP: TOTAL NO. of ITERATIONS REACHED LIMIT.\n",
      "\n",
      "Increase the number of iterations (max_iter) or scale the data as shown in:\n",
      "    https://scikit-learn.org/stable/modules/preprocessing.html\n",
      "Please also refer to the documentation for alternative solver options:\n",
      "    https://scikit-learn.org/stable/modules/linear_model.html#logistic-regression\n",
      "  n_iter_i = _check_optimize_result(\n"
     ]
    },
    {
     "data": {
      "image/png": "[encoded data removed]",
      "text/plain": [
       "<Figure size 576x432 with 1 Axes>"
      ]
     },
     "metadata": {
      "needs_background": "light"
     },
     "output_type": "display_data"
    }
   ],
   "source": [
    "from sklearn.model_selection import train_test_split\n",
    "from sklearn.linear_model import LogisticRegression\n",
    "from sklearn.metrics import accuracy_score, roc_curve, roc_auc_score\n",
    "import matplotlib.pyplot as plt\n",
    "\n",
    "logit_model_red = LogisticRegression(max_iter=1000)\n",
    "logit_model_red.fit(X_train_reducido, y_train)\n",
    "\n",
    "y_pred_log_red = logit_model_red.predict(X_test_reducido)\n",
    "y_prob_log_red = logit_model_red.predict_proba(X_test_reducido)[:, 1]\n",
    "\n",
    "fpr_log_red, tpr_log_red, thresholds_log_red = roc_curve(y_test, y_prob_log_red)\n",
    "auc_log_red = roc_auc_score(y_test, y_prob_log_red)\n",
    "\n",
    "plt.figure(figsize=(8, 6))\n",
    "plt.plot(fpr_log_red, tpr_log_red, color='blue'\n",
    "         , lw=2, label='ROC curve (area = %0.2f)' % auc_log_red)\n",
    "plt.plot([0, 1], [0, 1], color='gray', linestyle='--')\n",
    "plt.xlim([0.0, 1.0])\n",
    "plt.ylim([0.0, 1.05])\n",
    "plt.xlabel('False Positive Rate')\n",
    "plt.ylabel('True Positive Rate')\n",
    "plt.title('ROC Curve - Modelo Logistico')\n",
    "plt.legend(loc='lower right')\n",
    "plt.show()"
   ]
  },
  {
   "cell_type": "code",
   "execution_count": 57,
   "id": "4c7b3fc3",
   "metadata": {},
   "outputs": [
    {
     "data": {
      "image/png": "[encoded data removed]",
      "text/plain": [
       "<Figure size 576x432 with 1 Axes>"
      ]
     },
     "metadata": {
      "needs_background": "light"
     },
     "output_type": "display_data"
    },
    {
     "name": "stdout",
     "output_type": "stream",
     "text": [
      "Optimal Threshold: 0.0359784470904985\n"
     ]
    }
   ],
   "source": [
    "from sklearn.metrics import roc_curve, roc_auc_score\n",
    "import matplotlib.pyplot as plt\n",
    "\n",
    "y_prob_log_red = logit_model_red.predict_proba(X_test_reducido)[:, 1]\n",
    "\n",
    "fpr_log_red, tpr_log_red, thresholds_log_red = roc_curve(y_test, y_prob_log_red)\n",
    "\n",
    "auc_log_red = roc_auc_score(y_test, y_prob_log_red)\n",
    "\n",
    "Youden_index_log_red = tpr_log_red - fpr_log_red\n",
    "optimal_threshold_index_log_red = np.argmax(Youden_index_log_red)\n",
    "optimal_threshold_log_red = thresholds_log[optimal_threshold_index_log_red]\n",
    "\n",
    "plt.figure(figsize=(8, 6))\n",
    "plt.plot(fpr_log_red, tpr_log_red, color='blue', lw=2, label='ROC curve (area = %0.2f)' % auc_log_red)\n",
    "plt.scatter(fpr_log_red[optimal_threshold_index_log_red]\n",
    "            , tpr_log_red[optimal_threshold_index_log_red]\n",
    "            , color='red', s=100, label='Optimal Threshold')\n",
    "plt.plot([0, 1], [0, 1], color='gray', linestyle='--')\n",
    "plt.xlim([0.0, 1.0])\n",
    "plt.ylim([0.0, 1.05])\n",
    "plt.xlabel('False Positive Rate')\n",
    "plt.ylabel('True Positive Rate')\n",
    "plt.title('ROC Curve - Modelo Logistico - Optimal Threshold')\n",
    "plt.legend(loc='lower right')\n",
    "plt.show()\n",
    "\n",
    "print(\"Optimal Threshold:\", optimal_threshold_log_red)"
   ]
  },
  {
   "cell_type": "code",
   "execution_count": 58,
   "id": "06008e8c",
   "metadata": {},
   "outputs": [
    {
     "name": "stdout",
     "output_type": "stream",
     "text": [
      "Matriz de confusión:\n",
      "[[5211 6972]\n",
      " [  63  485]]\n"
     ]
    }
   ],
   "source": [
    "import numpy as np\n",
    "from sklearn.metrics import confusion_matrix\n",
    "\n",
    "y_pred_optimal_threshold_log_red = (y_prob_log_red >= optimal_threshold_log_red).astype(int)\n",
    "\n",
    "conf_matrix_log_red = confusion_matrix(y_test, y_pred_optimal_threshold_log_red)\n",
    "\n",
    "print(\"Matriz de confusión:\")\n",
    "print(conf_matrix_log_red)"
   ]
  },
  {
   "cell_type": "code",
   "execution_count": 59,
   "id": "4456c27e",
   "metadata": {},
   "outputs": [
    {
     "name": "stdout",
     "output_type": "stream",
     "text": [
      "Falsos Negativos (FN): 63\n"
     ]
    }
   ],
   "source": [
    "fn_index_row = 1  \n",
    "fn_index_col = 0 \n",
    "fn_count = conf_matrix_log_red[fn_index_row, fn_index_col]\n",
    "\n",
    "print(\"Falsos Negativos (FN):\", fn_count)"
   ]
  },
  {
   "cell_type": "code",
   "execution_count": 60,
   "id": "82378ac8",
   "metadata": {},
   "outputs": [
    {
     "data": {
      "text/html": [
       "<div>\n",
       "<style scoped>\n",
       "    .dataframe tbody tr th:only-of-type {\n",
       "        vertical-align: middle;\n",
       "    }\n",
       "\n",
       "    .dataframe tbody tr th {\n",
       "        vertical-align: top;\n",
       "    }\n",
       "\n",
       "    .dataframe thead th {\n",
       "        text-align: right;\n",
       "    }\n",
       "</style>\n",
       "<table border=\"1\" class=\"dataframe\">\n",
       "  <thead>\n",
       "    <tr style=\"text-align: right;\">\n",
       "      <th></th>\n",
       "      <th>y_prob</th>\n",
       "      <th>y_pred</th>\n",
       "      <th>y_pred_OT</th>\n",
       "    </tr>\n",
       "  </thead>\n",
       "  <tbody>\n",
       "    <tr>\n",
       "      <th>28168</th>\n",
       "      <td>0.014136</td>\n",
       "      <td>0</td>\n",
       "      <td>0</td>\n",
       "    </tr>\n",
       "    <tr>\n",
       "      <th>3277</th>\n",
       "      <td>0.059749</td>\n",
       "      <td>0</td>\n",
       "      <td>1</td>\n",
       "    </tr>\n",
       "    <tr>\n",
       "      <th>12950</th>\n",
       "      <td>0.074836</td>\n",
       "      <td>0</td>\n",
       "      <td>1</td>\n",
       "    </tr>\n",
       "    <tr>\n",
       "      <th>8363</th>\n",
       "      <td>0.051815</td>\n",
       "      <td>0</td>\n",
       "      <td>1</td>\n",
       "    </tr>\n",
       "    <tr>\n",
       "      <th>16286</th>\n",
       "      <td>0.086008</td>\n",
       "      <td>0</td>\n",
       "      <td>1</td>\n",
       "    </tr>\n",
       "    <tr>\n",
       "      <th>...</th>\n",
       "      <td>...</td>\n",
       "      <td>...</td>\n",
       "      <td>...</td>\n",
       "    </tr>\n",
       "    <tr>\n",
       "      <th>20398</th>\n",
       "      <td>0.012398</td>\n",
       "      <td>0</td>\n",
       "      <td>0</td>\n",
       "    </tr>\n",
       "    <tr>\n",
       "      <th>36257</th>\n",
       "      <td>0.001007</td>\n",
       "      <td>0</td>\n",
       "      <td>0</td>\n",
       "    </tr>\n",
       "    <tr>\n",
       "      <th>7924</th>\n",
       "      <td>0.053131</td>\n",
       "      <td>0</td>\n",
       "      <td>1</td>\n",
       "    </tr>\n",
       "    <tr>\n",
       "      <th>11342</th>\n",
       "      <td>0.051233</td>\n",
       "      <td>0</td>\n",
       "      <td>1</td>\n",
       "    </tr>\n",
       "    <tr>\n",
       "      <th>31733</th>\n",
       "      <td>0.011209</td>\n",
       "      <td>0</td>\n",
       "      <td>0</td>\n",
       "    </tr>\n",
       "  </tbody>\n",
       "</table>\n",
       "<p>12731 rows × 3 columns</p>\n",
       "</div>"
      ],
      "text/plain": [
       "         y_prob  y_pred  y_pred_OT\n",
       "28168  0.014136       0          0\n",
       "3277   0.059749       0          1\n",
       "12950  0.074836       0          1\n",
       "8363   0.051815       0          1\n",
       "16286  0.086008       0          1\n",
       "...         ...     ...        ...\n",
       "20398  0.012398       0          0\n",
       "36257  0.001007       0          0\n",
       "7924   0.053131       0          1\n",
       "11342  0.051233       0          1\n",
       "31733  0.011209       0          0\n",
       "\n",
       "[12731 rows x 3 columns]"
      ]
     },
     "execution_count": 60,
     "metadata": {},
     "output_type": "execute_result"
    }
   ],
   "source": [
    "y_prob_log_red = logit_model_red.predict_proba(X_test_reducido)[:, 1]\n",
    "y_pred_log_red = (y_prob_log_red > 0.5).astype(int)\n",
    "y_pred_optimal_threshold_log_red = (y_prob_log_red >= optimal_threshold_log_red).astype(int)\n",
    "\n",
    "result_log_red = pd.DataFrame({'y_prob': y_prob_log_red,\n",
    "                              'y_pred': y_pred_log_red,\n",
    "                             'y_pred_OT' : y_pred_optimal_threshold_log_red\n",
    "                             }, index=X_test_reducido.index)\n",
    "result_log_red"
   ]
  },
  {
   "cell_type": "code",
   "execution_count": 62,
   "id": "8e80f144",
   "metadata": {},
   "outputs": [
    {
     "name": "stdout",
     "output_type": "stream",
     "text": [
      "log_red model:\n",
      "KS: 0.3391 (p-value: 2.893e-54)\n",
      "ROC AUC: 0.7020\n"
     ]
    }
   ],
   "source": [
    "from scipy.stats import ks_2samp\n",
    "from sklearn.metrics import roc_auc_score\n",
    "\n",
    "def evaluate_ks_and_roc_auc_red(y_real_log_red, y_proba_log_red):\n",
    "    df_red = pd.DataFrame()\n",
    "    df_red['real'] = y_real_log_red\n",
    "    df_red['proba'] = y_proba_log_red\n",
    "    class0 = df_red[df_red['real'] == 0]\n",
    "    class1 = df_red[df_red['real'] == 1]\n",
    "    ks_red = ks_2samp(class0['proba'], class1['proba'])\n",
    "    roc_auc_red = roc_auc_score(df_red['real'], df_red['proba'])\n",
    "    print(f\"KS: {ks_red.statistic:.4f} (p-value: {ks_red.pvalue:.3e})\")\n",
    "    print(f\"ROC AUC: {roc_auc_red:.4f}\")\n",
    "    return ks_red.statistic, roc_auc_red\n",
    "\n",
    "print(\"log_red model:\")\n",
    "ks_base_log_red, auc_base_log_red = evaluate_ks_and_roc_auc_red(y_test, y_prob_log_red)"
   ]
  },
  {
   "cell_type": "code",
   "execution_count": 63,
   "id": "fe8f8fd2",
   "metadata": {},
   "outputs": [
    {
     "data": {
      "text/html": [
       "<div>\n",
       "<style scoped>\n",
       "    .dataframe tbody tr th:only-of-type {\n",
       "        vertical-align: middle;\n",
       "    }\n",
       "\n",
       "    .dataframe tbody tr th {\n",
       "        vertical-align: top;\n",
       "    }\n",
       "\n",
       "    .dataframe thead th {\n",
       "        text-align: right;\n",
       "    }\n",
       "</style>\n",
       "<table border=\"1\" class=\"dataframe\">\n",
       "  <thead>\n",
       "    <tr style=\"text-align: right;\">\n",
       "      <th></th>\n",
       "      <th>Modelo</th>\n",
       "      <th>KS</th>\n",
       "      <th>ROC AUC</th>\n",
       "    </tr>\n",
       "  </thead>\n",
       "  <tbody>\n",
       "    <tr>\n",
       "      <th>0</th>\n",
       "      <td>Logistico Reducido</td>\n",
       "      <td>0.339</td>\n",
       "      <td>0.702</td>\n",
       "    </tr>\n",
       "  </tbody>\n",
       "</table>\n",
       "</div>"
      ],
      "text/plain": [
       "               Modelo     KS  ROC AUC\n",
       "0  Logistico Reducido  0.339    0.702"
      ]
     },
     "execution_count": 63,
     "metadata": {},
     "output_type": "execute_result"
    }
   ],
   "source": [
    "results_df_log_red = pd.DataFrame({\n",
    "    'Modelo': ['Logistico Reducido'],\n",
    "    'KS': [ks_base_log_red],\n",
    "    'ROC AUC': [auc_base_log_red]\n",
    "})\n",
    "\n",
    "results_df_log_red = results_df_log_red.round(3)\n",
    "results_df_log_red"
   ]
  },
  {
   "cell_type": "markdown",
   "id": "51a44b20",
   "metadata": {},
   "source": [
    "# Random forest"
   ]
  },
  {
   "cell_type": "code",
   "execution_count": 64,
   "id": "bedb8f64",
   "metadata": {},
   "outputs": [
    {
     "name": "stdout",
     "output_type": "stream",
     "text": [
      "Accuracy: 0.9558557850915089\n"
     ]
    }
   ],
   "source": [
    "from sklearn.ensemble import RandomForestClassifier\n",
    "from sklearn.metrics import accuracy_score\n",
    "\n",
    "rf_model_red = RandomForestClassifier()\n",
    "\n",
    "rf_model_red.fit(X_train_reducido, y_train)\n",
    "\n",
    "y_pred_rf_red = rf_model_red.predict(X_test_reducido)\n",
    "\n",
    "accuracy = accuracy_score(y_test, y_pred_rf_red)\n"
   ]
  },
  {
   "cell_type": "code",
   "execution_count": 65,
   "id": "39f67d48",
   "metadata": {},
   "outputs": [
    {
     "data": {
      "image/png": "[encoded data removed]",
      "text/plain": [
       "<Figure size 576x432 with 1 Axes>"
      ]
     },
     "metadata": {
      "needs_background": "light"
     },
     "output_type": "display_data"
    }
   ],
   "source": [
    "from sklearn.metrics import roc_curve, roc_auc_score\n",
    "import matplotlib.pyplot as plt\n",
    "\n",
    "y_prob_rf_red = rf_model_red.predict_proba(X_test_reducido)[:, 1]\n",
    "fpr_rf_red, tpr_rf_red, thresholds_rf_red = roc_curve(y_test, y_prob_rf_red)\n",
    "auc_rf_red = roc_auc_score(y_test, y_prob_rf_red)\n",
    "\n",
    "plt.figure(figsize=(8, 6))\n",
    "plt.plot(fpr_rf_red, tpr_rf_red, color='blue', lw=2, label='ROC curve (AUC = %0.2f)' % auc_rf_red)\n",
    "plt.plot([0, 1], [0, 1], color='gray', linestyle='--')\n",
    "plt.xlim([0.0, 1.0])\n",
    "plt.ylim([0.0, 1.05])\n",
    "plt.xlabel('False Positive Rate')\n",
    "plt.ylabel('True Positive Rate')\n",
    "plt.title('ROC Curve - Random Forest')\n",
    "plt.legend(loc='lower right')\n",
    "plt.show()"
   ]
  },
  {
   "cell_type": "code",
   "execution_count": 66,
   "id": "172eda29",
   "metadata": {},
   "outputs": [
    {
     "data": {
      "image/png": "[encoded data removed]",
      "text/plain": [
       "<Figure size 576x432 with 1 Axes>"
      ]
     },
     "metadata": {
      "needs_background": "light"
     },
     "output_type": "display_data"
    },
    {
     "name": "stdout",
     "output_type": "stream",
     "text": [
      "Optimal Threshold: 0.03\n"
     ]
    }
   ],
   "source": [
    "from sklearn.metrics import roc_curve, roc_auc_score\n",
    "import matplotlib.pyplot as plt\n",
    "\n",
    "y_prob_rf_red = rf_model_red.predict_proba(X_test_reducido)[:, 1]\n",
    "\n",
    "fpr_rf_red, tpr_rf_red, thresholds_rf_red = roc_curve(y_test, y_prob_rf_red)\n",
    "\n",
    "auc_rf_red = roc_auc_score(y_test, y_prob_rf_red)\n",
    "\n",
    "Youden_index_rf_red = tpr_rf_red - fpr_rf_red\n",
    "optimal_threshold_index_rf_red = np.argmax(Youden_index_rf_red)\n",
    "optimal_threshold_rf_red = thresholds_rf_red[optimal_threshold_index_rf_red]\n",
    "\n",
    "plt.figure(figsize=(8, 6))\n",
    "plt.plot(fpr_rf_red, tpr_rf_red, color='blue', lw=2, label='ROC curve (area = %0.2f)' % auc_rf_red)\n",
    "plt.scatter(fpr_rf_red[optimal_threshold_index_rf_red], tpr_rf_red[optimal_threshold_index_rf_red], color='red', s=100\n",
    "            , label='Optimal Threshold')\n",
    "plt.plot([0, 1], [0, 1], color='gray', linestyle='--')\n",
    "plt.xlim([0.0, 1.0])\n",
    "plt.ylim([0.0, 1.05])\n",
    "plt.xlabel('False Positive Rate')\n",
    "plt.ylabel('True Positive Rate')\n",
    "plt.title('ROC Curve - Random Forest - Optimal Threshold')\n",
    "plt.legend(loc='lower right')\n",
    "plt.show()\n",
    "\n",
    "print(\"Optimal Threshold:\", optimal_threshold_rf_red)"
   ]
  },
  {
   "cell_type": "code",
   "execution_count": 67,
   "id": "b62cc20f",
   "metadata": {},
   "outputs": [
    {
     "name": "stdout",
     "output_type": "stream",
     "text": [
      "Matriz de Confusión:\n",
      "[[6008 6175]\n",
      " [ 105  443]]\n"
     ]
    }
   ],
   "source": [
    "from sklearn.metrics import confusion_matrix\n",
    "\n",
    "y_prob_rf_red = rf_model_red.predict_proba(X_test_reducido)[:, 1]\n",
    "\n",
    "y_pred_optimal_rf_red = (y_prob_rf >= optimal_threshold_rf_red).astype(int)\n",
    "\n",
    "conf_matrix_rf_red = confusion_matrix(y_test, y_pred_optimal_rf_red)\n",
    "\n",
    "print(\"Matriz de Confusión:\")\n",
    "print(conf_matrix_rf_red)"
   ]
  },
  {
   "cell_type": "code",
   "execution_count": 68,
   "id": "3a62f461",
   "metadata": {},
   "outputs": [
    {
     "data": {
      "text/html": [
       "<div>\n",
       "<style scoped>\n",
       "    .dataframe tbody tr th:only-of-type {\n",
       "        vertical-align: middle;\n",
       "    }\n",
       "\n",
       "    .dataframe tbody tr th {\n",
       "        vertical-align: top;\n",
       "    }\n",
       "\n",
       "    .dataframe thead th {\n",
       "        text-align: right;\n",
       "    }\n",
       "</style>\n",
       "<table border=\"1\" class=\"dataframe\">\n",
       "  <thead>\n",
       "    <tr style=\"text-align: right;\">\n",
       "      <th></th>\n",
       "      <th>y_prob</th>\n",
       "      <th>y_pred</th>\n",
       "      <th>y_pred_OT</th>\n",
       "    </tr>\n",
       "  </thead>\n",
       "  <tbody>\n",
       "    <tr>\n",
       "      <th>28168</th>\n",
       "      <td>0.00</td>\n",
       "      <td>0</td>\n",
       "      <td>0</td>\n",
       "    </tr>\n",
       "    <tr>\n",
       "      <th>3277</th>\n",
       "      <td>0.25</td>\n",
       "      <td>0</td>\n",
       "      <td>1</td>\n",
       "    </tr>\n",
       "    <tr>\n",
       "      <th>12950</th>\n",
       "      <td>0.18</td>\n",
       "      <td>0</td>\n",
       "      <td>1</td>\n",
       "    </tr>\n",
       "    <tr>\n",
       "      <th>8363</th>\n",
       "      <td>0.11</td>\n",
       "      <td>0</td>\n",
       "      <td>1</td>\n",
       "    </tr>\n",
       "    <tr>\n",
       "      <th>16286</th>\n",
       "      <td>0.22</td>\n",
       "      <td>0</td>\n",
       "      <td>1</td>\n",
       "    </tr>\n",
       "    <tr>\n",
       "      <th>...</th>\n",
       "      <td>...</td>\n",
       "      <td>...</td>\n",
       "      <td>...</td>\n",
       "    </tr>\n",
       "    <tr>\n",
       "      <th>20398</th>\n",
       "      <td>0.00</td>\n",
       "      <td>0</td>\n",
       "      <td>0</td>\n",
       "    </tr>\n",
       "    <tr>\n",
       "      <th>36257</th>\n",
       "      <td>0.03</td>\n",
       "      <td>0</td>\n",
       "      <td>1</td>\n",
       "    </tr>\n",
       "    <tr>\n",
       "      <th>7924</th>\n",
       "      <td>0.06</td>\n",
       "      <td>0</td>\n",
       "      <td>1</td>\n",
       "    </tr>\n",
       "    <tr>\n",
       "      <th>11342</th>\n",
       "      <td>0.03</td>\n",
       "      <td>0</td>\n",
       "      <td>1</td>\n",
       "    </tr>\n",
       "    <tr>\n",
       "      <th>31733</th>\n",
       "      <td>0.00</td>\n",
       "      <td>0</td>\n",
       "      <td>0</td>\n",
       "    </tr>\n",
       "  </tbody>\n",
       "</table>\n",
       "<p>12731 rows × 3 columns</p>\n",
       "</div>"
      ],
      "text/plain": [
       "       y_prob  y_pred  y_pred_OT\n",
       "28168    0.00       0          0\n",
       "3277     0.25       0          1\n",
       "12950    0.18       0          1\n",
       "8363     0.11       0          1\n",
       "16286    0.22       0          1\n",
       "...       ...     ...        ...\n",
       "20398    0.00       0          0\n",
       "36257    0.03       0          1\n",
       "7924     0.06       0          1\n",
       "11342    0.03       0          1\n",
       "31733    0.00       0          0\n",
       "\n",
       "[12731 rows x 3 columns]"
      ]
     },
     "execution_count": 68,
     "metadata": {},
     "output_type": "execute_result"
    }
   ],
   "source": [
    "y_prob_rf_red = rf_model_red.predict_proba(X_test_reducido)[:, 1]\n",
    "y_pred_rf_red = rf_model_red.predict(X_test_reducido)\n",
    "y_pred_optimal_rf_red = (y_prob_rf_red >= optimal_threshold_rf_red).astype(int)\n",
    "\n",
    "\n",
    "result_df_red = pd.DataFrame({'y_prob': y_prob_rf_red, 'y_pred': y_pred_rf_red, 'y_pred_OT':y_pred_optimal_rf_red }, index=X_test.index)\n",
    "result_df_red\n"
   ]
  },
  {
   "cell_type": "code",
   "execution_count": 70,
   "id": "010e3311",
   "metadata": {},
   "outputs": [
    {
     "name": "stdout",
     "output_type": "stream",
     "text": [
      "RF model:\n",
      "KS: 0.2660 (p-value: 3.158e-33)\n",
      "ROC AUC: 0.6587\n"
     ]
    }
   ],
   "source": [
    "from scipy.stats import ks_2samp\n",
    "from sklearn.metrics import roc_auc_score\n",
    "\n",
    "def evaluate_ks_and_roc_auc(y_real_rf_red, y_proba_rf_red):\n",
    "    df = pd.DataFrame()\n",
    "    df['real'] = y_real_rf_red\n",
    "    df['proba'] = y_proba_rf_red\n",
    "    class0 = df[df['real'] == 0]\n",
    "    class1 = df[df['real'] == 1]\n",
    "    ks = ks_2samp(class0['proba'], class1['proba'])\n",
    "    roc_auc = roc_auc_score(df['real'], df['proba'])\n",
    "    print(f\"KS: {ks.statistic:.4f} (p-value: {ks.pvalue:.3e})\")\n",
    "    print(f\"ROC AUC: {roc_auc:.4f}\")\n",
    "    return ks.statistic, roc_auc\n",
    "\n",
    "print(\"RF model:\")\n",
    "ks_rf_red, auc_rf_red = evaluate_ks_and_roc_auc(y_test, y_prob_rf_red)"
   ]
  },
  {
   "cell_type": "code",
   "execution_count": 71,
   "id": "d4a9aa3c",
   "metadata": {},
   "outputs": [
    {
     "data": {
      "text/html": [
       "<div>\n",
       "<style scoped>\n",
       "    .dataframe tbody tr th:only-of-type {\n",
       "        vertical-align: middle;\n",
       "    }\n",
       "\n",
       "    .dataframe tbody tr th {\n",
       "        vertical-align: top;\n",
       "    }\n",
       "\n",
       "    .dataframe thead th {\n",
       "        text-align: right;\n",
       "    }\n",
       "</style>\n",
       "<table border=\"1\" class=\"dataframe\">\n",
       "  <thead>\n",
       "    <tr style=\"text-align: right;\">\n",
       "      <th></th>\n",
       "      <th>Modelo</th>\n",
       "      <th>KS</th>\n",
       "      <th>ROC AUC</th>\n",
       "    </tr>\n",
       "  </thead>\n",
       "  <tbody>\n",
       "    <tr>\n",
       "      <th>0</th>\n",
       "      <td>Logistico Reducido</td>\n",
       "      <td>0.339</td>\n",
       "      <td>0.702</td>\n",
       "    </tr>\n",
       "    <tr>\n",
       "      <th>1</th>\n",
       "      <td>Random Forest Reducido</td>\n",
       "      <td>0.266</td>\n",
       "      <td>0.659</td>\n",
       "    </tr>\n",
       "  </tbody>\n",
       "</table>\n",
       "</div>"
      ],
      "text/plain": [
       "                   Modelo     KS  ROC AUC\n",
       "0      Logistico Reducido  0.339    0.702\n",
       "1  Random Forest Reducido  0.266    0.659"
      ]
     },
     "execution_count": 71,
     "metadata": {},
     "output_type": "execute_result"
    }
   ],
   "source": [
    "results_df_rf_red = pd.DataFrame({\n",
    "    'Modelo': ['Random Forest Reducido'],\n",
    "    'KS': [ks_rf_red],\n",
    "    'ROC AUC': [auc_rf_red]\n",
    "})\n",
    "\n",
    "results_resumen_red = pd.concat([results_df_log_red, results_df_rf_red], ignore_index=True)\n",
    "results_resumen_red = results_resumen_red.round(3)\n",
    "results_resumen_red"
   ]
  },
  {
   "cell_type": "code",
   "execution_count": 72,
   "id": "ddd5a8d5",
   "metadata": {},
   "outputs": [
    {
     "data": {
      "image/png": "[encoded data removed]",
      "text/plain": [
       "<Figure size 576x432 with 1 Axes>"
      ]
     },
     "metadata": {
      "needs_background": "light"
     },
     "output_type": "display_data"
    }
   ],
   "source": [
    "import matplotlib.pyplot as plt\n",
    "from sklearn.metrics import roc_curve, roc_auc_score\n",
    "\n",
    "# Curva ROC - Modelo Logístico (SFS)\n",
    "plt.figure(figsize=(8, 6))\n",
    "plt.plot(fpr_log_red, tpr_log_red, color='red', lw=2\n",
    "         , label='Modelo Logístico (AUC = %0.2f)' % auc_log_red)\n",
    "\n",
    "# Curva ROC - Random Forest\n",
    "plt.plot(fpr_rf_red, tpr_rf_red, color='blue', lw=2\n",
    "         , label='Random Forest (AUC = %0.2f)' % auc_rf_red)\n",
    "\n",
    "plt.plot([0, 1], [0, 1], color='gray', linestyle='--')\n",
    "\n",
    "plt.xlim([0.0, 1.0])\n",
    "plt.ylim([0.0, 1.05])\n",
    "plt.xlabel('False Positive Rate')\n",
    "plt.ylabel('True Positive Rate')\n",
    "plt.title('ROC Curve - Comparación de Modelos Reducidos')\n",
    "plt.legend(loc='lower right')\n",
    "plt.show()"
   ]
  },
  {
   "cell_type": "markdown",
   "id": "9e0a829d",
   "metadata": {},
   "source": [
    "# XG BOOST"
   ]
  },
  {
   "cell_type": "code",
   "execution_count": 73,
   "id": "446c0e19",
   "metadata": {},
   "outputs": [
    {
     "name": "stdout",
     "output_type": "stream",
     "text": [
      "Accuracy: 0.9562485272170294\n"
     ]
    }
   ],
   "source": [
    "import xgboost as xgb\n",
    "from sklearn.metrics import classification_report\n",
    "\n",
    "xgb_model_red = xgb.XGBClassifier()\n",
    "\n",
    "xgb_model_red.fit(X_train_reducido, y_train)\n",
    "\n",
    "y_pred_xgb_red = xgb_model_red.predict(X_test_reducido)\n",
    "\n",
    "accuracy = accuracy_score(y_test, y_pred_xgb_red)\n"
   ]
  },
  {
   "cell_type": "code",
   "execution_count": 74,
   "id": "e25e42c4",
   "metadata": {},
   "outputs": [
    {
     "data": {
      "image/png": "[encoded data removed]",
      "text/plain": [
       "<Figure size 576x432 with 1 Axes>"
      ]
     },
     "metadata": {
      "needs_background": "light"
     },
     "output_type": "display_data"
    }
   ],
   "source": [
    "from sklearn.metrics import roc_curve, roc_auc_score\n",
    "import matplotlib.pyplot as plt\n",
    "\n",
    "y_prob_xgb_red = xgb_model_red.predict_proba(X_test_reducido)[:, 1]\n",
    "\n",
    "fpr_xgb_red, tpr_xgb_red, thresholds_xgb_red = roc_curve(y_test, y_prob_xgb_red)\n",
    "\n",
    "auc_xgb_red = roc_auc_score(y_test, y_prob_xgb_red)\n",
    "\n",
    "plt.figure(figsize=(8, 6))\n",
    "plt.plot(fpr_xgb_red, tpr_xgb_red, color='blue', lw=2, label='ROC curve (AUC = %0.2f)' % auc_xgb_red)\n",
    "plt.plot([0, 1], [0, 1], color='gray', linestyle='--')\n",
    "plt.xlim([0.0, 1.0])\n",
    "plt.ylim([0.0, 1.05])\n",
    "plt.xlabel('False Positive Rate')\n",
    "plt.ylabel('True Positive Rate')\n",
    "plt.title('ROC Curve - XG Boost')\n",
    "plt.legend(loc='lower right')\n",
    "plt.show()"
   ]
  },
  {
   "cell_type": "code",
   "execution_count": 75,
   "id": "818fc075",
   "metadata": {},
   "outputs": [
    {
     "data": {
      "image/png": "[encoded data removed]",
      "text/plain": [
       "<Figure size 576x432 with 1 Axes>"
      ]
     },
     "metadata": {
      "needs_background": "light"
     },
     "output_type": "display_data"
    },
    {
     "name": "stdout",
     "output_type": "stream",
     "text": [
      "Optimal Threshold: 0.022433236\n"
     ]
    }
   ],
   "source": [
    "from sklearn.metrics import roc_curve, roc_auc_score\n",
    "import matplotlib.pyplot as plt\n",
    "\n",
    "y_prob_xgb_red = xgb_model_red.predict_proba(X_test_reducido)[:, 1]\n",
    "\n",
    "fpr_xgb_red, tpr_xgb_red, thresholds_xgb_red = roc_curve(y_test, y_prob_xgb_red)\n",
    "\n",
    "auc_xgb_red = roc_auc_score(y_test, y_prob_xgb_red)\n",
    "\n",
    "Youden_index_xgb_red = tpr_xgb_red - fpr_xgb_red\n",
    "optimal_threshold_index_xgb_red = np.argmax(Youden_index_xgb_red)\n",
    "optimal_threshold_xgb_red = thresholds_xgb_red[optimal_threshold_index_xgb_red]\n",
    "\n",
    "plt.figure(figsize=(8, 6))\n",
    "plt.plot(fpr_xgb_red, tpr_xgb_red, color='blue', lw=2, label='ROC curve (area = %0.2f)' % auc_xgb_red)\n",
    "plt.scatter(fpr_xgb_red[optimal_threshold_index_xgb_red], tpr_xgb_red[optimal_threshold_index_xgb_red], color='red', s=100, label='Optimal Threshold')\n",
    "plt.plot([0, 1], [0, 1], color='gray', linestyle='--')\n",
    "plt.xlim([0.0, 1.0])\n",
    "plt.ylim([0.0, 1.05])\n",
    "plt.xlabel('False Positive Rate')\n",
    "plt.ylabel('True Positive Rate')\n",
    "plt.title('ROC Curve - XG Boost - Optimal Threshold')\n",
    "plt.legend(loc='lower right')\n",
    "plt.show()\n",
    "\n",
    "print(\"Optimal Threshold:\", optimal_threshold_xgb_red)"
   ]
  },
  {
   "cell_type": "code",
   "execution_count": 76,
   "id": "8a488b98",
   "metadata": {},
   "outputs": [
    {
     "name": "stdout",
     "output_type": "stream",
     "text": [
      "Matriz de Confusión:\n",
      "[[6951 5232]\n",
      " [ 121  427]]\n"
     ]
    }
   ],
   "source": [
    "from sklearn.metrics import confusion_matrix\n",
    "\n",
    "y_prob_xgb_red = xgb_model_red.predict_proba(X_test_reducido)[:, 1]\n",
    "\n",
    "y_pred_optimal_xgb_red = (y_prob_xgb_red >= optimal_threshold_xgb_red).astype(int)\n",
    "\n",
    "conf_matrix_xgb_red = confusion_matrix(y_test, y_pred_optimal_xgb_red)\n",
    "\n",
    "print(\"Matriz de Confusión:\")\n",
    "print(conf_matrix_xgb_red)"
   ]
  },
  {
   "cell_type": "code",
   "execution_count": 77,
   "id": "8a7e5fa8",
   "metadata": {},
   "outputs": [
    {
     "data": {
      "text/html": [
       "<div>\n",
       "<style scoped>\n",
       "    .dataframe tbody tr th:only-of-type {\n",
       "        vertical-align: middle;\n",
       "    }\n",
       "\n",
       "    .dataframe tbody tr th {\n",
       "        vertical-align: top;\n",
       "    }\n",
       "\n",
       "    .dataframe thead th {\n",
       "        text-align: right;\n",
       "    }\n",
       "</style>\n",
       "<table border=\"1\" class=\"dataframe\">\n",
       "  <thead>\n",
       "    <tr style=\"text-align: right;\">\n",
       "      <th></th>\n",
       "      <th>y_prob</th>\n",
       "      <th>y_pred</th>\n",
       "      <th>y_pred_OT</th>\n",
       "    </tr>\n",
       "  </thead>\n",
       "  <tbody>\n",
       "    <tr>\n",
       "      <th>28168</th>\n",
       "      <td>0.002201</td>\n",
       "      <td>0</td>\n",
       "      <td>0</td>\n",
       "    </tr>\n",
       "    <tr>\n",
       "      <th>3277</th>\n",
       "      <td>0.033443</td>\n",
       "      <td>0</td>\n",
       "      <td>1</td>\n",
       "    </tr>\n",
       "    <tr>\n",
       "      <th>12950</th>\n",
       "      <td>0.058926</td>\n",
       "      <td>0</td>\n",
       "      <td>1</td>\n",
       "    </tr>\n",
       "    <tr>\n",
       "      <th>8363</th>\n",
       "      <td>0.068526</td>\n",
       "      <td>0</td>\n",
       "      <td>1</td>\n",
       "    </tr>\n",
       "    <tr>\n",
       "      <th>16286</th>\n",
       "      <td>0.071934</td>\n",
       "      <td>0</td>\n",
       "      <td>1</td>\n",
       "    </tr>\n",
       "    <tr>\n",
       "      <th>...</th>\n",
       "      <td>...</td>\n",
       "      <td>...</td>\n",
       "      <td>...</td>\n",
       "    </tr>\n",
       "    <tr>\n",
       "      <th>20398</th>\n",
       "      <td>0.000225</td>\n",
       "      <td>0</td>\n",
       "      <td>0</td>\n",
       "    </tr>\n",
       "    <tr>\n",
       "      <th>36257</th>\n",
       "      <td>0.001989</td>\n",
       "      <td>0</td>\n",
       "      <td>0</td>\n",
       "    </tr>\n",
       "    <tr>\n",
       "      <th>7924</th>\n",
       "      <td>0.063030</td>\n",
       "      <td>0</td>\n",
       "      <td>1</td>\n",
       "    </tr>\n",
       "    <tr>\n",
       "      <th>11342</th>\n",
       "      <td>0.018446</td>\n",
       "      <td>0</td>\n",
       "      <td>0</td>\n",
       "    </tr>\n",
       "    <tr>\n",
       "      <th>31733</th>\n",
       "      <td>0.002438</td>\n",
       "      <td>0</td>\n",
       "      <td>0</td>\n",
       "    </tr>\n",
       "  </tbody>\n",
       "</table>\n",
       "<p>12731 rows × 3 columns</p>\n",
       "</div>"
      ],
      "text/plain": [
       "         y_prob  y_pred  y_pred_OT\n",
       "28168  0.002201       0          0\n",
       "3277   0.033443       0          1\n",
       "12950  0.058926       0          1\n",
       "8363   0.068526       0          1\n",
       "16286  0.071934       0          1\n",
       "...         ...     ...        ...\n",
       "20398  0.000225       0          0\n",
       "36257  0.001989       0          0\n",
       "7924   0.063030       0          1\n",
       "11342  0.018446       0          0\n",
       "31733  0.002438       0          0\n",
       "\n",
       "[12731 rows x 3 columns]"
      ]
     },
     "execution_count": 77,
     "metadata": {},
     "output_type": "execute_result"
    }
   ],
   "source": [
    "y_prob_xgb_red = xgb_model_red.predict_proba(X_test_reducido)[:, 1]\n",
    "y_pred_xgb_red = xgb_model_red.predict(X_test_reducido)\n",
    "y_pred_optimal_xgb_red = (y_prob_xgb_red >= optimal_threshold_xgb_red).astype(int)\n",
    "\n",
    "\n",
    "result_df_red = pd.DataFrame({'y_prob': y_prob_xgb_red\n",
    "                              , 'y_pred': y_pred_xgb_red\n",
    "                              , 'y_pred_OT':y_pred_optimal_xgb_red }\n",
    "                             , index=X_test.index)\n",
    "result_df_red"
   ]
  },
  {
   "cell_type": "code",
   "execution_count": 79,
   "id": "74520e3d",
   "metadata": {},
   "outputs": [
    {
     "name": "stdout",
     "output_type": "stream",
     "text": [
      "xgb_red model:\n",
      "KS: 0.3497 (p-value: 8.431e-58)\n",
      "ROC AUC: 0.7085\n"
     ]
    }
   ],
   "source": [
    "from scipy.stats import ks_2samp\n",
    "from sklearn.metrics import roc_auc_score\n",
    "\n",
    "def evaluate_ks_and_roc_auc(y_real_xgb_red, y_proba_xgb_red):\n",
    "    df = pd.DataFrame()\n",
    "    df['real'] = y_real_xgb_red\n",
    "    df['proba'] = y_proba_xgb_red\n",
    "    class0 = df[df['real'] == 0]\n",
    "    class1 = df[df['real'] == 1]\n",
    "    ks = ks_2samp(class0['proba'], class1['proba'])\n",
    "    roc_auc = roc_auc_score(df['real'], df['proba'])\n",
    "    print(f\"KS: {ks.statistic:.4f} (p-value: {ks.pvalue:.3e})\")\n",
    "    print(f\"ROC AUC: {roc_auc:.4f}\")\n",
    "    return ks.statistic, roc_auc\n",
    "\n",
    "print(\"xgb_red model:\")\n",
    "ks_xgb_red, auc_xgb_red = evaluate_ks_and_roc_auc(y_test, y_prob_xgb_red)"
   ]
  },
  {
   "cell_type": "code",
   "execution_count": 80,
   "id": "a9064452",
   "metadata": {},
   "outputs": [
    {
     "data": {
      "text/html": [
       "<div>\n",
       "<style scoped>\n",
       "    .dataframe tbody tr th:only-of-type {\n",
       "        vertical-align: middle;\n",
       "    }\n",
       "\n",
       "    .dataframe tbody tr th {\n",
       "        vertical-align: top;\n",
       "    }\n",
       "\n",
       "    .dataframe thead th {\n",
       "        text-align: right;\n",
       "    }\n",
       "</style>\n",
       "<table border=\"1\" class=\"dataframe\">\n",
       "  <thead>\n",
       "    <tr style=\"text-align: right;\">\n",
       "      <th></th>\n",
       "      <th>Modelo</th>\n",
       "      <th>KS</th>\n",
       "      <th>ROC AUC</th>\n",
       "    </tr>\n",
       "  </thead>\n",
       "  <tbody>\n",
       "    <tr>\n",
       "      <th>0</th>\n",
       "      <td>Logistico Reducido</td>\n",
       "      <td>0.339</td>\n",
       "      <td>0.702</td>\n",
       "    </tr>\n",
       "    <tr>\n",
       "      <th>1</th>\n",
       "      <td>Random Forest Reducido</td>\n",
       "      <td>0.266</td>\n",
       "      <td>0.659</td>\n",
       "    </tr>\n",
       "    <tr>\n",
       "      <th>2</th>\n",
       "      <td>XGBoost Reducido</td>\n",
       "      <td>0.350</td>\n",
       "      <td>0.708</td>\n",
       "    </tr>\n",
       "  </tbody>\n",
       "</table>\n",
       "</div>"
      ],
      "text/plain": [
       "                   Modelo     KS  ROC AUC\n",
       "0      Logistico Reducido  0.339    0.702\n",
       "1  Random Forest Reducido  0.266    0.659\n",
       "2        XGBoost Reducido  0.350    0.708"
      ]
     },
     "execution_count": 80,
     "metadata": {},
     "output_type": "execute_result"
    }
   ],
   "source": [
    "results_df_xgb_red = pd.DataFrame({\n",
    "    'Modelo': ['XGBoost Reducido'],\n",
    "    'KS': [ks_xgb_red],\n",
    "    'ROC AUC': [auc_xgb_red]\n",
    "})\n",
    "\n",
    "results_resumen_red = pd.concat([results_df_log_red, results_df_rf_red,results_df_xgb_red ], ignore_index=True)\n",
    "results_resumen_red = results_resumen_red.round(3)\n",
    "results_resumen_red"
   ]
  },
  {
   "cell_type": "code",
   "execution_count": 81,
   "id": "2971014e",
   "metadata": {},
   "outputs": [
    {
     "data": {
      "image/png": "[encoded data removed]",
      "text/plain": [
       "<Figure size 576x432 with 1 Axes>"
      ]
     },
     "metadata": {
      "needs_background": "light"
     },
     "output_type": "display_data"
    }
   ],
   "source": [
    "import matplotlib.pyplot as plt\n",
    "from sklearn.metrics import roc_curve, roc_auc_score\n",
    "\n",
    "# Curva ROC - Modelo Logístico (SFS)\n",
    "plt.figure(figsize=(8, 6))\n",
    "plt.plot(fpr_log_red, tpr_log_red, color='red'\n",
    "         , lw=2, label='Modelo Logístico (AUC = %0.2f)' % auc_log_red)\n",
    "\n",
    "# Curva ROC - Random Forest\n",
    "plt.plot(fpr_rf_red, tpr_rf_red, color='blue'\n",
    "         , lw=2, label='Random Forest (AUC = %0.2f)' % auc_rf_red)\n",
    "\n",
    "#Curva ROC - XGBoost\n",
    "plt.plot(fpr_xgb_red, tpr_xgb_red, color='yellow'\n",
    "         , lw=2, label='XGBoost (AUC = %0.2f)' % auc_xgb_red)\n",
    "\n",
    "plt.plot([0, 1], [0, 1], color='gray', linestyle='--')\n",
    "\n",
    "plt.xlim([0.0, 1.0])\n",
    "plt.ylim([0.0, 1.05])\n",
    "plt.xlabel('False Positive Rate')\n",
    "plt.ylabel('True Positive Rate')\n",
    "plt.title('ROC Curve - Comparación de Modelos Reducidos')\n",
    "plt.legend(loc='lower right')\n",
    "plt.show()"
   ]
  },
  {
   "cell_type": "code",
   "execution_count": 82,
   "id": "d665c77a",
   "metadata": {},
   "outputs": [
    {
     "data": {
      "image/png": "[encoded data removed]",
      "text/plain": [
       "<Figure size 1152x432 with 2 Axes>"
      ]
     },
     "metadata": {
      "needs_background": "light"
     },
     "output_type": "display_data"
    }
   ],
   "source": [
    "import matplotlib.pyplot as plt\n",
    "from sklearn.metrics import roc_curve, roc_auc_score\n",
    "\n",
    "# Crear una figura con dos subgráficos uno al lado del otro\n",
    "fig, ax = plt.subplots(1, 2, figsize=(16, 6))\n",
    "\n",
    "# Primer gráfico - Modelos completos\n",
    "ax[0].plot(fpr_log, tpr_log, color='red', lw=2, label='Modelo Logístico (AUC = %0.2f)' % auc_log)\n",
    "ax[0].plot(fpr_rf, tpr_rf, color='blue', lw=2, label='Random Forest (AUC = %0.2f)' % auc_rf)\n",
    "ax[0].plot(fpr_xgb, tpr_xgb, color='yellow', lw=2, label='XGBoost (AUC = %0.2f)' % auc_xgb)\n",
    "ax[0].plot([0, 1], [0, 1], color='gray', linestyle='--')\n",
    "ax[0].set_xlim([0.0, 1.0])\n",
    "ax[0].set_ylim([0.0, 1.05])\n",
    "ax[0].set_xlabel('False Positive Rate')\n",
    "ax[0].set_ylabel('True Positive Rate')\n",
    "ax[0].set_title('ROC Curve - Comparación de Modelos')\n",
    "ax[0].legend(loc='lower right')\n",
    "\n",
    "# Segundo gráfico - Modelos reducidos (SFS)\n",
    "ax[1].plot(fpr_log_red, tpr_log_red, color='red', lw=2, label='Modelo Logístico (AUC = %0.2f)' % auc_log_red)\n",
    "ax[1].plot(fpr_rf_red, tpr_rf_red, color='blue', lw=2, label='Random Forest (AUC = %0.2f)' % auc_rf_red)\n",
    "ax[1].plot(fpr_xgb_red, tpr_xgb_red, color='yellow', lw=2, label='XGBoost (AUC = %0.2f)' % auc_xgb_red)\n",
    "ax[1].plot([0, 1], [0, 1], color='gray', linestyle='--')\n",
    "ax[1].set_xlim([0.0, 1.0])\n",
    "ax[1].set_ylim([0.0, 1.05])\n",
    "ax[1].set_xlabel('False Positive Rate')\n",
    "ax[1].set_ylabel('True Positive Rate')\n",
    "ax[1].set_title('ROC Curve - Comparación de Modelos Reducidos')\n",
    "ax[1].legend(loc='lower right')\n",
    "\n",
    "# Mostrar los gráficos\n",
    "plt.tight_layout()\n",
    "plt.show()\n"
   ]
  },
  {
   "cell_type": "code",
   "execution_count": 83,
   "id": "6ed9c9ff",
   "metadata": {},
   "outputs": [
    {
     "data": {
      "text/html": [
       "<div>\n",
       "<style scoped>\n",
       "    .dataframe tbody tr th:only-of-type {\n",
       "        vertical-align: middle;\n",
       "    }\n",
       "\n",
       "    .dataframe tbody tr th {\n",
       "        vertical-align: top;\n",
       "    }\n",
       "\n",
       "    .dataframe thead th {\n",
       "        text-align: right;\n",
       "    }\n",
       "</style>\n",
       "<table border=\"1\" class=\"dataframe\">\n",
       "  <thead>\n",
       "    <tr style=\"text-align: right;\">\n",
       "      <th></th>\n",
       "      <th>Modelo</th>\n",
       "      <th>KS</th>\n",
       "      <th>ROC AUC</th>\n",
       "    </tr>\n",
       "  </thead>\n",
       "  <tbody>\n",
       "    <tr>\n",
       "      <th>0</th>\n",
       "      <td>Logistico</td>\n",
       "      <td>0.231</td>\n",
       "      <td>0.609</td>\n",
       "    </tr>\n",
       "    <tr>\n",
       "      <th>1</th>\n",
       "      <td>Random Forest</td>\n",
       "      <td>0.305</td>\n",
       "      <td>0.692</td>\n",
       "    </tr>\n",
       "    <tr>\n",
       "      <th>2</th>\n",
       "      <td>XGBoost</td>\n",
       "      <td>0.373</td>\n",
       "      <td>0.731</td>\n",
       "    </tr>\n",
       "    <tr>\n",
       "      <th>3</th>\n",
       "      <td>Logistico Reducido</td>\n",
       "      <td>0.339</td>\n",
       "      <td>0.702</td>\n",
       "    </tr>\n",
       "    <tr>\n",
       "      <th>4</th>\n",
       "      <td>Random Forest Reducido</td>\n",
       "      <td>0.266</td>\n",
       "      <td>0.659</td>\n",
       "    </tr>\n",
       "    <tr>\n",
       "      <th>5</th>\n",
       "      <td>XGBoost Reducido</td>\n",
       "      <td>0.350</td>\n",
       "      <td>0.708</td>\n",
       "    </tr>\n",
       "  </tbody>\n",
       "</table>\n",
       "</div>"
      ],
      "text/plain": [
       "                   Modelo     KS  ROC AUC\n",
       "0               Logistico  0.231    0.609\n",
       "1           Random Forest  0.305    0.692\n",
       "2                 XGBoost  0.373    0.731\n",
       "3      Logistico Reducido  0.339    0.702\n",
       "4  Random Forest Reducido  0.266    0.659\n",
       "5        XGBoost Reducido  0.350    0.708"
      ]
     },
     "execution_count": 83,
     "metadata": {},
     "output_type": "execute_result"
    }
   ],
   "source": [
    "tabla_resumen = pd.concat([results_resumen , results_resumen_red ], ignore_index=True)\n",
    "tabla_resumen = tabla_resumen.round(3)\n",
    "tabla_resumen"
   ]
  },
  {
   "cell_type": "code",
   "execution_count": 84,
   "id": "c0cbf238",
   "metadata": {},
   "outputs": [],
   "source": [
    "# optimizacion del punto de corte"
   ]
  },
  {
   "cell_type": "code",
   "execution_count": 85,
   "id": "dab05893",
   "metadata": {},
   "outputs": [
    {
     "name": "stdout",
     "output_type": "stream",
     "text": [
      "Optimal Threshold: 0.022433236\n"
     ]
    }
   ],
   "source": [
    "Youden_index_xgb_red = tpr_xgb_red - fpr_xgb_red\n",
    "optimal_threshold_index_xgb_red = np.argmax(Youden_index_xgb_red)\n",
    "optimal_threshold_xgb_red = thresholds_xgb_red[optimal_threshold_index_xgb_red]\n",
    "\n",
    "print(\"Optimal Threshold:\", optimal_threshold_xgb_red)"
   ]
  },
  {
   "cell_type": "code",
   "execution_count": 86,
   "id": "5f356b1d",
   "metadata": {},
   "outputs": [
    {
     "data": {
      "text/plain": [
       "array([0, 1, 1, ..., 1, 0, 0])"
      ]
     },
     "execution_count": 86,
     "metadata": {},
     "output_type": "execute_result"
    }
   ],
   "source": [
    "y_pred_optimal_xgb_red = (y_prob_xgb_red >= optimal_threshold_xgb_red).astype(int)\n",
    "y_pred_optimal_xgb_red"
   ]
  },
  {
   "cell_type": "code",
   "execution_count": 87,
   "id": "9987c52d",
   "metadata": {},
   "outputs": [
    {
     "name": "stdout",
     "output_type": "stream",
     "text": [
      "xgb_red model optimizando punto de corte:\n",
      "KS: 0.3497 (p-value: 8.431e-58)\n",
      "ROC AUC: 0.7085\n"
     ]
    }
   ],
   "source": [
    "from scipy.stats import ks_2samp\n",
    "from sklearn.metrics import roc_auc_score\n",
    "\n",
    "def evaluate_ks_and_roc_auc(y_real_xgb_red, y_proba_xgb_red, y_pred_optimal_xgb_red):\n",
    "    df = pd.DataFrame()\n",
    "    df['real'] = y_real_xgb_red\n",
    "    df['proba'] = y_proba_xgb_red\n",
    "    df['pred_optimal'] = y_pred_optimal_xgb_red\n",
    "    class0 = df[df['real'] == 0]\n",
    "    class1 = df[df['real'] == 1]\n",
    "    \n",
    "    # KS usando las probabilidades ajustadas al punto de corte óptimo\n",
    "    ks = ks_2samp(class0['pred_optimal'], class1['pred_optimal'])\n",
    "    # AUC no depende del punto de corte, lo puedes calcular con las probabilidades\n",
    "    roc_auc = roc_auc_score(df['real'], df['proba'])\n",
    "    \n",
    "    print(f\"KS: {ks.statistic:.4f} (p-value: {ks.pvalue:.3e})\")\n",
    "    print(f\"ROC AUC: {roc_auc:.4f}\")\n",
    "    \n",
    "    return ks.statistic, roc_auc\n",
    "\n",
    "print(\"xgb_red model optimizando punto de corte:\")\n",
    "ks_xgb_red, auc_xgb_red = evaluate_ks_and_roc_auc(y_test, y_prob_xgb_red, y_pred_optimal_xgb_red)\n"
   ]
  },
  {
   "cell_type": "code",
   "execution_count": 88,
   "id": "62822e33",
   "metadata": {},
   "outputs": [
    {
     "data": {
      "text/html": [
       "<div>\n",
       "<style scoped>\n",
       "    .dataframe tbody tr th:only-of-type {\n",
       "        vertical-align: middle;\n",
       "    }\n",
       "\n",
       "    .dataframe tbody tr th {\n",
       "        vertical-align: top;\n",
       "    }\n",
       "\n",
       "    .dataframe thead th {\n",
       "        text-align: right;\n",
       "    }\n",
       "</style>\n",
       "<table border=\"1\" class=\"dataframe\">\n",
       "  <thead>\n",
       "    <tr style=\"text-align: right;\">\n",
       "      <th></th>\n",
       "      <th>Métrica</th>\n",
       "      <th>Valor</th>\n",
       "    </tr>\n",
       "  </thead>\n",
       "  <tbody>\n",
       "    <tr>\n",
       "      <th>0</th>\n",
       "      <td>AUC</td>\n",
       "      <td>0.708487</td>\n",
       "    </tr>\n",
       "    <tr>\n",
       "      <th>1</th>\n",
       "      <td>Precisión</td>\n",
       "      <td>0.075455</td>\n",
       "    </tr>\n",
       "    <tr>\n",
       "      <th>2</th>\n",
       "      <td>Recall</td>\n",
       "      <td>0.779197</td>\n",
       "    </tr>\n",
       "    <tr>\n",
       "      <th>3</th>\n",
       "      <td>F1-Score</td>\n",
       "      <td>0.137587</td>\n",
       "    </tr>\n",
       "    <tr>\n",
       "      <th>4</th>\n",
       "      <td>Accuracy</td>\n",
       "      <td>0.579530</td>\n",
       "    </tr>\n",
       "  </tbody>\n",
       "</table>\n",
       "</div>"
      ],
      "text/plain": [
       "     Métrica     Valor\n",
       "0        AUC  0.708487\n",
       "1  Precisión  0.075455\n",
       "2     Recall  0.779197\n",
       "3   F1-Score  0.137587\n",
       "4   Accuracy  0.579530"
      ]
     },
     "execution_count": 88,
     "metadata": {},
     "output_type": "execute_result"
    }
   ],
   "source": [
    "from sklearn.metrics import roc_auc_score, precision_score, recall_score, f1_score, accuracy_score\n",
    "\n",
    "# Probabilidades para calcular el AUC\n",
    "auc_xgb_opt = roc_auc_score(y_test, y_prob_xgb_red)  \n",
    "\n",
    "# Predicciones ajustadas al punto de corte óptimo para las demás métricas\n",
    "precision_xgb_opt = precision_score(y_test, y_pred_optimal_xgb_red)\n",
    "recall_xgb_opt = recall_score(y_test, y_pred_optimal_xgb_red)\n",
    "f1_xgb_opt = f1_score(y_test, y_pred_optimal_xgb_red)\n",
    "accuracy_xgb_opt = accuracy_score(y_test, y_pred_optimal_xgb_red)\n",
    "\n",
    "# Crear un DataFrame con los resultados de las métricas\n",
    "summary_stats = {\n",
    "    'Métrica': ['AUC', 'Precisión', 'Recall', 'F1-Score', 'Accuracy'],\n",
    "    'Valor': [auc_xgb_opt, precision_xgb_opt, recall_xgb_opt, f1_xgb_opt, accuracy_xgb_opt]\n",
    "}\n",
    "\n",
    "summary_df = pd.DataFrame(summary_stats)\n",
    "summary_df\n"
   ]
  },
  {
   "cell_type": "code",
   "execution_count": 89,
   "id": "fd1a4cd7",
   "metadata": {},
   "outputs": [
    {
     "data": {
      "text/html": [
       "<div>\n",
       "<style scoped>\n",
       "    .dataframe tbody tr th:only-of-type {\n",
       "        vertical-align: middle;\n",
       "    }\n",
       "\n",
       "    .dataframe tbody tr th {\n",
       "        vertical-align: top;\n",
       "    }\n",
       "\n",
       "    .dataframe thead th {\n",
       "        text-align: right;\n",
       "    }\n",
       "</style>\n",
       "<table border=\"1\" class=\"dataframe\">\n",
       "  <thead>\n",
       "    <tr style=\"text-align: right;\">\n",
       "      <th></th>\n",
       "      <th>AUC</th>\n",
       "      <th>Precision</th>\n",
       "      <th>Recall</th>\n",
       "      <th>F1-score</th>\n",
       "      <th>Accuracy</th>\n",
       "    </tr>\n",
       "  </thead>\n",
       "  <tbody>\n",
       "    <tr>\n",
       "      <th>0</th>\n",
       "      <td>0.708</td>\n",
       "      <td>0.075</td>\n",
       "      <td>0.779</td>\n",
       "      <td>0.138</td>\n",
       "      <td>0.58</td>\n",
       "    </tr>\n",
       "  </tbody>\n",
       "</table>\n",
       "</div>"
      ],
      "text/plain": [
       "     AUC  Precision  Recall  F1-score  Accuracy\n",
       "0  0.708      0.075   0.779     0.138      0.58"
      ]
     },
     "execution_count": 89,
     "metadata": {},
     "output_type": "execute_result"
    }
   ],
   "source": [
    "metrics_xgb_red_calib = {\n",
    "    'AUC': [auc_xgb_opt],\n",
    "    'Precision': [precision_xgb_opt],\n",
    "    'Recall': [recall_xgb_opt],\n",
    "    'F1-score': [f1_xgb_opt],\n",
    "    'Accuracy': [accuracy_xgb_opt]\n",
    "}\n",
    "\n",
    "metrics_df_xgb_red_calib = pd.DataFrame(metrics_xgb_red_calib)\n",
    "metrics_df_xgb_red_calib = metrics_df_xgb_red_calib.round(3)\n",
    "metrics_df_xgb_red_calib\n"
   ]
  },
  {
   "cell_type": "code",
   "execution_count": 90,
   "id": "26d9b5c4",
   "metadata": {},
   "outputs": [
    {
     "data": {
      "text/html": [
       "<div>\n",
       "<style scoped>\n",
       "    .dataframe tbody tr th:only-of-type {\n",
       "        vertical-align: middle;\n",
       "    }\n",
       "\n",
       "    .dataframe tbody tr th {\n",
       "        vertical-align: top;\n",
       "    }\n",
       "\n",
       "    .dataframe thead th {\n",
       "        text-align: right;\n",
       "    }\n",
       "</style>\n",
       "<table border=\"1\" class=\"dataframe\">\n",
       "  <thead>\n",
       "    <tr style=\"text-align: right;\">\n",
       "      <th></th>\n",
       "      <th>Métrica</th>\n",
       "      <th>Corte Arbitrario (0.5)</th>\n",
       "      <th>Corte Óptimo</th>\n",
       "    </tr>\n",
       "  </thead>\n",
       "  <tbody>\n",
       "    <tr>\n",
       "      <th>0</th>\n",
       "      <td>AUC</td>\n",
       "      <td>0.708487</td>\n",
       "      <td>0.708487</td>\n",
       "    </tr>\n",
       "    <tr>\n",
       "      <th>1</th>\n",
       "      <td>Precisión</td>\n",
       "      <td>0.000000</td>\n",
       "      <td>0.075455</td>\n",
       "    </tr>\n",
       "    <tr>\n",
       "      <th>2</th>\n",
       "      <td>Recall</td>\n",
       "      <td>0.000000</td>\n",
       "      <td>0.779197</td>\n",
       "    </tr>\n",
       "    <tr>\n",
       "      <th>3</th>\n",
       "      <td>F1-Score</td>\n",
       "      <td>0.000000</td>\n",
       "      <td>0.137587</td>\n",
       "    </tr>\n",
       "    <tr>\n",
       "      <th>4</th>\n",
       "      <td>Accuracy</td>\n",
       "      <td>0.956249</td>\n",
       "      <td>0.579530</td>\n",
       "    </tr>\n",
       "    <tr>\n",
       "      <th>5</th>\n",
       "      <td>KS</td>\n",
       "      <td>0.349746</td>\n",
       "      <td>0.349746</td>\n",
       "    </tr>\n",
       "  </tbody>\n",
       "</table>\n",
       "</div>"
      ],
      "text/plain": [
       "     Métrica  Corte Arbitrario (0.5)  Corte Óptimo\n",
       "0        AUC                0.708487      0.708487\n",
       "1  Precisión                0.000000      0.075455\n",
       "2     Recall                0.000000      0.779197\n",
       "3   F1-Score                0.000000      0.137587\n",
       "4   Accuracy                0.956249      0.579530\n",
       "5         KS                0.349746      0.349746"
      ]
     },
     "execution_count": 90,
     "metadata": {},
     "output_type": "execute_result"
    }
   ],
   "source": [
    "import xgboost as xgb\n",
    "import pandas as pd\n",
    "from sklearn.metrics import roc_auc_score, precision_score, recall_score, f1_score, accuracy_score, confusion_matrix\n",
    "from sklearn.metrics import roc_curve\n",
    "from scipy.stats import ks_2samp\n",
    "import numpy as np\n",
    "\n",
    "xgb_model_red = xgb.XGBClassifier()\n",
    "xgb_model_red.fit(X_train_reducido, y_train)\n",
    "\n",
    "y_prob_xgb_red = xgb_model_red.predict_proba(X_test_reducido)[:, 1]\n",
    "\n",
    "# punto de corte arbitrario (0.5)\n",
    "y_pred_arbitrario_xgb_red = (y_prob_xgb_red >= 0.5).astype(int)\n",
    "y_pred_arbitrario_xgb_red = xgb_model_red.predict(X_test_reducido).astype(int)\n",
    "\n",
    "auc_xgb_red = roc_auc_score(y_test, y_prob_xgb_red)\n",
    "\n",
    "def calculate_ks(y_real, y_pred):\n",
    "    class0 = y_pred[y_real == 0]\n",
    "    class1 = y_pred[y_real == 1]\n",
    "    ks = ks_2samp(class0, class1).statistic\n",
    "    return ks\n",
    "\n",
    "ks_arbitrario = calculate_ks(y_test, y_prob_xgb_red)\n",
    "\n",
    "\n",
    "precision_arbitrario = precision_score(y_test, y_pred_arbitrario_xgb_red)\n",
    "recall_arbitrario = recall_score(y_test, y_pred_arbitrario_xgb_red)\n",
    "f1_arbitrario = f1_score(y_test, y_pred_arbitrario_xgb_red)\n",
    "accuracy_arbitrario = accuracy_score(y_test, y_pred_arbitrario_xgb_red)\n",
    "\n",
    "#punto de corte óptimo\n",
    "fpr_xgb_red, tpr_xgb_red, thresholds_xgb_red = roc_curve(y_test, y_prob_xgb_red)\n",
    "youden_index_xgb_red = tpr_xgb_red - fpr_xgb_red\n",
    "optimal_threshold_index_xgb_red = np.argmax(youden_index_xgb_red)\n",
    "optimal_threshold_xgb_red = thresholds_xgb_red[optimal_threshold_index_xgb_red]\n",
    "\n",
    "y_pred_optimal_xgb_red = (y_prob_xgb_red >= optimal_threshold_xgb_red).astype(int)\n",
    "\n",
    "ks_optimal = calculate_ks(y_test, y_pred_optimal_xgb_red)\n",
    "\n",
    "precision_optimal = precision_score(y_test, y_pred_optimal_xgb_red)\n",
    "recall_optimal = recall_score(y_test, y_pred_optimal_xgb_red)\n",
    "f1_optimal = f1_score(y_test, y_pred_optimal_xgb_red)\n",
    "accuracy_optimal = accuracy_score(y_test, y_pred_optimal_xgb_red)\n",
    "\n",
    "metrics_comparison = pd.DataFrame({\n",
    "    'Métrica': ['AUC', 'Precisión', 'Recall', 'F1-Score', 'Accuracy', 'KS'],\n",
    "    'Corte Arbitrario (0.5)': [auc_xgb_red, precision_arbitrario, recall_arbitrario, f1_arbitrario, accuracy_arbitrario, ks_arbitrario],\n",
    "    'Corte Óptimo': [auc_xgb_red, precision_optimal, recall_optimal, f1_optimal, accuracy_optimal, ks_optimal]\n",
    "})\n",
    "\n",
    "metrics_comparison"
   ]
  },
  {
   "cell_type": "code",
   "execution_count": 91,
   "id": "53e4296f",
   "metadata": {},
   "outputs": [
    {
     "data": {
      "text/plain": [
       "0.022433236"
      ]
     },
     "execution_count": 91,
     "metadata": {},
     "output_type": "execute_result"
    }
   ],
   "source": [
    "optimal_threshold_xgb_red"
   ]
  },
  {
   "cell_type": "code",
   "execution_count": 92,
   "id": "15f00a8a",
   "metadata": {},
   "outputs": [
    {
     "data": {
      "text/html": [
       "<div>\n",
       "<style scoped>\n",
       "    .dataframe tbody tr th:only-of-type {\n",
       "        vertical-align: middle;\n",
       "    }\n",
       "\n",
       "    .dataframe tbody tr th {\n",
       "        vertical-align: top;\n",
       "    }\n",
       "\n",
       "    .dataframe thead th {\n",
       "        text-align: right;\n",
       "    }\n",
       "</style>\n",
       "<table border=\"1\" class=\"dataframe\">\n",
       "  <thead>\n",
       "    <tr style=\"text-align: right;\">\n",
       "      <th></th>\n",
       "      <th>Variable Original</th>\n",
       "      <th>Importance</th>\n",
       "    </tr>\n",
       "  </thead>\n",
       "  <tbody>\n",
       "    <tr>\n",
       "      <th>15</th>\n",
       "      <td>recencia_CompraNormal</td>\n",
       "      <td>6.898606</td>\n",
       "    </tr>\n",
       "    <tr>\n",
       "      <th>9</th>\n",
       "      <td>frecuencia_CompraNormal</td>\n",
       "      <td>5.363791</td>\n",
       "    </tr>\n",
       "    <tr>\n",
       "      <th>14</th>\n",
       "      <td>recencia</td>\n",
       "      <td>2.821995</td>\n",
       "    </tr>\n",
       "    <tr>\n",
       "      <th>0</th>\n",
       "      <td>Cant_Trx_Mes</td>\n",
       "      <td>2.726672</td>\n",
       "    </tr>\n",
       "    <tr>\n",
       "      <th>11</th>\n",
       "      <td>monetario</td>\n",
       "      <td>2.447959</td>\n",
       "    </tr>\n",
       "    <tr>\n",
       "      <th>6</th>\n",
       "      <td>Monto_Trx_Promedio</td>\n",
       "      <td>2.360185</td>\n",
       "    </tr>\n",
       "    <tr>\n",
       "      <th>1</th>\n",
       "      <td>Cant_Trx_Normal_Mes</td>\n",
       "      <td>2.354630</td>\n",
       "    </tr>\n",
       "    <tr>\n",
       "      <th>2</th>\n",
       "      <td>LimiteCredito</td>\n",
       "      <td>2.320813</td>\n",
       "    </tr>\n",
       "    <tr>\n",
       "      <th>3</th>\n",
       "      <td>Monto_Trx_Mes</td>\n",
       "      <td>2.316791</td>\n",
       "    </tr>\n",
       "    <tr>\n",
       "      <th>10</th>\n",
       "      <td>log_ingresos</td>\n",
       "      <td>2.276678</td>\n",
       "    </tr>\n",
       "    <tr>\n",
       "      <th>7</th>\n",
       "      <td>edad_solicitud</td>\n",
       "      <td>2.210492</td>\n",
       "    </tr>\n",
       "    <tr>\n",
       "      <th>8</th>\n",
       "      <td>frecuencia</td>\n",
       "      <td>2.208223</td>\n",
       "    </tr>\n",
       "    <tr>\n",
       "      <th>13</th>\n",
       "      <td>q_pagos_astraso</td>\n",
       "      <td>2.167061</td>\n",
       "    </tr>\n",
       "    <tr>\n",
       "      <th>5</th>\n",
       "      <td>Monto_Trx_Normal_Promedio</td>\n",
       "      <td>2.067897</td>\n",
       "    </tr>\n",
       "    <tr>\n",
       "      <th>4</th>\n",
       "      <td>Monto_Trx_Normal_Mes</td>\n",
       "      <td>2.036104</td>\n",
       "    </tr>\n",
       "    <tr>\n",
       "      <th>12</th>\n",
       "      <td>monetario_CompraNormal</td>\n",
       "      <td>1.999217</td>\n",
       "    </tr>\n",
       "  </tbody>\n",
       "</table>\n",
       "</div>"
      ],
      "text/plain": [
       "            Variable Original  Importance\n",
       "15      recencia_CompraNormal    6.898606\n",
       "9     frecuencia_CompraNormal    5.363791\n",
       "14                   recencia    2.821995\n",
       "0                Cant_Trx_Mes    2.726672\n",
       "11                  monetario    2.447959\n",
       "6          Monto_Trx_Promedio    2.360185\n",
       "1         Cant_Trx_Normal_Mes    2.354630\n",
       "2               LimiteCredito    2.320813\n",
       "3               Monto_Trx_Mes    2.316791\n",
       "10               log_ingresos    2.276678\n",
       "7              edad_solicitud    2.210492\n",
       "8                  frecuencia    2.208223\n",
       "13            q_pagos_astraso    2.167061\n",
       "5   Monto_Trx_Normal_Promedio    2.067897\n",
       "4        Monto_Trx_Normal_Mes    2.036104\n",
       "12     monetario_CompraNormal    1.999217"
      ]
     },
     "execution_count": 92,
     "metadata": {},
     "output_type": "execute_result"
    }
   ],
   "source": [
    "feature_importance = xgb_model_red.get_booster().get_score(importance_type='gain')\n",
    "\n",
    "importance_df = pd.DataFrame.from_dict(feature_importance, orient='index', columns=['Importance'])\n",
    "importance_df.index.name = 'Feature'\n",
    "importance_df.reset_index(inplace=True)\n",
    "\n",
    "categorical_features = {\n",
    "    'Canal_ingreso': [\n",
    "        'Canal_ingreso_Call Center', \n",
    "        'Canal_ingreso_Red', \n",
    "        'Canal_ingreso_Venta Digital'\n",
    "    ],\n",
    "    'departamento': [\n",
    "        'departamento_Artigas',\n",
    "        'departamento_Canelones',\n",
    "        'departamento_Cerro Largo',\n",
    "        'departamento_Colonia',\n",
    "        'departamento_Durazno',\n",
    "        'departamento_Flores',\n",
    "        'departamento_Florida',\n",
    "        'departamento_Lavalleja',\n",
    "        'departamento_Maldonado',\n",
    "        'departamento_Montevideo',\n",
    "        'departamento_Paysandú',\n",
    "        'departamento_Rivera',\n",
    "        'departamento_Rocha',\n",
    "        'departamento_Río Negro',\n",
    "        'departamento_Salto',\n",
    "        'departamento_San José',\n",
    "        'departamento_Soriano',\n",
    "        'departamento_Tacuarembó',\n",
    "        'departamento_Treinta y Tres'\n",
    "    ],\n",
    "    'sexo': [\n",
    "        'sexo_F',\n",
    "        'sexo_M'\n",
    "    ],\n",
    "    'vuelta_clases': [\n",
    "        'vuelta_clases_no',\n",
    "        'vuelta_clases_si'\n",
    "    ]\n",
    "}\n",
    "\n",
    "def map_original_variable(feature_name):\n",
    "    for original_var, one_hot_columns in categorical_features.items():\n",
    "        if feature_name in one_hot_columns:\n",
    "            return original_var\n",
    "    return feature_name\n",
    "\n",
    "importance_df['Variable Original'] = importance_df['Feature'].apply(map_original_variable)\n",
    "\n",
    "grouped_importance = importance_df.groupby('Variable Original')['Importance'].sum().reset_index()\n",
    "\n",
    "final_importance_df = grouped_importance.sort_values(by='Importance', ascending=False)\n",
    "final_importance_df"
   ]
  },
  {
   "cell_type": "code",
   "execution_count": 93,
   "id": "acc78b1c",
   "metadata": {},
   "outputs": [
    {
     "data": {
      "image/png": "[encoded data removed]",
      "text/plain": [
       "<Figure size 720x432 with 1 Axes>"
      ]
     },
     "metadata": {
      "needs_background": "light"
     },
     "output_type": "display_data"
    }
   ],
   "source": [
    "plt.figure(figsize=(10, 6))\n",
    "plt.barh(final_importance_df['Variable Original'], final_importance_df['Importance'])\n",
    "plt.xlabel('Importance')\n",
    "plt.ylabel('Variable Original')\n",
    "plt.title('Feature Importance')\n",
    "plt.gca().invert_yaxis()\n",
    "plt.show()"
   ]
  }
 ],
 "metadata": {
  "kernelspec": {
   "display_name": "Python 3 (ipykernel)",
   "language": "python",
   "name": "python3"
  },
  "language_info": {
   "codemirror_mode": {
    "name": "ipython",
    "version": 3
   },
   "file_extension": ".py",
   "mimetype": "text/x-python",
   "name": "python",
   "nbconvert_exporter": "python",
   "pygments_lexer": "ipython3",
   "version": "3.9.7"
  }
 },
 "nbformat": 4,
 "nbformat_minor": 5
}
